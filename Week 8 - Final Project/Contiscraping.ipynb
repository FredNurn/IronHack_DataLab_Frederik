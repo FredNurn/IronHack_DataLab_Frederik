{
 "cells": [
  {
   "cell_type": "code",
   "execution_count": 1,
   "id": "1dcd418e-5e9c-4af6-9210-5141c9ce1749",
   "metadata": {},
   "outputs": [],
   "source": [
    "from bs4 import BeautifulSoup\n",
    "import requests\n",
    "import io\n",
    "import numpy as np\n",
    "import pandas as pd\n",
    "from time import sleep\n",
    "from random import randint\n",
    "import math\n",
    "import PyPDF2\n",
    "import mysql.connector\n",
    "import os\n",
    "import sys\n",
    "from datetime import date"
   ]
  },
  {
   "cell_type": "code",
   "execution_count": 2,
   "id": "1590b9c1-d003-4452-8d2a-fbe3875c910a",
   "metadata": {},
   "outputs": [],
   "source": [
    "def connect_server():\n",
    "    try:\n",
    "        connection = mysql.connector.connect(option_files=\"connection.ini\")\n",
    "    except mysql.connector.Error as err:\n",
    "        print(err.errno)\n",
    "    return connection"
   ]
  },
  {
   "cell_type": "code",
   "execution_count": 3,
   "id": "6793e48a-d66d-4563-83db-c90f85272665",
   "metadata": {},
   "outputs": [],
   "source": [
    "def disconnect_server(connection):\n",
    "    if connection.is_connected():\n",
    "        connection.close()"
   ]
  },
  {
   "cell_type": "code",
   "execution_count": 4,
   "id": "dff6cc5a-4e78-495e-9cd2-7c207cf88913",
   "metadata": {},
   "outputs": [],
   "source": [
    "def use_database(database,connection,cursor=None):\n",
    "    needcursor = cursor == None\n",
    "   \n",
    "    try:\n",
    "        if needcursor:\n",
    "            cursor = connection.cursor()\n",
    "            cursor.execute(f\"USE {database}\")\n",
    "            connection.commit()\n",
    "        if needcursor:\n",
    "            cursor.close()\n",
    "    \n",
    "    except mysql.connector.Error as err:\n",
    "        print(err.errno)"
   ]
  },
  {
   "cell_type": "code",
   "execution_count": 5,
   "id": "9cd1c6ea-b826-4271-bcd7-151a0426d6d2",
   "metadata": {},
   "outputs": [],
   "source": [
    "def retrieve_links ():\n",
    "    connection = connect_server()\n",
    "    cursor = connection.cursor()\n",
    "    use_database(\"automated_journalist\",connection)\n",
    "    \n",
    "    query = ('SELECT link FROM orig_article')\n",
    "    cursor.execute(query)\n",
    "    result = cursor.fetchall()\n",
    "    cursor.close()\n",
    "    disconnect_server(connection)\n",
    "    return result"
   ]
  },
  {
   "cell_type": "code",
   "execution_count": 6,
   "id": "c125fc18-1d5b-4a07-a3d9-0601d5ffdb71",
   "metadata": {},
   "outputs": [],
   "source": [
    "def count_entries ():\n",
    "    connection = connect_server()\n",
    "    cursor = connection.cursor()\n",
    "    use_database(\"automated_journalist\",connection)\n",
    "    \n",
    "    query = ('SELECT idorig_article FROM orig_article WHERE idorig_article IS NOT NULL')\n",
    "    cursor.execute(query)\n",
    "    result = cursor.fetchall()\n",
    "    cursor.close()\n",
    "    disconnect_server(connection)\n",
    "    return len(result)"
   ]
  },
  {
   "cell_type": "code",
   "execution_count": 7,
   "id": "58714a98-e775-40e2-b18b-1ff20d01c486",
   "metadata": {},
   "outputs": [
    {
     "data": {
      "text/plain": [
       "42"
      ]
     },
     "execution_count": 7,
     "metadata": {},
     "output_type": "execute_result"
    }
   ],
   "source": [
    "count_entries ()"
   ]
  },
  {
   "cell_type": "code",
   "execution_count": 8,
   "id": "2629ee23-8c96-4d0b-8ec2-6f1f8bc0f054",
   "metadata": {},
   "outputs": [],
   "source": [
    "existing_links= []\n",
    "for i in range(0,count_entries ()):\n",
    "    existing_links.append(retrieve_links()[i][0])"
   ]
  },
  {
   "cell_type": "markdown",
   "id": "0a020bca-22a0-4c8d-a40d-892c31a84ca4",
   "metadata": {},
   "source": [
    "SEAE"
   ]
  },
  {
   "cell_type": "code",
   "execution_count": 9,
   "id": "2ba94aa5-8715-469b-8fc3-8e7a83a44d52",
   "metadata": {},
   "outputs": [],
   "source": [
    "url1=\"https://agroecologia.net/noticias/\"\n",
    "response1 = requests.get(url1)\n",
    "soup1 = BeautifulSoup(response1.content, \"html.parser\")\n",
    "links1 =[]\n",
    "for link in soup1.select(\"#_posts_grid-271-1047580 > div.oxy-posts\")[0].find_all('a'):\n",
    "    links1.append(link.get('href'))\n",
    "new_links1=[]\n",
    "for link in links1:\n",
    "    if link not in existing_links:\n",
    "        new_links1.append(link)"
   ]
  },
  {
   "cell_type": "code",
   "execution_count": 10,
   "id": "1edd76b4-7296-4993-95e5-a5e9c853b0cf",
   "metadata": {},
   "outputs": [
    {
     "data": {
      "text/plain": [
       "['https://agroecologia.net/solicitamos-al-miteco-y-al-mapa-que-incorporen-la-produccion-ecologica-en-el-proximo-pniec/',\n",
       " 'https://agroecologia.net/3-talleres-nuevos-sobre-produccion-ecologica-en-la-provincia-de-valencia/',\n",
       " 'https://agroecologia.net/memoria-seae-2022-30-anos-impulsando-la-transicion-hacia-la-agroecologia/',\n",
       " 'https://agroecologia.net/camporrobles-acoge-una-jornada-sobre-titularidad-compartida-en-explotaciones-agrarias/']"
      ]
     },
     "execution_count": 10,
     "metadata": {},
     "output_type": "execute_result"
    }
   ],
   "source": [
    "new_links1"
   ]
  },
  {
   "cell_type": "code",
   "execution_count": 11,
   "id": "616764fb-90e4-426a-9a56-46c2b14cd596",
   "metadata": {},
   "outputs": [],
   "source": [
    "new_article1=[]\n",
    "for link in new_links1:\n",
    "    response = requests.get(link)\n",
    "    soup = BeautifulSoup(response.content, \"html.parser\")\n",
    "    new_article1.append(soup.select(\"#div_block-3-1047715\")[0].get_text(\"/\", strip=True))"
   ]
  },
  {
   "cell_type": "code",
   "execution_count": 12,
   "id": "b11d72fb-0b38-4971-8d7c-24986a23c01d",
   "metadata": {},
   "outputs": [],
   "source": [
    "source1 = []\n",
    "while len(source1)<len(new_links1):\n",
    "    source1.append(\"SEAE\")"
   ]
  },
  {
   "cell_type": "code",
   "execution_count": 13,
   "id": "aa436b1f-310b-4560-86ba-01f3f6ad2d28",
   "metadata": {},
   "outputs": [],
   "source": [
    "country1 = []\n",
    "while len(country1)<len(new_links1):\n",
    "   country1.append(\"Spain\")"
   ]
  },
  {
   "cell_type": "markdown",
   "id": "3d76d1af-b2fb-450d-87c1-81b431c2b9f8",
   "metadata": {},
   "source": [
    "Soil Association"
   ]
  },
  {
   "cell_type": "code",
   "execution_count": 14,
   "id": "fd283b5b-277f-40b5-a8fa-8d54ea44d842",
   "metadata": {},
   "outputs": [],
   "source": [
    "url2= \"https://www.soilassociation.org/certification/trade-news/\"\n",
    "response2 = requests.get(url2)\n",
    "soup2 = BeautifulSoup(response2.content, \"html.parser\")\n",
    "links2 =[]\n",
    "for link2 in soup2.select(\"#main > div.center-box > div.load-holder.blog-page > div > div.blog-landing-page\")[0].find_all('a', href=True):\n",
    "    links2.append((link2['href']))\n",
    "links2=[ links2 for links2 in links2 if \"/\" in links2 ]\n",
    "links2=[ \"https://www.soilassociation.org\"+ links2 for links2 in links2 if \"tag\" not in links2 ]\n",
    "new_links2=[]\n",
    "for link in links2:\n",
    "    if link not in existing_links:\n",
    "        new_links2.append(link)\n"
   ]
  },
  {
   "cell_type": "code",
   "execution_count": 15,
   "id": "bc6cbf7c-4724-4398-8b82-7c1e965be6fb",
   "metadata": {},
   "outputs": [],
   "source": [
    "new_article2=[]\n",
    "for link in new_links2:\n",
    "    response = requests.get(link)\n",
    "    soup = BeautifulSoup(response.content, \"html.parser\")\n",
    "    new_article2.append(soup.select(\"#content > div.landing-content\")[0].get_text(\"/\", strip=True))"
   ]
  },
  {
   "cell_type": "code",
   "execution_count": 16,
   "id": "486f7f3e-f9c1-4eab-82ef-608789334edb",
   "metadata": {},
   "outputs": [],
   "source": [
    "source2 = []\n",
    "while len(source2)<len(new_links2):\n",
    "    source2.append(\"Soil association\")"
   ]
  },
  {
   "cell_type": "code",
   "execution_count": 17,
   "id": "dda9727f-3196-475f-bfb3-fc19245a7c3c",
   "metadata": {},
   "outputs": [],
   "source": [
    "country2 = []\n",
    "while len(country2)<len(new_links2):\n",
    "    country2.append(\"UK\")"
   ]
  },
  {
   "cell_type": "markdown",
   "id": "d66b3dbb-2a2a-40d5-9272-c3073bcd0d2f",
   "metadata": {},
   "source": [
    "BNN"
   ]
  },
  {
   "cell_type": "code",
   "execution_count": 18,
   "id": "d96fc692-a4e3-4438-b6e8-0a8851ed5ea0",
   "metadata": {},
   "outputs": [],
   "source": [
    "url3= \"https://n-bnn.de/presse-medien/pressemitteilungen\"\n",
    "response3 = requests.get(url3)\n",
    "soup3 = BeautifulSoup(response3.content, \"html.parser\")\n",
    "links3 =[]\n",
    "for link in soup3.select(\"#filterlist\")[0].find_all('a', href=True):\n",
    "        links3.append(\"https://n-bnn.de\"+link.get('href'))\n",
    "del links3[5:]\n",
    "new_links3=[]\n",
    "for link in links3:\n",
    "    if link not in existing_links:\n",
    "        new_links3.append(link)\n"
   ]
  },
  {
   "cell_type": "code",
   "execution_count": 19,
   "id": "0060bed6-bac0-4ed9-9dbc-396c415abdab",
   "metadata": {},
   "outputs": [],
   "source": [
    "new_article3=[]\n",
    "for link in new_links3:\n",
    "    response = requests.get(link)\n",
    "    soup = BeautifulSoup(response.content, \"html.parser\")\n",
    "    new_article3.append(soup.select(\"#wrapper > div.news.news-single > div\")[0].get_text(\"/\", strip=True))"
   ]
  },
  {
   "cell_type": "code",
   "execution_count": 20,
   "id": "3b22f2e9-0136-4ac6-855e-ae6c5b2d4298",
   "metadata": {},
   "outputs": [],
   "source": [
    "source3 = []\n",
    "while len(source3)<len(new_links3):\n",
    "    source3.append(\"BNN\")"
   ]
  },
  {
   "cell_type": "code",
   "execution_count": 21,
   "id": "b5514ce9-9323-4e16-8eba-1c16808a4077",
   "metadata": {},
   "outputs": [],
   "source": [
    "country3 = []\n",
    "while len(country3)<len(new_links3):\n",
    "    country3.append(\"Germany\")"
   ]
  },
  {
   "cell_type": "markdown",
   "id": "ec5e1488-bbd2-49d7-b8ea-4d9e709d5b95",
   "metadata": {},
   "source": [
    "Agence Bio"
   ]
  },
  {
   "cell_type": "code",
   "execution_count": 22,
   "id": "c0652068-077a-4d75-9ef8-74d477f30ac1",
   "metadata": {},
   "outputs": [],
   "source": [
    "url4=\"https://www.agencebio.org/vos-outils/communication-2/communiques-de-presse/\"\n",
    "response4 = requests.get(url4)\n",
    "soup4 = BeautifulSoup(response4.content, \"html.parser\")\n",
    "links4=[]\n",
    "for link in soup4.select(\"#post-5151 > div > div > div > div > section.elementor-section.elementor-top-section.elementor-element.elementor-element-5073814a.elementor-section-boxed.elementor-section-height-default.elementor-section-height-default > div > div > div > div > div > div > div > div\")[0].find_all('a', href=True):\n",
    "        links4.append(link.get('href'))\n",
    "del links4[10:]\n",
    "new_links4=[]\n",
    "for link in links4:\n",
    "    if link not in existing_links:\n",
    "        new_links4.append(link)"
   ]
  },
  {
   "cell_type": "code",
   "execution_count": 23,
   "id": "2b803653-8dc4-4e4e-9bdc-dbb821799492",
   "metadata": {},
   "outputs": [],
   "source": [
    "new_article4=[]\n",
    "for link in new_links4:\n",
    "    response = requests.get(link)\n",
    "    reader = PyPDF2.PdfReader(io.BytesIO(response.content))\n",
    "    text = reader.pages[0].extract_text()\n",
    "    new_article4.append(' '.join(text.split()))"
   ]
  },
  {
   "cell_type": "code",
   "execution_count": 24,
   "id": "ef712da6-83b5-48a0-af51-9d968fdd7309",
   "metadata": {},
   "outputs": [],
   "source": [
    "source4 = []\n",
    "while len(source4)<len(new_links4):\n",
    "    source4.append(\"L'Agence BIO\")"
   ]
  },
  {
   "cell_type": "code",
   "execution_count": 25,
   "id": "11671451-824f-41a9-8b40-26011242b509",
   "metadata": {},
   "outputs": [],
   "source": [
    "country4 = []\n",
    "while len(country4)<len(new_links4):\n",
    "    country4.append(\"France\")"
   ]
  },
  {
   "cell_type": "markdown",
   "id": "76ab419a-5c34-4d4c-9907-cdf83e305ebd",
   "metadata": {},
   "source": [
    "IFOAM"
   ]
  },
  {
   "cell_type": "code",
   "execution_count": 26,
   "id": "663e2d42-0bef-437c-9c8b-2d270f5c34a0",
   "metadata": {},
   "outputs": [],
   "source": [
    "url5=\"https://www.organicseurope.bio/library/?qterms=7&qyears=&qtopics=\"\n",
    "response5 = requests.get(url5)\n",
    "soup5 = BeautifulSoup(response5.content, \"html.parser\")\n",
    "links5 =[]\n",
    "for link in soup5.select(\"#pagewrap > article > div > div.library-list\")[0].find_all('a', href=True):\n",
    "    links5.append(link.get('href'))\n",
    "links5 = [ links5 for links5 in links5 if \"qtopics\" not in links5 ]\n",
    "links5 = list(dict.fromkeys(links5))\n",
    "del links5[10:]\n",
    "new_links5=[]\n",
    "for link in links5:\n",
    "    if link not in existing_links:\n",
    "        new_links5.append(link)\n"
   ]
  },
  {
   "cell_type": "code",
   "execution_count": 27,
   "id": "10676dca-f3bb-47bb-a14c-0cebc8bada20",
   "metadata": {},
   "outputs": [],
   "source": [
    "new_article5 = []\n",
    "for link in new_links5:\n",
    "    response = requests.get(link)\n",
    "    reader = PyPDF2.PdfReader(io.BytesIO(response.content))\n",
    "    text=reader.pages[0].extract_text()\n",
    "    new_article5.append(' '.join(text.split()))"
   ]
  },
  {
   "cell_type": "code",
   "execution_count": 28,
   "id": "ebcd73b7-a87b-4e6e-9e9d-288698716688",
   "metadata": {},
   "outputs": [],
   "source": [
    "source5 = []\n",
    "while len(source5)<len(new_links5):\n",
    "    source5.append(\"IFOAM EU\")"
   ]
  },
  {
   "cell_type": "code",
   "execution_count": 29,
   "id": "10f7b63a-89d6-4e46-b438-418c549a45d8",
   "metadata": {},
   "outputs": [],
   "source": [
    "country5 = []\n",
    "while len(country5)<len(new_links5):\n",
    "    country5.append(\"EU\")"
   ]
  },
  {
   "cell_type": "markdown",
   "id": "e6f4a2aa-b1ba-448d-b694-6c95c830d44d",
   "metadata": {},
   "source": [
    "Dataframe"
   ]
  },
  {
   "cell_type": "code",
   "execution_count": 30,
   "id": "d562cfc0-aed2-40d9-9198-e7e85e366896",
   "metadata": {},
   "outputs": [
    {
     "data": {
      "text/html": [
       "<div>\n",
       "<style scoped>\n",
       "    .dataframe tbody tr th:only-of-type {\n",
       "        vertical-align: middle;\n",
       "    }\n",
       "\n",
       "    .dataframe tbody tr th {\n",
       "        vertical-align: top;\n",
       "    }\n",
       "\n",
       "    .dataframe thead th {\n",
       "        text-align: right;\n",
       "    }\n",
       "</style>\n",
       "<table border=\"1\" class=\"dataframe\">\n",
       "  <thead>\n",
       "    <tr style=\"text-align: right;\">\n",
       "      <th></th>\n",
       "      <th>articles</th>\n",
       "      <th>country</th>\n",
       "      <th>source</th>\n",
       "      <th>links</th>\n",
       "    </tr>\n",
       "  </thead>\n",
       "  <tbody>\n",
       "    <tr>\n",
       "      <th>0</th>\n",
       "      <td>Solicitamos al MITECO y al MAPA que incorporen...</td>\n",
       "      <td>Spain</td>\n",
       "      <td>SEAE</td>\n",
       "      <td>https://agroecologia.net/solicitamos-al-miteco...</td>\n",
       "    </tr>\n",
       "    <tr>\n",
       "      <th>1</th>\n",
       "      <td>3 talleres nuevos sobre producción ecológica e...</td>\n",
       "      <td>Spain</td>\n",
       "      <td>SEAE</td>\n",
       "      <td>https://agroecologia.net/3-talleres-nuevos-sob...</td>\n",
       "    </tr>\n",
       "    <tr>\n",
       "      <th>2</th>\n",
       "      <td>MEMORIA SEAE 2022: 30 años impulsando la trans...</td>\n",
       "      <td>Spain</td>\n",
       "      <td>SEAE</td>\n",
       "      <td>https://agroecologia.net/memoria-seae-2022-30-...</td>\n",
       "    </tr>\n",
       "    <tr>\n",
       "      <th>3</th>\n",
       "      <td>Camporrobles acoge una jornada sobre TITULARID...</td>\n",
       "      <td>Spain</td>\n",
       "      <td>SEAE</td>\n",
       "      <td>https://agroecologia.net/el-laboratorio-enogas...</td>\n",
       "    </tr>\n",
       "  </tbody>\n",
       "</table>\n",
       "</div>"
      ],
      "text/plain": [
       "                                            articles country source  \\\n",
       "0  Solicitamos al MITECO y al MAPA que incorporen...   Spain   SEAE   \n",
       "1  3 talleres nuevos sobre producción ecológica e...   Spain   SEAE   \n",
       "2  MEMORIA SEAE 2022: 30 años impulsando la trans...   Spain   SEAE   \n",
       "3  Camporrobles acoge una jornada sobre TITULARID...   Spain   SEAE   \n",
       "\n",
       "                                               links  \n",
       "0  https://agroecologia.net/solicitamos-al-miteco...  \n",
       "1  https://agroecologia.net/3-talleres-nuevos-sob...  \n",
       "2  https://agroecologia.net/memoria-seae-2022-30-...  \n",
       "3  https://agroecologia.net/el-laboratorio-enogas...  "
      ]
     },
     "execution_count": 30,
     "metadata": {},
     "output_type": "execute_result"
    }
   ],
   "source": [
    "article = new_article1 + new_article2 + new_article3 + new_article4 + new_article5\n",
    "source = source1 + source2 + source3 + source4 + source5\n",
    "country = country1 + country2 + country3 + country4 + country5\n",
    "links = links1 + links2 + links3 + links4 + links5\n",
    "articles_df = pd.DataFrame(list(zip(article,country,source,links)),columns = [\"articles\",\"country\",\"source\",\"links\"])\n",
    "articles_df"
   ]
  },
  {
   "cell_type": "code",
   "execution_count": 31,
   "id": "54b2ed05-241a-4bd3-9f47-9de24c63de8e",
   "metadata": {},
   "outputs": [
    {
     "data": {
      "text/plain": [
       "'https://agroecologia.net/memoria-seae-2022-30-anos-impulsando-la-transicion-hacia-la-agroecologia/'"
      ]
     },
     "execution_count": 31,
     "metadata": {},
     "output_type": "execute_result"
    }
   ],
   "source": [
    "articles_df[\"links\"][2]"
   ]
  },
  {
   "cell_type": "code",
   "execution_count": 32,
   "id": "56af962a-e53c-47a7-be71-914d7b85d118",
   "metadata": {},
   "outputs": [],
   "source": [
    "def connect_server():\n",
    "    try:\n",
    "        connection = mysql.connector.connect(option_files=\"connection.ini\")\n",
    "    except mysql.connector.Error as err:\n",
    "        print(err.errno)\n",
    "    return connection"
   ]
  },
  {
   "cell_type": "code",
   "execution_count": 33,
   "id": "a7675220-cbd5-4d46-b4a7-6641fc250483",
   "metadata": {},
   "outputs": [],
   "source": [
    "def disconnect_server(connection):\n",
    "    if connection.is_connected():\n",
    "        connection.close()"
   ]
  },
  {
   "cell_type": "code",
   "execution_count": 34,
   "id": "6b125128-3a2a-4ea5-a7ad-c28020906260",
   "metadata": {},
   "outputs": [],
   "source": [
    "def use_database(database,connection,cursor=None):\n",
    "    needcursor = cursor == None\n",
    "   \n",
    "    try:\n",
    "        if needcursor:\n",
    "            cursor = connection.cursor()\n",
    "            cursor.execute(f\"USE {database}\")\n",
    "            connection.commit()\n",
    "        if needcursor:\n",
    "            cursor.close()\n",
    "    \n",
    "    except mysql.connector.Error as err:\n",
    "        print(err.errno)"
   ]
  },
  {
   "cell_type": "markdown",
   "id": "4003ed51-071d-4203-8c4f-dea6c934726b",
   "metadata": {},
   "source": [
    "Check for new country"
   ]
  },
  {
   "cell_type": "code",
   "execution_count": 35,
   "id": "d1e296fa-6dd2-48ad-b4d8-4c1dcd798f93",
   "metadata": {},
   "outputs": [],
   "source": [
    "def count_countries ():\n",
    "    connection = connect_server()\n",
    "    cursor = connection.cursor()\n",
    "    use_database(\"automated_journalist\",connection)\n",
    "    \n",
    "    query = ('SELECT idcountry FROM country WHERE idcountry IS NOT NULL')\n",
    "    cursor.execute(query)\n",
    "    result = cursor.fetchall()\n",
    "    cursor.close()\n",
    "    disconnect_server(connection)\n",
    "    return len(result)"
   ]
  },
  {
   "cell_type": "code",
   "execution_count": 36,
   "id": "76a61666-880c-4408-9c21-c3e51a72d7ec",
   "metadata": {},
   "outputs": [],
   "source": [
    "def retrieve_countries ():\n",
    "    connection = connect_server()\n",
    "    cursor = connection.cursor()\n",
    "    use_database(\"automated_journalist\",connection)\n",
    "    \n",
    "    query = ('SELECT country_name FROM country')\n",
    "    cursor.execute(query)\n",
    "    result = cursor.fetchall()\n",
    "    cursor.close()\n",
    "    disconnect_server(connection)\n",
    "    return result"
   ]
  },
  {
   "cell_type": "code",
   "execution_count": 37,
   "id": "2a4fdcae-f6e6-4438-9287-e9dcd6816187",
   "metadata": {},
   "outputs": [],
   "source": [
    "def insert_country (entry):\n",
    "    connection = connect_server()\n",
    "    cursor = connection.cursor()\n",
    "    use_database(\"automated_journalist\",connection)\n",
    "    \n",
    "    add_entry = (\"INSERT INTO country (country_name) VALUES (%s)\")\n",
    "    data_entry = ([entry])\n",
    "    cursor.execute(add_entry, data_entry)\n",
    "    connection.commit()\n",
    "    cursor.close()\n",
    "    disconnect_server(connection)"
   ]
  },
  {
   "cell_type": "code",
   "execution_count": 38,
   "id": "dc57c23e-966f-432d-b1b4-357fc0747fb3",
   "metadata": {},
   "outputs": [],
   "source": [
    "existing_countries= []\n",
    "for i in range(0,count_countries ()):\n",
    "    existing_countries.append(retrieve_countries ()[i][0])"
   ]
  },
  {
   "cell_type": "code",
   "execution_count": 39,
   "id": "2b65718c-baf0-4908-985a-11b2df725de0",
   "metadata": {},
   "outputs": [],
   "source": [
    "new_countries=[]\n",
    "for i in country:\n",
    "    if i not in existing_countries:\n",
    "        new_countries.append(i)"
   ]
  },
  {
   "cell_type": "code",
   "execution_count": 40,
   "id": "2604e1c2-06fb-43be-a6e4-42aeb1243868",
   "metadata": {},
   "outputs": [],
   "source": [
    "new_countries=list(dict.fromkeys(new_countries))"
   ]
  },
  {
   "cell_type": "code",
   "execution_count": 41,
   "id": "d22da707-9fb7-4a7b-8abd-d05b5c503f2b",
   "metadata": {},
   "outputs": [],
   "source": [
    "for country in new_countries:\n",
    "    insert_country(country)"
   ]
  },
  {
   "cell_type": "markdown",
   "id": "97051d07-4990-4ec3-8caf-7163e09ca74f",
   "metadata": {},
   "source": [
    "Check for new source"
   ]
  },
  {
   "cell_type": "code",
   "execution_count": 42,
   "id": "3d5595f4-af2e-439e-b014-5c7a0e41b01d",
   "metadata": {},
   "outputs": [],
   "source": [
    "def count_sources ():\n",
    "    connection = connect_server()\n",
    "    cursor = connection.cursor()\n",
    "    use_database(\"automated_journalist\",connection)\n",
    "    \n",
    "    query = ('SELECT idsource FROM source WHERE idsource IS NOT NULL')\n",
    "    cursor.execute(query)\n",
    "    result = cursor.fetchall()\n",
    "    cursor.close()\n",
    "    disconnect_server(connection)\n",
    "    return len(result)"
   ]
  },
  {
   "cell_type": "code",
   "execution_count": 43,
   "id": "78b70ae4-3931-43ff-b99d-f4d32b931205",
   "metadata": {},
   "outputs": [],
   "source": [
    "def retrieve_sources ():\n",
    "    connection = connect_server()\n",
    "    cursor = connection.cursor()\n",
    "    use_database(\"automated_journalist\",connection)\n",
    "    \n",
    "    query = ('SELECT source_name FROM source')\n",
    "    cursor.execute(query)\n",
    "    result = cursor.fetchall()\n",
    "    cursor.close()\n",
    "    disconnect_server(connection)\n",
    "    return result"
   ]
  },
  {
   "cell_type": "code",
   "execution_count": 44,
   "id": "4b3a622a-850f-4b6e-93ee-4664158d5c44",
   "metadata": {},
   "outputs": [],
   "source": [
    "def insert_source (entry):\n",
    "    connection = connect_server()\n",
    "    cursor = connection.cursor()\n",
    "    use_database(\"automated_journalist\",connection)\n",
    "    \n",
    "    add_entry = (\"INSERT INTO country (country_name) VALUES (%s)\")\n",
    "    data_entry = ([entry])\n",
    "    cursor.execute(add_entry, data_entry)\n",
    "    connection.commit()\n",
    "    cursor.close()\n",
    "    disconnect_server(connection)"
   ]
  },
  {
   "cell_type": "code",
   "execution_count": 45,
   "id": "3ff2a75f-fd04-43ff-ae1f-ef48512b61d8",
   "metadata": {},
   "outputs": [],
   "source": [
    "existing_sources= []\n",
    "for i in range(0,count_sources ()):\n",
    "    existing_sources.append(retrieve_sources ()[i][0])"
   ]
  },
  {
   "cell_type": "code",
   "execution_count": 46,
   "id": "509034ab-1aa5-4766-9fb2-692f0cec9d8c",
   "metadata": {},
   "outputs": [],
   "source": [
    "new_sources=[]\n",
    "for i in source:\n",
    "    if i not in existing_sources:\n",
    "        new_sources.append(i)"
   ]
  },
  {
   "cell_type": "code",
   "execution_count": 47,
   "id": "5d855ddf-7cf6-4625-87d8-11abc4837877",
   "metadata": {},
   "outputs": [],
   "source": [
    "new_sources=list(dict.fromkeys(new_sources))"
   ]
  },
  {
   "cell_type": "code",
   "execution_count": 48,
   "id": "c5dcb516-ade7-496f-8857-7443d3baa0e0",
   "metadata": {},
   "outputs": [],
   "source": [
    "for source in new_sources:\n",
    "    insert_source (source)"
   ]
  },
  {
   "cell_type": "markdown",
   "id": "8923aed5-874a-4442-b4e9-9d32390396ec",
   "metadata": {},
   "source": [
    "Insert new articles"
   ]
  },
  {
   "cell_type": "code",
   "execution_count": 49,
   "id": "fbdede37-e1e7-4a29-9a23-df8cfb566738",
   "metadata": {},
   "outputs": [],
   "source": [
    "def retrieve_idsource (source_name):\n",
    "    connection = connect_server()\n",
    "    cursor = connection.cursor()\n",
    "    use_database(\"automated_journalist\",connection)\n",
    "    \n",
    "    query = ('SELECT idcountry FROM source WHERE source_name = %s')\n",
    "    val = ([source_name])\n",
    "    cursor.execute(query,val)\n",
    "    result = cursor.fetchall()\n",
    "    cursor.close()\n",
    "    disconnect_server(connection)\n",
    "    return result[0][0]"
   ]
  },
  {
   "cell_type": "code",
   "execution_count": 50,
   "id": "8a82d565-e0f7-49f9-a724-deb50f8de4e2",
   "metadata": {},
   "outputs": [],
   "source": [
    "def insert_article(article):  \n",
    "    connection = connect_server()\n",
    "    cursor = connection.cursor()\n",
    "    use_database(\"automated_journalist\",connection)\n",
    "    add_entry = (\"INSERT INTO orig_article (orig_article_text, link, idsource,scrape_date) VALUES (%s, %s, %s,%s)\")\n",
    "    data_entry = (article, articles_df.loc[articles_df['articles'] == article]['links'].iloc[0],\n",
    "                  retrieve_idsource (articles_df.loc[articles_df['articles'] == article]['source'].iloc[0]),\n",
    "                 date.today())\n",
    "    cursor.execute(add_entry, data_entry)\n",
    "    connection.commit()\n",
    "    cursor.close()\n",
    "    disconnect_server(connection)"
   ]
  },
  {
   "cell_type": "code",
   "execution_count": 51,
   "id": "4b2f5c93-dd15-4df8-a53d-5b30b49c9309",
   "metadata": {},
   "outputs": [],
   "source": [
    "articles = list(articles_df['articles'].unique())"
   ]
  },
  {
   "cell_type": "code",
   "execution_count": 52,
   "id": "d63ca5f0-b1e2-46f0-ac3c-f4d83b901e3f",
   "metadata": {},
   "outputs": [],
   "source": [
    "for article in articles:\n",
    "    insert_article(article)"
   ]
  }
 ],
 "metadata": {
  "kernelspec": {
   "display_name": "Python 3 (ipykernel)",
   "language": "python",
   "name": "python3"
  },
  "language_info": {
   "codemirror_mode": {
    "name": "ipython",
    "version": 3
   },
   "file_extension": ".py",
   "mimetype": "text/x-python",
   "name": "python",
   "nbconvert_exporter": "python",
   "pygments_lexer": "ipython3",
   "version": "3.9.13"
  }
 },
 "nbformat": 4,
 "nbformat_minor": 5
}
