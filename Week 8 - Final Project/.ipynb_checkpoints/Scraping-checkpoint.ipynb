{
 "cells": [
  {
   "cell_type": "code",
   "execution_count": 1,
   "id": "522d0e65-c6a4-47cc-8163-0e397540f2fa",
   "metadata": {},
   "outputs": [],
   "source": [
    "from bs4 import BeautifulSoup\n",
    "import requests\n",
    "import pandas as pd\n",
    "from time import sleep\n",
    "from random import randint\n",
    "import math"
   ]
  },
  {
   "cell_type": "markdown",
   "id": "e0b37629-179f-4646-89dc-4336ffca21d1",
   "metadata": {},
   "source": [
    "<h3>Scraping SEAE"
   ]
  },
  {
   "cell_type": "code",
   "execution_count": 3,
   "id": "f8f88ed6-c869-4cbe-a2c5-f96301e81984",
   "metadata": {},
   "outputs": [],
   "source": [
    "url=\"https://agroecologia.net/noticias/\""
   ]
  },
  {
   "cell_type": "code",
   "execution_count": 4,
   "id": "427423ad-bd35-4799-a5b6-c0c4f493e27f",
   "metadata": {},
   "outputs": [],
   "source": [
    "response = requests.get(url)"
   ]
  },
  {
   "cell_type": "code",
   "execution_count": 5,
   "id": "05b64e1e-f663-4908-8585-5fe69497d776",
   "metadata": {},
   "outputs": [
    {
     "data": {
      "text/plain": [
       "200"
      ]
     },
     "execution_count": 5,
     "metadata": {},
     "output_type": "execute_result"
    }
   ],
   "source": [
    "response.status_code"
   ]
  },
  {
   "cell_type": "code",
   "execution_count": 6,
   "id": "79a1361d-f121-432d-b5ac-1bc4bd3cd81b",
   "metadata": {},
   "outputs": [],
   "source": [
    "soup = BeautifulSoup(response.content, \"html.parser\")"
   ]
  },
  {
   "cell_type": "code",
   "execution_count": 41,
   "id": "3abf69c0-ba9b-4017-a39f-76b490e223e0",
   "metadata": {},
   "outputs": [
    {
     "data": {
      "text/plain": [
       "bs4.BeautifulSoup"
      ]
     },
     "execution_count": 41,
     "metadata": {},
     "output_type": "execute_result"
    }
   ],
   "source": [
    "type(soup)"
   ]
  },
  {
   "cell_type": "code",
   "execution_count": null,
   "id": "ba724fed-8772-4046-9041-bb91f385b088",
   "metadata": {},
   "outputs": [],
   "source": [
    "#_posts_grid-271-1047580"
   ]
  },
  {
   "cell_type": "code",
   "execution_count": null,
   "id": "0e2a145a-c0e5-411a-b73b-eeb21ac2b819",
   "metadata": {},
   "outputs": [],
   "source": [
    "#_posts_grid-271-1047580 > div.oxy-posts > a:nth-child(1)"
   ]
  },
  {
   "cell_type": "code",
   "execution_count": 57,
   "id": "17d73abc-b0a1-4cb9-896e-eb08db23f2c9",
   "metadata": {},
   "outputs": [],
   "source": [
    "links1 =[]\n",
    "for link in soup.select(\"#_posts_grid-271-1047580 > div.oxy-posts\")[0].find_all('a'):\n",
    "    links.append(link.get('href'))"
   ]
  },
  {
   "cell_type": "code",
   "execution_count": 80,
   "id": "33a6f8ee-1869-4a2c-ba45-9841053bf578",
   "metadata": {},
   "outputs": [
    {
     "data": {
      "text/plain": [
       "['https://agroecologia.net/espacio-abierto-como-ser-parte-de-la-transicion-agroecologica-y-no-morir-en-el-intento/',\n",
       " 'https://agroecologia.net/jornada-los-biodistritos-recorrido-utilidad-y-funcionalidad-para-el-desarrollo-rural/',\n",
       " 'https://agroecologia.net/manifiesto-por-una-produccion-agraria-ecologica-catalana-fuerte-y-reconocida/',\n",
       " 'https://agroecologia.net/en-marcha-el-mapa-de-sinergias-agroecologicas-de-la-serrania/',\n",
       " 'https://agroecologia.net/alianza-por-el-clima-participacion-pniec-seae/',\n",
       " 'https://agroecologia.net/programa-xxx-jornadas-tecnicas-seae-agroecologia-malaga/',\n",
       " 'https://agroecologia.net/la-plaga-de-los-plaguicidas-paremos-los-plaguicidas-industriales-por-nuestra-salud-y-la-del-planeta/',\n",
       " 'https://agroecologia.net/presenta-tu-iniciativa-agroecologica-en-lasxxx-jornadas-tecnicas-de-seae/',\n",
       " 'https://agroecologia.net/xxx-jornadas-tecnicas-seae-malaga-programa/',\n",
       " 'https://agroecologia.net/decalogo-foro-accion-rural-transicion-justa-medio-rural/']"
      ]
     },
     "execution_count": 80,
     "metadata": {},
     "output_type": "execute_result"
    }
   ],
   "source": [
    "links"
   ]
  },
  {
   "cell_type": "code",
   "execution_count": null,
   "id": "9f4e708f-5d77-4f7c-afc7-ae5185e229c0",
   "metadata": {},
   "outputs": [],
   "source": [
    "#div_block-3-1047715"
   ]
  },
  {
   "cell_type": "code",
   "execution_count": 73,
   "id": "e558c2d3-f62c-40d9-beca-e492ae304973",
   "metadata": {},
   "outputs": [],
   "source": [
    "source1 = []\n",
    "while len(source)<len(links):\n",
    "    source.append(\"SEAE\")"
   ]
  },
  {
   "cell_type": "code",
   "execution_count": 135,
   "id": "62fa6723-2f0a-4204-851b-13c1206f2951",
   "metadata": {},
   "outputs": [],
   "source": [
    "country1 = []\n",
    "while len(country)<len(links):\n",
    "   country1.append(\"Spain\")"
   ]
  },
  {
   "cell_type": "code",
   "execution_count": 66,
   "id": "6dc890f2-0191-41bb-a4af-fee1274403be",
   "metadata": {},
   "outputs": [],
   "source": [
    "article1=[]\n",
    "for link in links:\n",
    "    response2 = requests.get(link)\n",
    "    soup2 = BeautifulSoup(response2.content, \"html.parser\")\n",
    "    article.append(soup2.select(\"#div_block-3-1047715\")[0].get_text(\"/\", strip=True))\n",
    "    "
   ]
  },
  {
   "cell_type": "markdown",
   "id": "8589e866-ddf9-489b-bf09-7c01bef64c76",
   "metadata": {},
   "source": [
    "<h3>Scraping Soil association"
   ]
  },
  {
   "cell_type": "code",
   "execution_count": 100,
   "id": "fc50cd6a-13d7-4917-a154-64f224cee0db",
   "metadata": {},
   "outputs": [],
   "source": [
    "url= \"https://www.soilassociation.org/certification/trade-news/\""
   ]
  },
  {
   "cell_type": "code",
   "execution_count": 101,
   "id": "02905c07-dc24-47ee-a161-68e6e6bfd5d2",
   "metadata": {},
   "outputs": [
    {
     "data": {
      "text/plain": [
       "200"
      ]
     },
     "execution_count": 101,
     "metadata": {},
     "output_type": "execute_result"
    }
   ],
   "source": [
    "response = requests.get(url)\n",
    "response.status_code"
   ]
  },
  {
   "cell_type": "code",
   "execution_count": 102,
   "id": "a124d2f5-8159-4087-8b6d-61d7dfb60404",
   "metadata": {},
   "outputs": [],
   "source": [
    "soup = BeautifulSoup(response.content, \"html.parser\")"
   ]
  },
  {
   "cell_type": "code",
   "execution_count": null,
   "id": "ad7e75e5-6dd2-4185-938f-9e02e0ac280f",
   "metadata": {},
   "outputs": [],
   "source": [
    "#main > div.center-box > div.load-holder.blog-page > div > div.blog-landing-page > div.box.block.wide.same-height-left.same-height-right > article > div > a\n"
   ]
  },
  {
   "cell_type": "code",
   "execution_count": 137,
   "id": "6288cef1-4843-4ad1-bd81-0e1a34370c0c",
   "metadata": {},
   "outputs": [],
   "source": [
    "links2 =[]\n",
    "for link2 in soup.select(\"#main > div.center-box > div.load-holder.blog-page > div > div.blog-landing-page\")[0].find_all('a', href=True):\n",
    "    links2.append((link2['href']))\n",
    "links2=[ links2 for links2 in links2 if \"/\" in links2 ]\n",
    "links2=[ links2 for links2 in links2 if \"tag\" not in links2 ]"
   ]
  },
  {
   "cell_type": "code",
   "execution_count": 138,
   "id": "7102d5e7-1946-4136-a36e-d914df43ff81",
   "metadata": {},
   "outputs": [
    {
     "data": {
      "text/plain": [
       "['/certification/trade-news/2023/april/26/mastering-organic/',\n",
       " '/certification/trade-news/2023/april/4/the-climate-conversation-is-evolving-as-biodiversity-and-natural-capital-rise-up-the-agenda/',\n",
       " '/certification/trade-news/2023/feb/2/taking-the-biscuit-soil-associations-latest-citizen-campaign/',\n",
       " '/certification/trade-news/2023/jan/9/boom-awards-whats-next/',\n",
       " '/certification/trade-news/2022/november/28/get-dirty-for-nature-and-climate-this-world-soil-day/',\n",
       " '/certification/trade-news/2022/october/25/2023-organic-market-report-surveys/',\n",
       " '/certification/trade-news/2022/september/12/call-for-support-against-the-genetic-technologies-bill-4/']"
      ]
     },
     "execution_count": 138,
     "metadata": {},
     "output_type": "execute_result"
    }
   ],
   "source": [
    "links2"
   ]
  },
  {
   "cell_type": "code",
   "execution_count": 139,
   "id": "4f156d5a-3498-412e-843a-634c4f3f24b4",
   "metadata": {},
   "outputs": [],
   "source": [
    "country2 = []\n",
    "while len(country2)<len(links2):\n",
    "    country2.append(\"UK\")"
   ]
  },
  {
   "cell_type": "code",
   "execution_count": 140,
   "id": "2c50a8f3-c942-41f3-a2c4-612f8b6da5f3",
   "metadata": {},
   "outputs": [],
   "source": [
    "source2 = []\n",
    "while len(source2)<len(links2):\n",
    "    source2.append(\"Soil association\")"
   ]
  },
  {
   "cell_type": "code",
   "execution_count": 141,
   "id": "1b8ab524-e003-44f2-b69c-16c21e5c1ac3",
   "metadata": {},
   "outputs": [],
   "source": [
    "article2=[]\n",
    "for link in links2:\n",
    "    response2 = requests.get(\"https://www.soilassociation.org\"+link)\n",
    "    soup2 = BeautifulSoup(response2.content, \"html.parser\")\n",
    "    article2.append(soup2.select(\"#content > div.landing-content\")[0].get_text(\"/\", strip=True))"
   ]
  },
  {
   "cell_type": "markdown",
   "id": "64c4b584-e5d4-42e2-bf5e-fd7c614e5716",
   "metadata": {},
   "source": [
    "<h3>Scraping BNN"
   ]
  },
  {
   "cell_type": "code",
   "execution_count": 144,
   "id": "aa568af7-e7d7-4f59-8791-f5bc2db3ce78",
   "metadata": {},
   "outputs": [],
   "source": [
    "url= \"https://n-bnn.de/presse-medien/pressemitteilungen\""
   ]
  },
  {
   "cell_type": "code",
   "execution_count": 165,
   "id": "07d83208-add5-45bd-9730-8ebaa692c152",
   "metadata": {},
   "outputs": [
    {
     "data": {
      "text/plain": [
       "200"
      ]
     },
     "execution_count": 165,
     "metadata": {},
     "output_type": "execute_result"
    }
   ],
   "source": [
    "response = requests.get(url)\n",
    "soup = BeautifulSoup(response.content, \"html.parser\")\n",
    "response.status_code"
   ]
  },
  {
   "cell_type": "code",
   "execution_count": 190,
   "id": "a735f10d-0c82-4e0c-9d9e-56c3669dd778",
   "metadata": {},
   "outputs": [],
   "source": [
    "links3 =[]"
   ]
  },
  {
   "cell_type": "code",
   "execution_count": 191,
   "id": "185e8700-4b0a-4367-9e45-a9b93ad993b8",
   "metadata": {},
   "outputs": [],
   "source": [
    "for link in soup.select(\"#filterlist\")[0].find_all('a', href=True):\n",
    "        links3.append(link.get('href'))\n",
    "del links3[5:]"
   ]
  },
  {
   "cell_type": "code",
   "execution_count": 192,
   "id": "3e0d14b9-8469-499c-9c9b-cf42a41df0d3",
   "metadata": {},
   "outputs": [
    {
     "data": {
      "text/plain": [
       "['/presse-medien/pressemitteilungen/artikel/bio-branche-fordert-schadensausgleichsfonds-pestizide-verursachen-hohe-kosten',\n",
       " '/presse-medien/pressemitteilungen/artikel/bnn-marktdatenerhebung-2022-trotz-rekordinflation-kunden-bleiben-bio-fachhandel-2022-treu',\n",
       " '/presse-medien/pressemitteilungen/artikel/bnn-auf-der-biofach-spannende-veranstaltungen-zum-auftakt-des-jubilaeumsjahres-1',\n",
       " '/presse-medien/pressemitteilungen/artikel/bnn-begruesst-die-verschiebung-der-veroeffentlichung-des-entwurfs-der-green-claims-richtlinie-durch-die-eu-kommission',\n",
       " '/presse-medien/pressemitteilungen/artikel/bio-branche-der-planet-score-ist-fuer-uns-der-richtige-weg']"
      ]
     },
     "execution_count": 192,
     "metadata": {},
     "output_type": "execute_result"
    }
   ],
   "source": [
    "links3"
   ]
  },
  {
   "cell_type": "code",
   "execution_count": 188,
   "id": "c87193bf-b29d-477a-baba-d85bb4ee6ad8",
   "metadata": {},
   "outputs": [],
   "source": [
    "country3 = []\n",
    "while len(country3)<len(links3):\n",
    "    country2.append(\"Germany\")"
   ]
  },
  {
   "cell_type": "code",
   "execution_count": null,
   "id": "04819f20-56f1-4ead-87bd-79652e7828b5",
   "metadata": {},
   "outputs": [],
   "source": [
    "source3 = []\n",
    "while len(source3)<len(links3):\n",
    "    source2.append(\"BNN\")"
   ]
  },
  {
   "cell_type": "code",
   "execution_count": 199,
   "id": "35050367-70a4-4b07-ba5c-2c385f7391f4",
   "metadata": {},
   "outputs": [],
   "source": [
    "article3=[]\n",
    "for link in links3:\n",
    "    response3 = requests.get(\"https://n-bnn.de\"+link)\n",
    "    soup3 = BeautifulSoup(response3.content, \"html.parser\")\n",
    "    article3.append(soup3.select(\"#wrapper > div.news.news-single > div\")[0].get_text(\"/\", strip=True))"
   ]
  },
  {
   "cell_type": "markdown",
   "id": "1464aee4-9c3e-42e3-81b7-5017339892cf",
   "metadata": {},
   "source": [
    "<h3>Scraping IFOAM"
   ]
  },
  {
   "cell_type": "code",
   "execution_count": 233,
   "id": "a1e29aad-7849-4cdc-a9fc-a15edb8e8cd7",
   "metadata": {},
   "outputs": [],
   "source": [
    "url4=\"https://www.organicseurope.bio/library/?qterms=7&qyears=&qtopics=\""
   ]
  },
  {
   "cell_type": "code",
   "execution_count": 234,
   "id": "914df500-845b-4357-9155-d9c6e29b9247",
   "metadata": {},
   "outputs": [
    {
     "data": {
      "text/plain": [
       "200"
      ]
     },
     "execution_count": 234,
     "metadata": {},
     "output_type": "execute_result"
    }
   ],
   "source": [
    "response4 = requests.get(url4)\n",
    "soup4 = BeautifulSoup(response4.content, \"html.parser\")\n",
    "response4.status_code"
   ]
  },
  {
   "cell_type": "code",
   "execution_count": 235,
   "id": "a5e6300c-96cf-48f5-a1b7-6eb5235f6198",
   "metadata": {},
   "outputs": [],
   "source": [
    "links4 =[]"
   ]
  },
  {
   "cell_type": "code",
   "execution_count": 236,
   "id": "0d5c6b13-6b5f-4d59-b819-927ac3bb9bbb",
   "metadata": {},
   "outputs": [],
   "source": [
    "#pagewrap > article > div > div.library-list > div:nth-child(1) > div > h2 > a"
   ]
  },
  {
   "cell_type": "code",
   "execution_count": 241,
   "id": "6f755153-ede8-4e1c-b699-a256d78cd383",
   "metadata": {},
   "outputs": [],
   "source": [
    "for link in soup4.select(\"#pagewrap > article > div > div.library-list\")[0].find_all('a', href=True):\n",
    "    links4.append(link.get('href'))\n",
    "links4=[ links4 for links4 in links4 if \"qtopics\" not in links4 ]\n",
    "links4 = list(dict.fromkeys(links4))\n",
    "del links4[5:]"
   ]
  },
  {
   "cell_type": "code",
   "execution_count": 239,
   "id": "edb6ecaf-c104-438d-90a3-da5447aef644",
   "metadata": {},
   "outputs": [],
   "source": [
    "article4=[]\n",
    "for link in links4:\n",
    "    response3 = requests.get(link4)\n",
    "    soup4 = BeautifulSoup(response4.content, \"html.parser\")\n",
    "    article4.append(soup4.select(\"#wrapper > div.news.news-single > div\")[0].get_text(\"/\", strip=True))"
   ]
  },
  {
   "cell_type": "code",
   "execution_count": 242,
   "id": "bab4233b-2def-48e9-b73a-cdf5f9f54a59",
   "metadata": {},
   "outputs": [
    {
     "data": {
      "text/plain": [
       "['https://www.organicseurope.bio/library/green-claims-the-fight-against-greenwashing-must-be-based-on-methodologies-promoting-the-transition-towards-more-sustainable-food-systems/',\n",
       " 'https://www.organicseurope.bio/library/ifoam-organics-europe-diversified-communications-partner-to-support-organic-market-growth/',\n",
       " 'https://www.organicseurope.bio/library/scientific-study-shows-synthetic-pesticides-significantly-more-dangerous-than-natural-ones/',\n",
       " 'https://www.organicseurope.bio/library/eu-organic-movement-warns-against-greenwashing/',\n",
       " 'https://www.organicseurope.bio/library/la-federation-europeenne-de-lagriculture-bio-agit-en-justice-contre-un-affichage-environnemental-trompeur/']"
      ]
     },
     "execution_count": 242,
     "metadata": {},
     "output_type": "execute_result"
    }
   ],
   "source": [
    "links4"
   ]
  },
  {
   "cell_type": "markdown",
   "id": "f2f93499-93e7-4ea3-98d2-1c54dc5f10dc",
   "metadata": {},
   "source": [
    "PDF reader!"
   ]
  },
  {
   "cell_type": "code",
   "execution_count": null,
   "id": "d1e59eb5-8711-45c0-be75-500e4841694d",
   "metadata": {},
   "outputs": [],
   "source": []
  }
 ],
 "metadata": {
  "kernelspec": {
   "display_name": "Python 3 (ipykernel)",
   "language": "python",
   "name": "python3"
  },
  "language_info": {
   "codemirror_mode": {
    "name": "ipython",
    "version": 3
   },
   "file_extension": ".py",
   "mimetype": "text/x-python",
   "name": "python",
   "nbconvert_exporter": "python",
   "pygments_lexer": "ipython3",
   "version": "3.9.16"
  }
 },
 "nbformat": 4,
 "nbformat_minor": 5
}
