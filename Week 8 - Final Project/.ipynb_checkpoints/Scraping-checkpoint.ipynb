{
 "cells": [
  {
   "cell_type": "code",
   "execution_count": 153,
   "id": "522d0e65-c6a4-47cc-8163-0e397540f2fa",
   "metadata": {},
   "outputs": [],
   "source": [
    "from bs4 import BeautifulSoup\n",
    "import requests\n",
    "import io\n",
    "import pandas as pd\n",
    "from time import sleep\n",
    "from random import randint\n",
    "import math\n",
    "import PyPDF2"
   ]
  },
  {
   "cell_type": "markdown",
   "id": "e0b37629-179f-4646-89dc-4336ffca21d1",
   "metadata": {},
   "source": [
    "<br><h3>Scraping SEAE (1)"
   ]
  },
  {
   "cell_type": "code",
   "execution_count": 154,
   "id": "f8f88ed6-c869-4cbe-a2c5-f96301e81984",
   "metadata": {},
   "outputs": [],
   "source": [
    "url1=\"https://agroecologia.net/noticias/\""
   ]
  },
  {
   "cell_type": "code",
   "execution_count": 155,
   "id": "427423ad-bd35-4799-a5b6-c0c4f493e27f",
   "metadata": {},
   "outputs": [
    {
     "data": {
      "text/plain": [
       "200"
      ]
     },
     "execution_count": 155,
     "metadata": {},
     "output_type": "execute_result"
    }
   ],
   "source": [
    "response1 = requests.get(url1)\n",
    "response1.status_code"
   ]
  },
  {
   "cell_type": "code",
   "execution_count": 156,
   "id": "79a1361d-f121-432d-b5ac-1bc4bd3cd81b",
   "metadata": {},
   "outputs": [],
   "source": [
    "soup1 = BeautifulSoup(response1.content, \"html.parser\")"
   ]
  },
  {
   "cell_type": "code",
   "execution_count": 157,
   "id": "ba724fed-8772-4046-9041-bb91f385b088",
   "metadata": {},
   "outputs": [],
   "source": [
    "#_posts_grid-271-1047580"
   ]
  },
  {
   "cell_type": "code",
   "execution_count": 158,
   "id": "0e2a145a-c0e5-411a-b73b-eeb21ac2b819",
   "metadata": {},
   "outputs": [],
   "source": [
    "#_posts_grid-271-1047580 > div.oxy-posts > a:nth-child(1)"
   ]
  },
  {
   "cell_type": "code",
   "execution_count": 159,
   "id": "17d73abc-b0a1-4cb9-896e-eb08db23f2c9",
   "metadata": {},
   "outputs": [],
   "source": [
    "links1 =[]\n",
    "for link in soup1.select(\"#_posts_grid-271-1047580 > div.oxy-posts\")[0].find_all('a'):\n",
    "    links1.append(link.get('href'))"
   ]
  },
  {
   "cell_type": "code",
   "execution_count": 160,
   "id": "33a6f8ee-1869-4a2c-ba45-9841053bf578",
   "metadata": {},
   "outputs": [
    {
     "data": {
      "text/plain": [
       "['https://agroecologia.net/el-laboratorio-enogastronomico-de-la-uma-acoge-una-demostracion-de-cocina-que-cuida-el-clima/',\n",
       " 'https://agroecologia.net/presentacion-del-libro-la-primera-gota-de-la-primera-lluvia-conservacion-y-aplicacion-de-estiercol/',\n",
       " 'https://agroecologia.net/espacio-abierto-como-ser-parte-de-la-transicion-agroecologica-y-no-morir-en-el-intento/',\n",
       " 'https://agroecologia.net/jornada-los-biodistritos-recorrido-utilidad-y-funcionalidad-para-el-desarrollo-rural/',\n",
       " 'https://agroecologia.net/manifiesto-por-una-produccion-agraria-ecologica-catalana-fuerte-y-reconocida/',\n",
       " 'https://agroecologia.net/en-marcha-el-mapa-de-sinergias-agroecologicas-de-la-serrania/',\n",
       " 'https://agroecologia.net/alianza-por-el-clima-participacion-pniec-seae/',\n",
       " 'https://agroecologia.net/programa-xxx-jornadas-tecnicas-seae-agroecologia-malaga/',\n",
       " 'https://agroecologia.net/la-plaga-de-los-plaguicidas-paremos-los-plaguicidas-industriales-por-nuestra-salud-y-la-del-planeta/',\n",
       " 'https://agroecologia.net/presenta-tu-iniciativa-agroecologica-en-lasxxx-jornadas-tecnicas-de-seae/']"
      ]
     },
     "execution_count": 160,
     "metadata": {},
     "output_type": "execute_result"
    }
   ],
   "source": [
    "links1"
   ]
  },
  {
   "cell_type": "code",
   "execution_count": 161,
   "id": "9f4e708f-5d77-4f7c-afc7-ae5185e229c0",
   "metadata": {},
   "outputs": [],
   "source": [
    "#div_block-3-1047715"
   ]
  },
  {
   "cell_type": "code",
   "execution_count": 162,
   "id": "e558c2d3-f62c-40d9-beca-e492ae304973",
   "metadata": {},
   "outputs": [],
   "source": [
    "source1 = []\n",
    "while len(source1)<len(links1):\n",
    "    source1.append(\"SEAE\")"
   ]
  },
  {
   "cell_type": "code",
   "execution_count": 163,
   "id": "62fa6723-2f0a-4204-851b-13c1206f2951",
   "metadata": {},
   "outputs": [],
   "source": [
    "country1 = []\n",
    "while len(country1)<len(links1):\n",
    "   country1.append(\"Spain\")"
   ]
  },
  {
   "cell_type": "code",
   "execution_count": 164,
   "id": "6dc890f2-0191-41bb-a4af-fee1274403be",
   "metadata": {},
   "outputs": [],
   "source": [
    "article1=[]\n",
    "for link in links1:\n",
    "    response = requests.get(link)\n",
    "    soup = BeautifulSoup(response.content, \"html.parser\")\n",
    "    article1.append(soup.select(\"#div_block-3-1047715\")[0].get_text(\"/\", strip=True))\n",
    "    "
   ]
  },
  {
   "cell_type": "markdown",
   "id": "8589e866-ddf9-489b-bf09-7c01bef64c76",
   "metadata": {},
   "source": [
    "<br><h3>Scraping Soil Association (2)"
   ]
  },
  {
   "cell_type": "code",
   "execution_count": 165,
   "id": "fc50cd6a-13d7-4917-a154-64f224cee0db",
   "metadata": {},
   "outputs": [],
   "source": [
    "url2= \"https://www.soilassociation.org/certification/trade-news/\""
   ]
  },
  {
   "cell_type": "code",
   "execution_count": 166,
   "id": "02905c07-dc24-47ee-a161-68e6e6bfd5d2",
   "metadata": {},
   "outputs": [
    {
     "data": {
      "text/plain": [
       "200"
      ]
     },
     "execution_count": 166,
     "metadata": {},
     "output_type": "execute_result"
    }
   ],
   "source": [
    "response2 = requests.get(url2)\n",
    "response2.status_code"
   ]
  },
  {
   "cell_type": "code",
   "execution_count": 167,
   "id": "a124d2f5-8159-4087-8b6d-61d7dfb60404",
   "metadata": {},
   "outputs": [],
   "source": [
    "soup2 = BeautifulSoup(response2.content, \"html.parser\")"
   ]
  },
  {
   "cell_type": "code",
   "execution_count": 168,
   "id": "ad7e75e5-6dd2-4185-938f-9e02e0ac280f",
   "metadata": {},
   "outputs": [],
   "source": [
    "#main > div.center-box > div.load-holder.blog-page > div > div.blog-landing-page > div.box.block.wide.same-height-left.same-height-right > article > div > a\n"
   ]
  },
  {
   "cell_type": "code",
   "execution_count": 169,
   "id": "6288cef1-4843-4ad1-bd81-0e1a34370c0c",
   "metadata": {},
   "outputs": [],
   "source": [
    "links2 =[]\n",
    "for link2 in soup2.select(\"#main > div.center-box > div.load-holder.blog-page > div > div.blog-landing-page\")[0].find_all('a', href=True):\n",
    "    links2.append((link2['href']))\n",
    "links2=[ links2 for links2 in links2 if \"/\" in links2 ]\n",
    "links2=[ links2 for links2 in links2 if \"tag\" not in links2 ]"
   ]
  },
  {
   "cell_type": "code",
   "execution_count": 170,
   "id": "7102d5e7-1946-4136-a36e-d914df43ff81",
   "metadata": {},
   "outputs": [
    {
     "data": {
      "text/plain": [
       "['/certification/trade-news/2023/april/26/mastering-organic/',\n",
       " '/certification/trade-news/2023/april/4/the-climate-conversation-is-evolving-as-biodiversity-and-natural-capital-rise-up-the-agenda/',\n",
       " '/certification/trade-news/2023/feb/2/taking-the-biscuit-soil-associations-latest-citizen-campaign/',\n",
       " '/certification/trade-news/2023/jan/9/boom-awards-whats-next/',\n",
       " '/certification/trade-news/2022/november/28/get-dirty-for-nature-and-climate-this-world-soil-day/',\n",
       " '/certification/trade-news/2022/october/25/2023-organic-market-report-surveys/',\n",
       " '/certification/trade-news/2022/september/12/call-for-support-against-the-genetic-technologies-bill-4/']"
      ]
     },
     "execution_count": 170,
     "metadata": {},
     "output_type": "execute_result"
    }
   ],
   "source": [
    "links2"
   ]
  },
  {
   "cell_type": "code",
   "execution_count": 171,
   "id": "4f156d5a-3498-412e-843a-634c4f3f24b4",
   "metadata": {},
   "outputs": [],
   "source": [
    "country2 = []\n",
    "while len(country2)<len(links2):\n",
    "    country2.append(\"UK\")"
   ]
  },
  {
   "cell_type": "code",
   "execution_count": 172,
   "id": "2c50a8f3-c942-41f3-a2c4-612f8b6da5f3",
   "metadata": {},
   "outputs": [],
   "source": [
    "source2 = []\n",
    "while len(source2)<len(links2):\n",
    "    source2.append(\"Soil association\")"
   ]
  },
  {
   "cell_type": "code",
   "execution_count": 173,
   "id": "1b8ab524-e003-44f2-b69c-16c21e5c1ac3",
   "metadata": {},
   "outputs": [],
   "source": [
    "article2=[]\n",
    "for link in links2:\n",
    "    response = requests.get(\"https://www.soilassociation.org\"+link)\n",
    "    soup = BeautifulSoup(response.content, \"html.parser\")\n",
    "    article2.append(soup.select(\"#content > div.landing-content\")[0].get_text(\"/\", strip=True))"
   ]
  },
  {
   "cell_type": "markdown",
   "id": "64c4b584-e5d4-42e2-bf5e-fd7c614e5716",
   "metadata": {},
   "source": [
    "<br><h3>Scraping BNN (3)"
   ]
  },
  {
   "cell_type": "code",
   "execution_count": 174,
   "id": "aa568af7-e7d7-4f59-8791-f5bc2db3ce78",
   "metadata": {},
   "outputs": [],
   "source": [
    "url3= \"https://n-bnn.de/presse-medien/pressemitteilungen\""
   ]
  },
  {
   "cell_type": "code",
   "execution_count": 175,
   "id": "07d83208-add5-45bd-9730-8ebaa692c152",
   "metadata": {},
   "outputs": [
    {
     "data": {
      "text/plain": [
       "200"
      ]
     },
     "execution_count": 175,
     "metadata": {},
     "output_type": "execute_result"
    }
   ],
   "source": [
    "response3 = requests.get(url3)\n",
    "soup3 = BeautifulSoup(response3.content, \"html.parser\")\n",
    "response3.status_code"
   ]
  },
  {
   "cell_type": "code",
   "execution_count": 176,
   "id": "a735f10d-0c82-4e0c-9d9e-56c3669dd778",
   "metadata": {},
   "outputs": [],
   "source": [
    "links3 =[]"
   ]
  },
  {
   "cell_type": "code",
   "execution_count": 177,
   "id": "185e8700-4b0a-4367-9e45-a9b93ad993b8",
   "metadata": {},
   "outputs": [],
   "source": [
    "for link in soup3.select(\"#filterlist\")[0].find_all('a', href=True):\n",
    "        links3.append(link.get('href'))\n",
    "del links3[5:]"
   ]
  },
  {
   "cell_type": "code",
   "execution_count": 178,
   "id": "3e0d14b9-8469-499c-9c9b-cf42a41df0d3",
   "metadata": {},
   "outputs": [
    {
     "data": {
      "text/plain": [
       "['/presse-medien/pressemitteilungen/artikel/bio-branche-fordert-schadensausgleichsfonds-pestizide-verursachen-hohe-kosten',\n",
       " '/presse-medien/pressemitteilungen/artikel/bnn-marktdatenerhebung-2022-trotz-rekordinflation-kunden-bleiben-bio-fachhandel-2022-treu',\n",
       " '/presse-medien/pressemitteilungen/artikel/bnn-auf-der-biofach-spannende-veranstaltungen-zum-auftakt-des-jubilaeumsjahres-1',\n",
       " '/presse-medien/pressemitteilungen/artikel/bnn-begruesst-die-verschiebung-der-veroeffentlichung-des-entwurfs-der-green-claims-richtlinie-durch-die-eu-kommission',\n",
       " '/presse-medien/pressemitteilungen/artikel/bio-branche-der-planet-score-ist-fuer-uns-der-richtige-weg']"
      ]
     },
     "execution_count": 178,
     "metadata": {},
     "output_type": "execute_result"
    }
   ],
   "source": [
    "links3"
   ]
  },
  {
   "cell_type": "code",
   "execution_count": 179,
   "id": "c87193bf-b29d-477a-baba-d85bb4ee6ad8",
   "metadata": {},
   "outputs": [],
   "source": [
    "country3 = []\n",
    "while len(country3)<len(links3):\n",
    "    country3.append(\"Germany\")"
   ]
  },
  {
   "cell_type": "code",
   "execution_count": 180,
   "id": "04819f20-56f1-4ead-87bd-79652e7828b5",
   "metadata": {},
   "outputs": [],
   "source": [
    "source3 = []\n",
    "while len(source3)<len(links3):\n",
    "    source3.append(\"BNN\")"
   ]
  },
  {
   "cell_type": "code",
   "execution_count": 181,
   "id": "35050367-70a4-4b07-ba5c-2c385f7391f4",
   "metadata": {},
   "outputs": [],
   "source": [
    "article3=[]\n",
    "for link in links3:\n",
    "    response = requests.get(\"https://n-bnn.de\"+link)\n",
    "    soup = BeautifulSoup(response.content, \"html.parser\")\n",
    "    article3.append(soup.select(\"#wrapper > div.news.news-single > div\")[0].get_text(\"/\", strip=True))"
   ]
  },
  {
   "cell_type": "markdown",
   "id": "85aa794a-f159-43cf-a81e-20221dc27f61",
   "metadata": {},
   "source": [
    "<br><h3>Scraping Agence Bio (4)"
   ]
  },
  {
   "cell_type": "code",
   "execution_count": 182,
   "id": "5b2d1e18-0ff1-41da-ab35-7d468465b42a",
   "metadata": {},
   "outputs": [],
   "source": [
    "url4=\"https://www.agencebio.org/vos-outils/communication-2/communiques-de-presse/\""
   ]
  },
  {
   "cell_type": "code",
   "execution_count": 183,
   "id": "dcaa7284-bd9a-4da8-b3b9-21dc41a84a53",
   "metadata": {},
   "outputs": [
    {
     "data": {
      "text/plain": [
       "200"
      ]
     },
     "execution_count": 183,
     "metadata": {},
     "output_type": "execute_result"
    }
   ],
   "source": [
    "response4 = requests.get(url4)\n",
    "soup4 = BeautifulSoup(response4.content, \"html.parser\")\n",
    "response4.status_code"
   ]
  },
  {
   "cell_type": "code",
   "execution_count": 184,
   "id": "7257c5c6-db73-4cbc-bcfe-7da4f13e3f12",
   "metadata": {},
   "outputs": [],
   "source": [
    "#post-5151 > div > div > div > div > section.elementor-section.elementor-top-section.elementor-element.elementor-element-5073814a.elementor-section-boxed.elementor-section-height-default.elementor-section-height-default > div > div > div > div > div > div > div > div > p:nth-child(1) > strong > a\n",
    "#post-5151 > div > div > div > div > section.elementor-section.elementor-top-section.elementor-element.elementor-element-5073814a.elementor-section-boxed.elementor-section-height-default.elementor-section-height-default > div > div > div > div > div > div > div > div > p:nth-child(2) > a"
   ]
  },
  {
   "cell_type": "code",
   "execution_count": 185,
   "id": "52bc3619-5f64-451f-b7ea-d70b53efcece",
   "metadata": {},
   "outputs": [],
   "source": [
    "links4=[]\n",
    "for link in soup4.select(\"#post-5151 > div > div > div > div > section.elementor-section.elementor-top-section.elementor-element.elementor-element-5073814a.elementor-section-boxed.elementor-section-height-default.elementor-section-height-default > div > div > div > div > div > div > div > div\")[0].find_all('a', href=True):\n",
    "        links4.append(link.get('href'))\n",
    "del links4[10:]"
   ]
  },
  {
   "cell_type": "code",
   "execution_count": 186,
   "id": "53dcea94-b032-41e6-92cf-038b1f1a02ab",
   "metadata": {},
   "outputs": [
    {
     "data": {
      "text/plain": [
       "['https://www.agencebio.org/wp-content/uploads/2023/04/20230419_CP_Agence-BIO_Le-bio-conversions-et-renouvellements.pdf',\n",
       " 'https://www.agencebio.org/wp-content/uploads/2023/04/20230406-CP-Elargissement-Agence-BIO.pdf',\n",
       " 'https://www.agencebio.org/wp-content/uploads/2023/03/20230203-CP-Agence-BIO-Baromètre-2023-20ème-édition.pdf',\n",
       " 'https://www.agencebio.org/wp-content/uploads/2023/03/20230302-Agence-BIO-Baromètre-Bio-2023_Synthèse.pdf',\n",
       " 'https://www.agencebio.org/wp-content/uploads/2023/03/CP_CARTOBIO_211122-2.pdf',\n",
       " 'https://www.agencebio.org/wp-content/uploads/2023/03/20220630CP_AgenceBIO_RapportCDC-1.pdf',\n",
       " 'https://www.agencebio.org/wp-content/uploads/2022/05/CP_Campagne_final.pdf',\n",
       " 'https://www.agencebio.org/wp-content/uploads/2022/06/Agence-BIO-CP-10-juin-2022.pdf',\n",
       " 'https://www.agencebio.org/wp-content/uploads/2023/03/20220609Congres-europeen.pdf',\n",
       " 'https://www.agencebio.org/wp-content/uploads/2023/03/20220518Printempsdubio.pdf']"
      ]
     },
     "execution_count": 186,
     "metadata": {},
     "output_type": "execute_result"
    }
   ],
   "source": [
    "links4"
   ]
  },
  {
   "cell_type": "code",
   "execution_count": 187,
   "id": "634ce3ff-bdf5-481c-a2c0-b28558c4f4d1",
   "metadata": {},
   "outputs": [],
   "source": [
    "country4 = []\n",
    "while len(country4)<len(links4):\n",
    "    country4.append(\"France\")"
   ]
  },
  {
   "cell_type": "code",
   "execution_count": 188,
   "id": "264f5310-c146-41ac-837a-05a42c7f4536",
   "metadata": {},
   "outputs": [],
   "source": [
    "source4 = []\n",
    "while len(source4)<len(links4):\n",
    "    source4.append(\"L'Agence BIO\")"
   ]
  },
  {
   "cell_type": "code",
   "execution_count": 189,
   "id": "9108961a-fd8f-4a99-beae-8d1486184bfc",
   "metadata": {},
   "outputs": [],
   "source": [
    "article4=[]\n",
    "for link in links4:\n",
    "    response = requests.get(link)\n",
    "    reader = PyPDF2.PdfReader(io.BytesIO(response.content))\n",
    "    text = reader.pages[0].extract_text()\n",
    "    article4.append(' '.join(text.split()))"
   ]
  },
  {
   "cell_type": "markdown",
   "id": "1464aee4-9c3e-42e3-81b7-5017339892cf",
   "metadata": {},
   "source": [
    "<br><h3>Scraping IFOAM (5)"
   ]
  },
  {
   "cell_type": "code",
   "execution_count": 190,
   "id": "a1e29aad-7849-4cdc-a9fc-a15edb8e8cd7",
   "metadata": {},
   "outputs": [],
   "source": [
    "url5=\"https://www.organicseurope.bio/library/?qterms=7&qyears=&qtopics=\""
   ]
  },
  {
   "cell_type": "code",
   "execution_count": 191,
   "id": "914df500-845b-4357-9155-d9c6e29b9247",
   "metadata": {},
   "outputs": [
    {
     "data": {
      "text/plain": [
       "200"
      ]
     },
     "execution_count": 191,
     "metadata": {},
     "output_type": "execute_result"
    }
   ],
   "source": [
    "response5 = requests.get(url5)\n",
    "soup5 = BeautifulSoup(response5.content, \"html.parser\")\n",
    "response4.status_code"
   ]
  },
  {
   "cell_type": "code",
   "execution_count": 192,
   "id": "a5e6300c-96cf-48f5-a1b7-6eb5235f6198",
   "metadata": {},
   "outputs": [],
   "source": [
    "links5 =[]"
   ]
  },
  {
   "cell_type": "code",
   "execution_count": 193,
   "id": "0d5c6b13-6b5f-4d59-b819-927ac3bb9bbb",
   "metadata": {},
   "outputs": [],
   "source": [
    "#pagewrap > article > div > div.library-list > div:nth-child(1) > div > h2 > a"
   ]
  },
  {
   "cell_type": "code",
   "execution_count": 194,
   "id": "6f755153-ede8-4e1c-b699-a256d78cd383",
   "metadata": {},
   "outputs": [],
   "source": [
    "for link in soup5.select(\"#pagewrap > article > div > div.library-list\")[0].find_all('a', href=True):\n",
    "    links5.append(link.get('href'))\n",
    "links5 = [ links5 for links5 in links5 if \"qtopics\" not in links5 ]\n",
    "links5 = list(dict.fromkeys(links5))\n",
    "del links5[10:]"
   ]
  },
  {
   "cell_type": "code",
   "execution_count": 195,
   "id": "1c0c2621-79a7-444e-aa9c-7f441e4e8171",
   "metadata": {},
   "outputs": [
    {
     "data": {
      "text/plain": [
       "['https://www.organicseurope.bio/library/green-claims-the-fight-against-greenwashing-must-be-based-on-methodologies-promoting-the-transition-towards-more-sustainable-food-systems/',\n",
       " 'https://www.organicseurope.bio/library/ifoam-organics-europe-diversified-communications-partner-to-support-organic-market-growth/',\n",
       " 'https://www.organicseurope.bio/library/scientific-study-shows-synthetic-pesticides-significantly-more-dangerous-than-natural-ones/',\n",
       " 'https://www.organicseurope.bio/library/eu-organic-movement-warns-against-greenwashing/',\n",
       " 'https://www.organicseurope.bio/library/la-federation-europeenne-de-lagriculture-bio-agit-en-justice-contre-un-affichage-environnemental-trompeur/',\n",
       " 'https://www.organicseurope.bio/library/eu-organic-movement-takes-legal-action-to-defend-reliable-environmental-labelling-of-food-products/',\n",
       " 'https://www.organicseurope.bio/library/boosting-organic-farming-aquaculture-to-reach-the-farm-to-fork-targets/',\n",
       " 'https://www.organicseurope.bio/library/bold-pesticide-reduction-plan-faces-attack-on-saturday/',\n",
       " 'https://www.organicseurope.bio/library/commission-proposal-on-the-certification-of-carbon-removals-leaves-crucial-questions-unanswered/',\n",
       " 'https://www.organicseurope.bio/library/green-claims-better-methodologies-to-assess-environmental-performance-of-food-textiles-products/']"
      ]
     },
     "execution_count": 195,
     "metadata": {},
     "output_type": "execute_result"
    }
   ],
   "source": [
    "links5"
   ]
  },
  {
   "cell_type": "code",
   "execution_count": 196,
   "id": "e9412bd4-4a17-47be-a200-299325c5effa",
   "metadata": {},
   "outputs": [],
   "source": [
    "country5 = []\n",
    "while len(country5)<len(links5):\n",
    "    country5.append(\"EU\")"
   ]
  },
  {
   "cell_type": "code",
   "execution_count": 197,
   "id": "e9b29751-8229-44c7-a57d-3470b86ddf27",
   "metadata": {},
   "outputs": [],
   "source": [
    "source5 = []\n",
    "while len(source5)<len(links5):\n",
    "    source5.append(\"IFOAM EU\")"
   ]
  },
  {
   "cell_type": "code",
   "execution_count": 198,
   "id": "a0630814-d1d5-4f19-a084-7a7d3a59a352",
   "metadata": {},
   "outputs": [],
   "source": [
    "article5 = []\n",
    "for link in links5:\n",
    "    response = requests.get(link)\n",
    "    reader = PyPDF2.PdfReader(io.BytesIO(response.content))\n",
    "    text=reader.pages[0].extract_text()\n",
    "    article5.append(' '.join(text.split()))"
   ]
  },
  {
   "cell_type": "markdown",
   "id": "d211a9b7-247e-4e87-b9e8-6fc74afccb57",
   "metadata": {},
   "source": [
    "<br><h3>Constructing dataframe"
   ]
  },
  {
   "cell_type": "code",
   "execution_count": 199,
   "id": "649830ec-b0ee-40e8-ae91-bc5aaa5d7644",
   "metadata": {},
   "outputs": [],
   "source": [
    "article = article1 + article2 + article3 + article4 + article5"
   ]
  },
  {
   "cell_type": "code",
   "execution_count": 200,
   "id": "16b2ec31-640b-41b9-b226-5444d44eaf42",
   "metadata": {},
   "outputs": [],
   "source": [
    "country = country1 + country2 + country3 + country4 + country5"
   ]
  },
  {
   "cell_type": "code",
   "execution_count": 201,
   "id": "b40ed7cf-45a9-4ede-80f3-6e9f3fea7ccb",
   "metadata": {},
   "outputs": [],
   "source": [
    "source = source1 + source2 + source3 + source4 + source5"
   ]
  },
  {
   "cell_type": "code",
   "execution_count": 202,
   "id": "e26de962-b49c-4859-b684-e075d33e1ccd",
   "metadata": {},
   "outputs": [],
   "source": [
    "links = links1 + links2 + links3 + links4 + links5"
   ]
  },
  {
   "cell_type": "code",
   "execution_count": 203,
   "id": "873da3f7-2bc6-48f2-87cf-cf50a05c69d2",
   "metadata": {},
   "outputs": [],
   "source": [
    "articles_df = pd.DataFrame(list(zip(article,country,source,links)),columns = [\"article\",\"country\",\"source\",\"links\"])"
   ]
  },
  {
   "cell_type": "code",
   "execution_count": 204,
   "id": "dfe16324-ba92-46b5-a066-f60c7817e587",
   "metadata": {},
   "outputs": [
    {
     "data": {
      "text/html": [
       "<div>\n",
       "<style scoped>\n",
       "    .dataframe tbody tr th:only-of-type {\n",
       "        vertical-align: middle;\n",
       "    }\n",
       "\n",
       "    .dataframe tbody tr th {\n",
       "        vertical-align: top;\n",
       "    }\n",
       "\n",
       "    .dataframe thead th {\n",
       "        text-align: right;\n",
       "    }\n",
       "</style>\n",
       "<table border=\"1\" class=\"dataframe\">\n",
       "  <thead>\n",
       "    <tr style=\"text-align: right;\">\n",
       "      <th></th>\n",
       "      <th>article</th>\n",
       "      <th>country</th>\n",
       "      <th>source</th>\n",
       "      <th>links</th>\n",
       "    </tr>\n",
       "  </thead>\n",
       "  <tbody>\n",
       "    <tr>\n",
       "      <th>0</th>\n",
       "      <td>El Laboratorio Enogastronómico de la UMA acoge...</td>\n",
       "      <td>Spain</td>\n",
       "      <td>SEAE</td>\n",
       "      <td>https://agroecologia.net/el-laboratorio-enogas...</td>\n",
       "    </tr>\n",
       "    <tr>\n",
       "      <th>1</th>\n",
       "      <td>Presentación del LIBRO: \"La primera gota de la...</td>\n",
       "      <td>Spain</td>\n",
       "      <td>SEAE</td>\n",
       "      <td>https://agroecologia.net/presentacion-del-libr...</td>\n",
       "    </tr>\n",
       "    <tr>\n",
       "      <th>2</th>\n",
       "      <td>Espacio abierto: ¿Cómo ser parte de la transic...</td>\n",
       "      <td>Spain</td>\n",
       "      <td>SEAE</td>\n",
       "      <td>https://agroecologia.net/espacio-abierto-como-...</td>\n",
       "    </tr>\n",
       "    <tr>\n",
       "      <th>3</th>\n",
       "      <td>Jornada \"Los biodistritos: recorrido, utilidad...</td>\n",
       "      <td>Spain</td>\n",
       "      <td>SEAE</td>\n",
       "      <td>https://agroecologia.net/jornada-los-biodistri...</td>\n",
       "    </tr>\n",
       "    <tr>\n",
       "      <th>4</th>\n",
       "      <td>Manifiesto por una producción agraria ecológic...</td>\n",
       "      <td>Spain</td>\n",
       "      <td>SEAE</td>\n",
       "      <td>https://agroecologia.net/manifiesto-por-una-pr...</td>\n",
       "    </tr>\n",
       "    <tr>\n",
       "      <th>5</th>\n",
       "      <td>En marcha el MAPA DE SINERGIAS AGROECOLÓGICAS ...</td>\n",
       "      <td>Spain</td>\n",
       "      <td>SEAE</td>\n",
       "      <td>https://agroecologia.net/en-marcha-el-mapa-de-...</td>\n",
       "    </tr>\n",
       "    <tr>\n",
       "      <th>6</th>\n",
       "      <td>Alianza por el Clima reitera la exigencia de u...</td>\n",
       "      <td>Spain</td>\n",
       "      <td>SEAE</td>\n",
       "      <td>https://agroecologia.net/alianza-por-el-clima-...</td>\n",
       "    </tr>\n",
       "    <tr>\n",
       "      <th>7</th>\n",
       "      <td>De QUÉ y con QUIÉN hablaremos en las XXX Jorna...</td>\n",
       "      <td>Spain</td>\n",
       "      <td>SEAE</td>\n",
       "      <td>https://agroecologia.net/programa-xxx-jornadas...</td>\n",
       "    </tr>\n",
       "    <tr>\n",
       "      <th>8</th>\n",
       "      <td>LA PLAGA DE LOS PLAGUICIDAS: Paremos los plagu...</td>\n",
       "      <td>Spain</td>\n",
       "      <td>SEAE</td>\n",
       "      <td>https://agroecologia.net/la-plaga-de-los-plagu...</td>\n",
       "    </tr>\n",
       "    <tr>\n",
       "      <th>9</th>\n",
       "      <td>Presenta tu iniciativa agroecológica en las XX...</td>\n",
       "      <td>Spain</td>\n",
       "      <td>SEAE</td>\n",
       "      <td>https://agroecologia.net/presenta-tu-iniciativ...</td>\n",
       "    </tr>\n",
       "    <tr>\n",
       "      <th>10</th>\n",
       "      <td>Print/0/0/Mastering organic/26 April 2023/A fe...</td>\n",
       "      <td>UK</td>\n",
       "      <td>Soil association</td>\n",
       "      <td>/certification/trade-news/2023/april/26/master...</td>\n",
       "    </tr>\n",
       "    <tr>\n",
       "      <th>11</th>\n",
       "      <td>Climate/Climate Change/Print/0/0/The climate c...</td>\n",
       "      <td>UK</td>\n",
       "      <td>Soil association</td>\n",
       "      <td>/certification/trade-news/2023/april/4/the-cli...</td>\n",
       "    </tr>\n",
       "    <tr>\n",
       "      <th>12</th>\n",
       "      <td>Print/0/0/\"Taking the biscuit\" - Soil Associat...</td>\n",
       "      <td>UK</td>\n",
       "      <td>Soil association</td>\n",
       "      <td>/certification/trade-news/2023/feb/2/taking-th...</td>\n",
       "    </tr>\n",
       "    <tr>\n",
       "      <th>13</th>\n",
       "      <td>Print/0/0/BOOM Awards - you've entered, what's...</td>\n",
       "      <td>UK</td>\n",
       "      <td>Soil association</td>\n",
       "      <td>/certification/trade-news/2023/jan/9/boom-awar...</td>\n",
       "    </tr>\n",
       "    <tr>\n",
       "      <th>14</th>\n",
       "      <td>Print/0/0/Get dirty for nature and climate thi...</td>\n",
       "      <td>UK</td>\n",
       "      <td>Soil association</td>\n",
       "      <td>/certification/trade-news/2022/november/28/get...</td>\n",
       "    </tr>\n",
       "    <tr>\n",
       "      <th>15</th>\n",
       "      <td>Print/0/1/Complete the 2023 Organic Market Rep...</td>\n",
       "      <td>UK</td>\n",
       "      <td>Soil association</td>\n",
       "      <td>/certification/trade-news/2022/october/25/2023...</td>\n",
       "    </tr>\n",
       "    <tr>\n",
       "      <th>16</th>\n",
       "      <td>Print/2/2/Genetic Technologies (Precision Bree...</td>\n",
       "      <td>UK</td>\n",
       "      <td>Soil association</td>\n",
       "      <td>/certification/trade-news/2022/september/12/ca...</td>\n",
       "    </tr>\n",
       "    <tr>\n",
       "      <th>17</th>\n",
       "      <td>Bio-Branche fordert Schadensausgleichsfonds: P...</td>\n",
       "      <td>Germany</td>\n",
       "      <td>BNN</td>\n",
       "      <td>/presse-medien/pressemitteilungen/artikel/bio-...</td>\n",
       "    </tr>\n",
       "    <tr>\n",
       "      <th>18</th>\n",
       "      <td>Trotz Rekordinflation: Kunden bleiben Bio-Fach...</td>\n",
       "      <td>Germany</td>\n",
       "      <td>BNN</td>\n",
       "      <td>/presse-medien/pressemitteilungen/artikel/bnn-...</td>\n",
       "    </tr>\n",
       "    <tr>\n",
       "      <th>19</th>\n",
       "      <td>BNN auf der BIOFACH: Spannende Veranstaltungen...</td>\n",
       "      <td>Germany</td>\n",
       "      <td>BNN</td>\n",
       "      <td>/presse-medien/pressemitteilungen/artikel/bnn-...</td>\n",
       "    </tr>\n",
       "    <tr>\n",
       "      <th>20</th>\n",
       "      <td>BNN begrüßt Verschiebung des Entwurfs der „Gre...</td>\n",
       "      <td>Germany</td>\n",
       "      <td>BNN</td>\n",
       "      <td>/presse-medien/pressemitteilungen/artikel/bnn-...</td>\n",
       "    </tr>\n",
       "    <tr>\n",
       "      <th>21</th>\n",
       "      <td>Bio-Branche: Der Planet-Score ist für uns der ...</td>\n",
       "      <td>Germany</td>\n",
       "      <td>BNN</td>\n",
       "      <td>/presse-medien/pressemitteilungen/artikel/bio-...</td>\n",
       "    </tr>\n",
       "    <tr>\n",
       "      <th>22</th>\n",
       "      <td>Communiqué de presse – 19 avril 2023 Garantir...</td>\n",
       "      <td>France</td>\n",
       "      <td>L'Agence BIO</td>\n",
       "      <td>https://www.agencebio.org/wp-content/uploads/2...</td>\n",
       "    </tr>\n",
       "    <tr>\n",
       "      <th>23</th>\n",
       "      <td>Communiqu é de presse – 06 avril 2023 Elargis...</td>\n",
       "      <td>France</td>\n",
       "      <td>L'Agence BIO</td>\n",
       "      <td>https://www.agencebio.org/wp-content/uploads/2...</td>\n",
       "    </tr>\n",
       "    <tr>\n",
       "      <th>24</th>\n",
       "      <td>Communiqué de presse – 2 mars 2023 20ème barom...</td>\n",
       "      <td>France</td>\n",
       "      <td>L'Agence BIO</td>\n",
       "      <td>https://www.agencebio.org/wp-content/uploads/2...</td>\n",
       "    </tr>\n",
       "    <tr>\n",
       "      <th>25</th>\n",
       "      <td>BAROMÈTRE DES PRODUITS BIOLOGIQUES EN FRANCE -...</td>\n",
       "      <td>France</td>\n",
       "      <td>L'Agence BIO</td>\n",
       "      <td>https://www.agencebio.org/wp-content/uploads/2...</td>\n",
       "    </tr>\n",
       "    <tr>\n",
       "      <th>26</th>\n",
       "      <td>Communiqué de presse – 21 novembre 2022 CartoB...</td>\n",
       "      <td>France</td>\n",
       "      <td>L'Agence BIO</td>\n",
       "      <td>https://www.agencebio.org/wp-content/uploads/2...</td>\n",
       "    </tr>\n",
       "    <tr>\n",
       "      <th>27</th>\n",
       "      <td>Montreuil, le 30 juin 2022 L’Agence BIO salue ...</td>\n",
       "      <td>France</td>\n",
       "      <td>L'Agence BIO</td>\n",
       "      <td>https://www.agencebio.org/wp-content/uploads/2...</td>\n",
       "    </tr>\n",
       "    <tr>\n",
       "      <th>28</th>\n",
       "      <td>L’Agence BIO, les interprofessions (Cniel, Cni...</td>\n",
       "      <td>France</td>\n",
       "      <td>L'Agence BIO</td>\n",
       "      <td>https://www.agencebio.org/wp-content/uploads/2...</td>\n",
       "    </tr>\n",
       "    <tr>\n",
       "      <th>29</th>\n",
       "      <td>Communiqué de presse – 10 juin 2022 L’Agence B...</td>\n",
       "      <td>France</td>\n",
       "      <td>L'Agence BIO</td>\n",
       "      <td>https://www.agencebio.org/wp-content/uploads/2...</td>\n",
       "    </tr>\n",
       "    <tr>\n",
       "      <th>30</th>\n",
       "      <td>Contact s presse : Jérôme CINEL , directeur IN...</td>\n",
       "      <td>France</td>\n",
       "      <td>L'Agence BIO</td>\n",
       "      <td>https://www.agencebio.org/wp-content/uploads/2...</td>\n",
       "    </tr>\n",
       "    <tr>\n",
       "      <th>31</th>\n",
       "      <td>Communiqué de presse – 18 mai 2022 Pour la 23è...</td>\n",
       "      <td>France</td>\n",
       "      <td>L'Agence BIO</td>\n",
       "      <td>https://www.agencebio.org/wp-content/uploads/2...</td>\n",
       "    </tr>\n",
       "    <tr>\n",
       "      <th>32</th>\n",
       "      <td>11 Rue Marie -Thérèse – 1000 Brussels – Belgiu...</td>\n",
       "      <td>EU</td>\n",
       "      <td>IFOAM EU</td>\n",
       "      <td>https://www.organicseurope.bio/library/green-c...</td>\n",
       "    </tr>\n",
       "    <tr>\n",
       "      <th>33</th>\n",
       "      <td>Rue Marie Th érèse 11 – 1000 Brussels – Belgiu...</td>\n",
       "      <td>EU</td>\n",
       "      <td>IFOAM EU</td>\n",
       "      <td>https://www.organicseurope.bio/library/ifoam-o...</td>\n",
       "    </tr>\n",
       "    <tr>\n",
       "      <th>34</th>\n",
       "      <td>Rue Marie Thérèse 11 – 1000 Brussels – Belgium...</td>\n",
       "      <td>EU</td>\n",
       "      <td>IFOAM EU</td>\n",
       "      <td>https://www.organicseurope.bio/library/scienti...</td>\n",
       "    </tr>\n",
       "    <tr>\n",
       "      <th>35</th>\n",
       "      <td>Rue du Commerce 124 – 1000 Brussels – Belgium ...</td>\n",
       "      <td>EU</td>\n",
       "      <td>IFOAM EU</td>\n",
       "      <td>https://www.organicseurope.bio/library/eu-orga...</td>\n",
       "    </tr>\n",
       "    <tr>\n",
       "      <th>36</th>\n",
       "      <td>Rue du Commerce 124 – 1000 Brussels – Belgium ...</td>\n",
       "      <td>EU</td>\n",
       "      <td>IFOAM EU</td>\n",
       "      <td>https://www.organicseurope.bio/library/la-fede...</td>\n",
       "    </tr>\n",
       "    <tr>\n",
       "      <th>37</th>\n",
       "      <td>Rue du Commerce 124 – 1000 Brussels – Belgium ...</td>\n",
       "      <td>EU</td>\n",
       "      <td>IFOAM EU</td>\n",
       "      <td>https://www.organicseurope.bio/library/eu-orga...</td>\n",
       "    </tr>\n",
       "    <tr>\n",
       "      <th>38</th>\n",
       "      <td>Funded by the European Union. Views and opinio...</td>\n",
       "      <td>EU</td>\n",
       "      <td>IFOAM EU</td>\n",
       "      <td>https://www.organicseurope.bio/library/boostin...</td>\n",
       "    </tr>\n",
       "    <tr>\n",
       "      <th>39</th>\n",
       "      <td>Rue du Commerce 124 – 1000 Brussels – Belgium ...</td>\n",
       "      <td>EU</td>\n",
       "      <td>IFOAM EU</td>\n",
       "      <td>https://www.organicseurope.bio/library/bold-pe...</td>\n",
       "    </tr>\n",
       "    <tr>\n",
       "      <th>40</th>\n",
       "      <td>Rue du Commerce 124 – 1000 Brussels – Belgium ...</td>\n",
       "      <td>EU</td>\n",
       "      <td>IFOAM EU</td>\n",
       "      <td>https://www.organicseurope.bio/library/commiss...</td>\n",
       "    </tr>\n",
       "    <tr>\n",
       "      <th>41</th>\n",
       "      <td>Rue du Commerce 124 – 1000 Brussels – Belgium ...</td>\n",
       "      <td>EU</td>\n",
       "      <td>IFOAM EU</td>\n",
       "      <td>https://www.organicseurope.bio/library/green-c...</td>\n",
       "    </tr>\n",
       "  </tbody>\n",
       "</table>\n",
       "</div>"
      ],
      "text/plain": [
       "                                              article  country  \\\n",
       "0   El Laboratorio Enogastronómico de la UMA acoge...    Spain   \n",
       "1   Presentación del LIBRO: \"La primera gota de la...    Spain   \n",
       "2   Espacio abierto: ¿Cómo ser parte de la transic...    Spain   \n",
       "3   Jornada \"Los biodistritos: recorrido, utilidad...    Spain   \n",
       "4   Manifiesto por una producción agraria ecológic...    Spain   \n",
       "5   En marcha el MAPA DE SINERGIAS AGROECOLÓGICAS ...    Spain   \n",
       "6   Alianza por el Clima reitera la exigencia de u...    Spain   \n",
       "7   De QUÉ y con QUIÉN hablaremos en las XXX Jorna...    Spain   \n",
       "8   LA PLAGA DE LOS PLAGUICIDAS: Paremos los plagu...    Spain   \n",
       "9   Presenta tu iniciativa agroecológica en las XX...    Spain   \n",
       "10  Print/0/0/Mastering organic/26 April 2023/A fe...       UK   \n",
       "11  Climate/Climate Change/Print/0/0/The climate c...       UK   \n",
       "12  Print/0/0/\"Taking the biscuit\" - Soil Associat...       UK   \n",
       "13  Print/0/0/BOOM Awards - you've entered, what's...       UK   \n",
       "14  Print/0/0/Get dirty for nature and climate thi...       UK   \n",
       "15  Print/0/1/Complete the 2023 Organic Market Rep...       UK   \n",
       "16  Print/2/2/Genetic Technologies (Precision Bree...       UK   \n",
       "17  Bio-Branche fordert Schadensausgleichsfonds: P...  Germany   \n",
       "18  Trotz Rekordinflation: Kunden bleiben Bio-Fach...  Germany   \n",
       "19  BNN auf der BIOFACH: Spannende Veranstaltungen...  Germany   \n",
       "20  BNN begrüßt Verschiebung des Entwurfs der „Gre...  Germany   \n",
       "21  Bio-Branche: Der Planet-Score ist für uns der ...  Germany   \n",
       "22  Communiqué de presse – 19 avril 2023 Garantir...   France   \n",
       "23  Communiqu é de presse – 06 avril 2023 Elargis...   France   \n",
       "24  Communiqué de presse – 2 mars 2023 20ème barom...   France   \n",
       "25  BAROMÈTRE DES PRODUITS BIOLOGIQUES EN FRANCE -...   France   \n",
       "26  Communiqué de presse – 21 novembre 2022 CartoB...   France   \n",
       "27  Montreuil, le 30 juin 2022 L’Agence BIO salue ...   France   \n",
       "28  L’Agence BIO, les interprofessions (Cniel, Cni...   France   \n",
       "29  Communiqué de presse – 10 juin 2022 L’Agence B...   France   \n",
       "30  Contact s presse : Jérôme CINEL , directeur IN...   France   \n",
       "31  Communiqué de presse – 18 mai 2022 Pour la 23è...   France   \n",
       "32  11 Rue Marie -Thérèse – 1000 Brussels – Belgiu...       EU   \n",
       "33  Rue Marie Th érèse 11 – 1000 Brussels – Belgiu...       EU   \n",
       "34  Rue Marie Thérèse 11 – 1000 Brussels – Belgium...       EU   \n",
       "35  Rue du Commerce 124 – 1000 Brussels – Belgium ...       EU   \n",
       "36  Rue du Commerce 124 – 1000 Brussels – Belgium ...       EU   \n",
       "37  Rue du Commerce 124 – 1000 Brussels – Belgium ...       EU   \n",
       "38  Funded by the European Union. Views and opinio...       EU   \n",
       "39  Rue du Commerce 124 – 1000 Brussels – Belgium ...       EU   \n",
       "40  Rue du Commerce 124 – 1000 Brussels – Belgium ...       EU   \n",
       "41  Rue du Commerce 124 – 1000 Brussels – Belgium ...       EU   \n",
       "\n",
       "              source                                              links  \n",
       "0               SEAE  https://agroecologia.net/el-laboratorio-enogas...  \n",
       "1               SEAE  https://agroecologia.net/presentacion-del-libr...  \n",
       "2               SEAE  https://agroecologia.net/espacio-abierto-como-...  \n",
       "3               SEAE  https://agroecologia.net/jornada-los-biodistri...  \n",
       "4               SEAE  https://agroecologia.net/manifiesto-por-una-pr...  \n",
       "5               SEAE  https://agroecologia.net/en-marcha-el-mapa-de-...  \n",
       "6               SEAE  https://agroecologia.net/alianza-por-el-clima-...  \n",
       "7               SEAE  https://agroecologia.net/programa-xxx-jornadas...  \n",
       "8               SEAE  https://agroecologia.net/la-plaga-de-los-plagu...  \n",
       "9               SEAE  https://agroecologia.net/presenta-tu-iniciativ...  \n",
       "10  Soil association  /certification/trade-news/2023/april/26/master...  \n",
       "11  Soil association  /certification/trade-news/2023/april/4/the-cli...  \n",
       "12  Soil association  /certification/trade-news/2023/feb/2/taking-th...  \n",
       "13  Soil association  /certification/trade-news/2023/jan/9/boom-awar...  \n",
       "14  Soil association  /certification/trade-news/2022/november/28/get...  \n",
       "15  Soil association  /certification/trade-news/2022/october/25/2023...  \n",
       "16  Soil association  /certification/trade-news/2022/september/12/ca...  \n",
       "17               BNN  /presse-medien/pressemitteilungen/artikel/bio-...  \n",
       "18               BNN  /presse-medien/pressemitteilungen/artikel/bnn-...  \n",
       "19               BNN  /presse-medien/pressemitteilungen/artikel/bnn-...  \n",
       "20               BNN  /presse-medien/pressemitteilungen/artikel/bnn-...  \n",
       "21               BNN  /presse-medien/pressemitteilungen/artikel/bio-...  \n",
       "22      L'Agence BIO  https://www.agencebio.org/wp-content/uploads/2...  \n",
       "23      L'Agence BIO  https://www.agencebio.org/wp-content/uploads/2...  \n",
       "24      L'Agence BIO  https://www.agencebio.org/wp-content/uploads/2...  \n",
       "25      L'Agence BIO  https://www.agencebio.org/wp-content/uploads/2...  \n",
       "26      L'Agence BIO  https://www.agencebio.org/wp-content/uploads/2...  \n",
       "27      L'Agence BIO  https://www.agencebio.org/wp-content/uploads/2...  \n",
       "28      L'Agence BIO  https://www.agencebio.org/wp-content/uploads/2...  \n",
       "29      L'Agence BIO  https://www.agencebio.org/wp-content/uploads/2...  \n",
       "30      L'Agence BIO  https://www.agencebio.org/wp-content/uploads/2...  \n",
       "31      L'Agence BIO  https://www.agencebio.org/wp-content/uploads/2...  \n",
       "32          IFOAM EU  https://www.organicseurope.bio/library/green-c...  \n",
       "33          IFOAM EU  https://www.organicseurope.bio/library/ifoam-o...  \n",
       "34          IFOAM EU  https://www.organicseurope.bio/library/scienti...  \n",
       "35          IFOAM EU  https://www.organicseurope.bio/library/eu-orga...  \n",
       "36          IFOAM EU  https://www.organicseurope.bio/library/la-fede...  \n",
       "37          IFOAM EU  https://www.organicseurope.bio/library/eu-orga...  \n",
       "38          IFOAM EU  https://www.organicseurope.bio/library/boostin...  \n",
       "39          IFOAM EU  https://www.organicseurope.bio/library/bold-pe...  \n",
       "40          IFOAM EU  https://www.organicseurope.bio/library/commiss...  \n",
       "41          IFOAM EU  https://www.organicseurope.bio/library/green-c...  "
      ]
     },
     "execution_count": 204,
     "metadata": {},
     "output_type": "execute_result"
    }
   ],
   "source": [
    "articles_df"
   ]
  },
  {
   "cell_type": "code",
   "execution_count": null,
   "id": "246896a5-49f4-4aff-bfe8-c9943905f03f",
   "metadata": {},
   "outputs": [],
   "source": []
  }
 ],
 "metadata": {
  "kernelspec": {
   "display_name": "Python 3 (ipykernel)",
   "language": "python",
   "name": "python3"
  },
  "language_info": {
   "codemirror_mode": {
    "name": "ipython",
    "version": 3
   },
   "file_extension": ".py",
   "mimetype": "text/x-python",
   "name": "python",
   "nbconvert_exporter": "python",
   "pygments_lexer": "ipython3",
   "version": "3.9.16"
  }
 },
 "nbformat": 4,
 "nbformat_minor": 5
}
