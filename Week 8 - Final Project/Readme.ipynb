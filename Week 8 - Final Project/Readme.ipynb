{
 "cells": [
  {
   "cell_type": "markdown",
   "id": "9b62f313-5492-406a-b565-2b205319d6ce",
   "metadata": {},
   "source": [
    "**Project title: \"The Automated Journalist\"**\n",
    "<br>\n",
    "by Frederik Nurnus\n",
    "<br>\n",
    "<br>\n",
    "**Objective:**\n",
    "<br>\n",
    "Generate a proof of concept Website, that displays AI generated 200 word journalistic<br>\n",
    "articles on developments and events in the organic sector in Europe.<br>\n",
    "<br>\n",
    "**How to:**\n",
    "<br>\n",
    "The AI generated Articles are based on press releases of select European organic agencies e.g.<br>\n",
    "SEAE (Spain), Agence Bio (France), BNN (Germany), Soil Association (UK), etc. Press releases<br>\n",
    "are scraped from the respective websites and stored into a database. From there they will be<br>\n",
    "transformed into journalistic texts using the Chat GPT API. These Texts will also be stored<br>\n",
    "in the database. From there they can be called and displayed on a simple news website.<br>\n",
    "<br>\n",
    "**MVP:**\n",
    "<br>\n",
    "* Scraped press releases from minimum 5 websites, roughly 25 releases total.<br>\n",
    "* Database to store Texts, Links to the sources, country of origin and organisation.<br>\n",
    "* API script to transform press releases into journalistic texts and store them in the database<br>\n",
    "* minimalist website to display the results<br>  \n",
    "<br>\n",
    "\n",
    "**Optionals:**\n",
    "<br>\n",
    "* scrape publication date and add to db<br>\n",
    "* optimise scraping: check for last update and only scrape if new data is available<br>\n",
    "* integrate deepl API for better translations<br>\n",
    "* translation to multiple languages<br>\n",
    "* depending on the number of scraped articles: content analysis (e.g. product presentation, event, politics,...)<br>\n",
    "<br>\n",
    "\n",
    "**Timeline:**\n",
    "<br>\n",
    "W1 Mon-Wed: Scraping and db setup<br>\n",
    "W1 Thu-Fri: Connect db to AI and generate texts, set up minimalist website<br>\n",
    "W2 Mon    : Connect website to db<br>\n",
    "W2 Tue-Wed: Complete and improve on all above aspects<br>\n",
    "W2 Thu    : Prepare presentation<br>\n",
    "W2 Fri    : Presentation<br>"
   ]
  },
  {
   "cell_type": "code",
   "execution_count": null,
   "id": "e543e4f0-a027-4ef3-ad1f-7c7486380eff",
   "metadata": {},
   "outputs": [],
   "source": []
  }
 ],
 "metadata": {
  "kernelspec": {
   "display_name": "Python 3 (ipykernel)",
   "language": "python",
   "name": "python3"
  },
  "language_info": {
   "codemirror_mode": {
    "name": "ipython",
    "version": 3
   },
   "file_extension": ".py",
   "mimetype": "text/x-python",
   "name": "python",
   "nbconvert_exporter": "python",
   "pygments_lexer": "ipython3",
   "version": "3.9.16"
  }
 },
 "nbformat": 4,
 "nbformat_minor": 5
}
