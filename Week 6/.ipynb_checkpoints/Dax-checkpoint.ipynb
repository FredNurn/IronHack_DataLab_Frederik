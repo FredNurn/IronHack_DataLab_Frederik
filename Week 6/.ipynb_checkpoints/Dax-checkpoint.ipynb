{
 "cells": [
  {
   "cell_type": "code",
   "execution_count": 112,
   "id": "88ce6673-a3a5-46b2-bb90-da9cddd7a476",
   "metadata": {},
   "outputs": [],
   "source": [
    "from bs4 import BeautifulSoup\n",
    "import requests\n",
    "import pandas as pd\n",
    "from time import sleep\n",
    "from random import randint\n",
    "import math"
   ]
  },
  {
   "cell_type": "code",
   "execution_count": 79,
   "id": "00b8e04b-69c4-4807-a19f-4473d2a93d31",
   "metadata": {},
   "outputs": [],
   "source": [
    "population = 83.1"
   ]
  },
  {
   "cell_type": "code",
   "execution_count": 80,
   "id": "b0f409df-5720-4dc2-a1af-2fa813389980",
   "metadata": {},
   "outputs": [],
   "source": [
    "url=\"https://www.finanzen.net/index/dax\""
   ]
  },
  {
   "cell_type": "code",
   "execution_count": 81,
   "id": "b530a96b-0a1e-4f36-95e3-686067582db0",
   "metadata": {},
   "outputs": [],
   "source": [
    "response = requests.get(url)"
   ]
  },
  {
   "cell_type": "code",
   "execution_count": 82,
   "id": "1a26db20-fff7-4552-a3cd-a20a9b07f5c3",
   "metadata": {},
   "outputs": [
    {
     "data": {
      "text/plain": [
       "200"
      ]
     },
     "execution_count": 82,
     "metadata": {},
     "output_type": "execute_result"
    }
   ],
   "source": [
    "response.status_code"
   ]
  },
  {
   "cell_type": "code",
   "execution_count": 83,
   "id": "2b291d4c-f90f-438d-90fd-a35546e10b8e",
   "metadata": {},
   "outputs": [],
   "source": [
    "soup = BeautifulSoup(response.content, \"html.parser\")"
   ]
  },
  {
   "cell_type": "code",
   "execution_count": 84,
   "id": "b546bc61-bcde-42ec-9852-b4fa51d3fdaa",
   "metadata": {},
   "outputs": [],
   "source": [
    "#IndexShareListValues > table > tbody > tr:nth-child(1) > td:nth-child(1) > div:nth-child(1) > a\n",
    "#IndexShareListValues > table > tbody > tr:nth-child(2) > td:nth-child(1) > div:nth-child(1) > a"
   ]
  },
  {
   "cell_type": "code",
   "execution_count": 85,
   "id": "31b06f7c-7a39-4e51-b4c5-fba4e666ee35",
   "metadata": {},
   "outputs": [
    {
     "data": {
      "text/plain": [
       "[<a href=\"/aktien/adidas-aktie\" title=\"adidas Aktie\">adidas</a>]"
      ]
     },
     "execution_count": 85,
     "metadata": {},
     "output_type": "execute_result"
    }
   ],
   "source": [
    "soup.select(\"#IndexShareListValues > table > tbody> tr:nth-child(1) > td:nth-child(1) > div:nth-child(1) > a\")"
   ]
  },
  {
   "cell_type": "code",
   "execution_count": 86,
   "id": "6d24cb70-9725-4a15-9775-6f2bff46a23d",
   "metadata": {},
   "outputs": [],
   "source": [
    "links=[]\n",
    "for i in range(1,40):\n",
    "    links.append(soup.select(\"#IndexShareListValues > table > tbody> tr:nth-child(\"+str(i)+\") > td:nth-child(1) > div:nth-child(1) > a\"))"
   ]
  },
  {
   "cell_type": "code",
   "execution_count": 87,
   "id": "52aa2f60-4483-4e49-851b-163ffe395657",
   "metadata": {
    "tags": []
   },
   "outputs": [
    {
     "data": {
      "text/plain": [
       "[[<a href=\"/aktien/adidas-aktie\" title=\"adidas Aktie\">adidas</a>],\n",
       " [<a href=\"/aktien/airbus-aktie\" title=\"Airbus Aktie\">Airbus</a>],\n",
       " [<a href=\"/aktien/allianz-aktie\" title=\"Allianz Aktie\">Allianz</a>],\n",
       " [<a href=\"/aktien/basf-aktie\" title=\"BASF Aktie\">BASF</a>],\n",
       " [<a href=\"/aktien/bayer-aktie\" title=\"Bayer Aktie\">Bayer</a>],\n",
       " [<a href=\"/aktien/beiersdorf-aktie\" title=\"Beiersdorf Aktie\">Beiersdorf</a>],\n",
       " [<a href=\"/aktien/bmw-aktie\" title=\"BMW Aktie\">BMW</a>],\n",
       " [<a href=\"/aktien/brenntag-aktie\" title=\"Brenntag Aktie\">Brenntag</a>],\n",
       " [<a href=\"/aktien/commerzbank-aktie\" title=\"Commerzbank Aktie\">Commerzbank</a>],\n",
       " [<a href=\"/aktien/continental-aktie\" title=\"Continental Aktie\">Continental</a>],\n",
       " [<a href=\"/aktien/covestro-aktie\" title=\"Covestro Aktie\">Covestro</a>],\n",
       " [<a href=\"/aktien/daimler_truck-aktie\" title=\"Daimler Truck Aktie\">Daimler Truck</a>],\n",
       " [<a href=\"/aktien/deutsche_bank-aktie\" title=\"Deutsche Bank Aktie\">Deutsche Bank</a>],\n",
       " [<a href=\"/aktien/deutsche_boerse-aktie\" title=\"Deutsche Börse Aktie\">Deutsche Börse</a>],\n",
       " [<a href=\"/aktien/deutsche_post-aktie\" title=\"Deutsche Post Aktie\">Deutsche Post</a>],\n",
       " [<a href=\"/aktien/deutsche_telekom-aktie\" title=\"Deutsche Telekom Aktie\">Deutsche Telekom</a>],\n",
       " [<a href=\"/aktien/eon-aktie\" title=\"E.ON Aktie\">E.ON</a>],\n",
       " [<a href=\"/aktien/fresenius-aktie\" title=\"Fresenius Aktie\">Fresenius</a>],\n",
       " [<a href=\"/aktien/hannover_rueck-aktie\" title=\"Hannover Rück Aktie\">Hannover Rück</a>],\n",
       " [<a href=\"/aktien/heidelbergcement-aktie\" title=\"HeidelbergCement Aktie\">HeidelbergCement</a>],\n",
       " [<a href=\"/aktien/henkel_vz-aktie\" title=\"Henkel vz. Aktie\">Henkel vz.</a>],\n",
       " [<a href=\"/aktien/infineon-aktie\" title=\"Infineon Aktie\">Infineon</a>],\n",
       " [<a href=\"/aktien/mercedes-benz-aktie\" title=\"Mercedes-Benz Group (ex Daimler) Aktie\">Mercedes-Benz Group (ex Daimler)</a>],\n",
       " [<a href=\"/aktien/merck-aktie\" title=\"Merck Aktie\">Merck</a>],\n",
       " [<a href=\"/aktien/mtu-aktie\" title=\"MTU Aero Engines Aktie\">MTU Aero Engines</a>],\n",
       " [<a href=\"/aktien/munich_re-aktie\" title=\"Münchener Rückversicherungs-Gesellschaft Aktie\">Münchener Rückversicherungs-Gesellschaft</a>],\n",
       " [<a href=\"/aktien/porsche_sportwagen-aktie\" title=\"Porsche Aktie\">Porsche</a>],\n",
       " [<a href=\"/aktien/porsche-aktie\" title=\"Porsche Automobil vz. Aktie\">Porsche Automobil vz.</a>],\n",
       " [<a href=\"/aktien/qiagen-aktie\" title=\"QIAGEN Aktie\">QIAGEN</a>],\n",
       " [<a href=\"/aktien/rheinmetall-aktie\" title=\"Rheinmetall Aktie\">Rheinmetall</a>],\n",
       " [<a href=\"/aktien/rwe-aktie\" title=\"RWE Aktie\">RWE</a>],\n",
       " [<a href=\"/aktien/sap-aktie\" title=\"SAP Aktie\">SAP</a>],\n",
       " [<a href=\"/aktien/sartorius_vz-aktie\" title=\"Sartorius vz. Aktie\">Sartorius vz.</a>],\n",
       " [<a href=\"/aktien/siemens-aktie\" title=\"Siemens Aktie\">Siemens</a>],\n",
       " [<a href=\"/aktien/siemens_energy-aktie\" title=\"Siemens Energy Aktie\">Siemens Energy</a>],\n",
       " [<a href=\"/aktien/siemens_healthineers-aktie\" title=\"Siemens Healthineers Aktie\">Siemens Healthineers</a>],\n",
       " [<a href=\"/aktien/symrise-aktie\" title=\"Symrise Aktie\">Symrise</a>],\n",
       " [<a href=\"/aktien/volkswagen_vz-aktie\" title=\"Volkswagen (VW) vz. Aktie\">Volkswagen (VW) vz.</a>],\n",
       " [<a href=\"/aktien/vonovia-aktie\" title=\"Vonovia Aktie\">Vonovia</a>]]"
      ]
     },
     "execution_count": 87,
     "metadata": {},
     "output_type": "execute_result"
    }
   ],
   "source": [
    "links"
   ]
  },
  {
   "cell_type": "code",
   "execution_count": 88,
   "id": "47a158ee-8e1c-4f4d-9668-bbc837fe7d98",
   "metadata": {},
   "outputs": [
    {
     "data": {
      "text/plain": [
       "'/aktien/basf-aktie'"
      ]
     },
     "execution_count": 88,
     "metadata": {},
     "output_type": "execute_result"
    }
   ],
   "source": [
    "links[3][0]['href']"
   ]
  },
  {
   "cell_type": "code",
   "execution_count": 89,
   "id": "03cb0f51-6b6c-4077-af25-c5c3a0868ba1",
   "metadata": {},
   "outputs": [],
   "source": [
    "company=[]\n",
    "for i in range(39):\n",
    "    company.append(links[i][0]['title'].replace(' Aktie', ''))"
   ]
  },
  {
   "cell_type": "code",
   "execution_count": 91,
   "id": "29229cc8-6d59-4458-b4a7-0a32ed9c3f01",
   "metadata": {},
   "outputs": [
    {
     "data": {
      "text/plain": [
       "'https://www.finanzen.net/aktien/rwe-aktie'"
      ]
     },
     "execution_count": 91,
     "metadata": {},
     "output_type": "execute_result"
    }
   ],
   "source": [
    "url2 = \"https://www.finanzen.net\" + links[30][0][\"href\"]\n",
    "url2"
   ]
  },
  {
   "cell_type": "code",
   "execution_count": 92,
   "id": "0f64af85-0fa6-4e38-af51-c5163ffd9afc",
   "metadata": {},
   "outputs": [],
   "source": [
    "#body > main > section:nth-child(7) > div > article:nth-child(2) > div.grid.grid--gap-col-150 > div:nth-child(2) > div > table > tbody > tr:nth-child(1) > td:nth-child(2)\n",
    "#body > main > section:nth-child(8) > div > article:nth-child(2) > div.grid.grid--gap-col-150 > div:nth-child(2) > div > table > tbody > tr:nth-child(1) > td:nth-child(2)\n",
    "#body > main > section:nth-child(9) > div > article:nth-child(2) > div.grid.grid--gap-col-150 > div:nth-child(2) > div > table > tbody > tr:nth-child(1) > td:nth-child(2)"
   ]
  },
  {
   "cell_type": "code",
   "execution_count": 105,
   "id": "674d1440-da29-4eab-b958-44284cf7dfe6",
   "metadata": {},
   "outputs": [],
   "source": [
    "no_shares=[]\n",
    "for i in range(39):\n",
    "    url2 = \"https://www.finanzen.net\" + links[i][0][\"href\"]\n",
    "    response2 = requests.get(url2)\n",
    "    soup = BeautifulSoup(response2.content, \"html.parser\")\n",
    "    try:\n",
    "        no_shares.append(soup.select(\"body > main > section:nth-child (5) > div > article:nth-child(2) > div.grid.grid--gap-col-150 > div:nth-child(2) > div > table > tbody > tr:nth-child(1) > td:nth-child(2)\")[0].get_text(\"/\", strip=True))\n",
    "    except:\n",
    "        try:\n",
    "            no_shares.append(soup.select(\"body > main > section:nth-child(6) > div > article:nth-child(2) > div.grid.grid--gap-col-150 > div:nth-child(2) > div > table > tbody > tr:nth-child(1) > td:nth-child(2)\")[0].get_text(\"/\", strip=True))\n",
    "        except:\n",
    "            try:\n",
    "                no_shares.append(soup.select(\"body > main > section:nth-child(7) > div > article:nth-child(2) > div.grid.grid--gap-col-150 > div:nth-child(2) > div > table > tbody > tr:nth-child(1) > td:nth-child(2)\")[0].get_text(\"/\", strip=True))\n",
    "            except:\n",
    "                try:\n",
    "                    no_shares.append(soup.select(\"body > main > section:nth-child(8) > div > article:nth-child(2) > div.grid.grid--gap-col-150 > div:nth-child(2) > div > table > tbody > tr:nth-child(1) > td:nth-child(2)\")[0].get_text(\"/\", strip=True))\n",
    "                except:\n",
    "                    try:\n",
    "                        no_shares.append(soup.select(\"body > main > section:nth-child(9) > div > article:nth-child(2) > div.grid.grid--gap-col-150 > div:nth-child(2) > div > table > tbody > tr:nth-child(1) > td:nth-child(2)\")[0].get_text(\"/\", strip=True))\n",
    "                    except:\n",
    "                        no_shares.append(\"0\")\n",
    "    wait_time = randint(1,2)\n",
    "    sleep(wait_time)"
   ]
  },
  {
   "cell_type": "code",
   "execution_count": 107,
   "id": "e410558f-2b15-40dd-acb9-f8d54b46ce57",
   "metadata": {},
   "outputs": [],
   "source": [
    "no_shares = [s.replace('.', '') for s in no_shares]\n",
    "no_shares = [s.replace(',', '.') for s in no_shares]\n",
    "no_shares = ([float(x) for x in no_shares])"
   ]
  },
  {
   "cell_type": "code",
   "execution_count": 124,
   "id": "c182b8e7-3232-44f2-9211-c1c070e10d04",
   "metadata": {},
   "outputs": [],
   "source": [
    "dax_df = pd.DataFrame(list(zip(company, no_shares)),\n",
    "               columns =['company', 'no_shares'])"
   ]
  },
  {
   "cell_type": "code",
   "execution_count": 122,
   "id": "1d3a6189-b11d-4875-a695-7a60f5c57e1b",
   "metadata": {},
   "outputs": [],
   "source": [
    "shares_pP=[]\n",
    "for i in range(len(company)):\n",
    "    shares_pP.append(math.ceil(dax_df.no_shares[i]/population))\n",
    "dax_df['shares_pP'] = shares_pP"
   ]
  },
  {
   "cell_type": "code",
   "execution_count": 123,
   "id": "add38ff4-6e15-49bc-b28e-e2c7edb760f5",
   "metadata": {},
   "outputs": [
    {
     "data": {
      "text/html": [
       "<div>\n",
       "<style scoped>\n",
       "    .dataframe tbody tr th:only-of-type {\n",
       "        vertical-align: middle;\n",
       "    }\n",
       "\n",
       "    .dataframe tbody tr th {\n",
       "        vertical-align: top;\n",
       "    }\n",
       "\n",
       "    .dataframe thead th {\n",
       "        text-align: right;\n",
       "    }\n",
       "</style>\n",
       "<table border=\"1\" class=\"dataframe\">\n",
       "  <thead>\n",
       "    <tr style=\"text-align: right;\">\n",
       "      <th></th>\n",
       "      <th>company</th>\n",
       "      <th>no_shares</th>\n",
       "      <th>shares_pP</th>\n",
       "    </tr>\n",
       "  </thead>\n",
       "  <tbody>\n",
       "    <tr>\n",
       "      <th>0</th>\n",
       "      <td>adidas</td>\n",
       "      <td>178.54</td>\n",
       "      <td>3</td>\n",
       "    </tr>\n",
       "    <tr>\n",
       "      <th>1</th>\n",
       "      <td>Airbus</td>\n",
       "      <td>789.75</td>\n",
       "      <td>10</td>\n",
       "    </tr>\n",
       "    <tr>\n",
       "      <th>2</th>\n",
       "      <td>Allianz</td>\n",
       "      <td>401.59</td>\n",
       "      <td>5</td>\n",
       "    </tr>\n",
       "    <tr>\n",
       "      <th>3</th>\n",
       "      <td>BASF</td>\n",
       "      <td>918.48</td>\n",
       "      <td>12</td>\n",
       "    </tr>\n",
       "    <tr>\n",
       "      <th>4</th>\n",
       "      <td>Bayer</td>\n",
       "      <td>982.42</td>\n",
       "      <td>12</td>\n",
       "    </tr>\n",
       "    <tr>\n",
       "      <th>5</th>\n",
       "      <td>Beiersdorf</td>\n",
       "      <td>226.82</td>\n",
       "      <td>3</td>\n",
       "    </tr>\n",
       "    <tr>\n",
       "      <th>6</th>\n",
       "      <td>BMW</td>\n",
       "      <td>586.68</td>\n",
       "      <td>8</td>\n",
       "    </tr>\n",
       "    <tr>\n",
       "      <th>7</th>\n",
       "      <td>Brenntag</td>\n",
       "      <td>154.50</td>\n",
       "      <td>2</td>\n",
       "    </tr>\n",
       "    <tr>\n",
       "      <th>8</th>\n",
       "      <td>Commerzbank</td>\n",
       "      <td>1252.36</td>\n",
       "      <td>16</td>\n",
       "    </tr>\n",
       "    <tr>\n",
       "      <th>9</th>\n",
       "      <td>Continental</td>\n",
       "      <td>200.01</td>\n",
       "      <td>3</td>\n",
       "    </tr>\n",
       "    <tr>\n",
       "      <th>10</th>\n",
       "      <td>Covestro</td>\n",
       "      <td>189.95</td>\n",
       "      <td>3</td>\n",
       "    </tr>\n",
       "    <tr>\n",
       "      <th>11</th>\n",
       "      <td>Daimler Truck</td>\n",
       "      <td>0.00</td>\n",
       "      <td>0</td>\n",
       "    </tr>\n",
       "    <tr>\n",
       "      <th>12</th>\n",
       "      <td>Deutsche Bank</td>\n",
       "      <td>2035.24</td>\n",
       "      <td>25</td>\n",
       "    </tr>\n",
       "    <tr>\n",
       "      <th>13</th>\n",
       "      <td>Deutsche Börse</td>\n",
       "      <td>183.74</td>\n",
       "      <td>3</td>\n",
       "    </tr>\n",
       "    <tr>\n",
       "      <th>14</th>\n",
       "      <td>Deutsche Post</td>\n",
       "      <td>1198.74</td>\n",
       "      <td>15</td>\n",
       "    </tr>\n",
       "    <tr>\n",
       "      <th>15</th>\n",
       "      <td>Deutsche Telekom</td>\n",
       "      <td>4972.70</td>\n",
       "      <td>60</td>\n",
       "    </tr>\n",
       "    <tr>\n",
       "      <th>16</th>\n",
       "      <td>E.ON</td>\n",
       "      <td>2610.38</td>\n",
       "      <td>32</td>\n",
       "    </tr>\n",
       "    <tr>\n",
       "      <th>17</th>\n",
       "      <td>Fresenius</td>\n",
       "      <td>557.55</td>\n",
       "      <td>7</td>\n",
       "    </tr>\n",
       "    <tr>\n",
       "      <th>18</th>\n",
       "      <td>Hannover Rück</td>\n",
       "      <td>120.57</td>\n",
       "      <td>2</td>\n",
       "    </tr>\n",
       "    <tr>\n",
       "      <th>19</th>\n",
       "      <td>HeidelbergCement</td>\n",
       "      <td>186.19</td>\n",
       "      <td>3</td>\n",
       "    </tr>\n",
       "    <tr>\n",
       "      <th>20</th>\n",
       "      <td>Henkel vz.</td>\n",
       "      <td>165.21</td>\n",
       "      <td>2</td>\n",
       "    </tr>\n",
       "    <tr>\n",
       "      <th>21</th>\n",
       "      <td>Infineon</td>\n",
       "      <td>1302.23</td>\n",
       "      <td>16</td>\n",
       "    </tr>\n",
       "    <tr>\n",
       "      <th>22</th>\n",
       "      <td>Mercedes-Benz Group (ex Daimler)</td>\n",
       "      <td>1069.44</td>\n",
       "      <td>13</td>\n",
       "    </tr>\n",
       "    <tr>\n",
       "      <th>23</th>\n",
       "      <td>Merck</td>\n",
       "      <td>129.24</td>\n",
       "      <td>2</td>\n",
       "    </tr>\n",
       "    <tr>\n",
       "      <th>24</th>\n",
       "      <td>MTU Aero Engines</td>\n",
       "      <td>53.71</td>\n",
       "      <td>1</td>\n",
       "    </tr>\n",
       "    <tr>\n",
       "      <th>25</th>\n",
       "      <td>Münchener Rückversicherungs-Gesellschaft</td>\n",
       "      <td>137.64</td>\n",
       "      <td>2</td>\n",
       "    </tr>\n",
       "    <tr>\n",
       "      <th>26</th>\n",
       "      <td>Porsche</td>\n",
       "      <td>0.00</td>\n",
       "      <td>0</td>\n",
       "    </tr>\n",
       "    <tr>\n",
       "      <th>27</th>\n",
       "      <td>Porsche Automobil vz.</td>\n",
       "      <td>153.13</td>\n",
       "      <td>2</td>\n",
       "    </tr>\n",
       "    <tr>\n",
       "      <th>28</th>\n",
       "      <td>QIAGEN</td>\n",
       "      <td>227.72</td>\n",
       "      <td>3</td>\n",
       "    </tr>\n",
       "    <tr>\n",
       "      <th>29</th>\n",
       "      <td>Rheinmetall</td>\n",
       "      <td>43.38</td>\n",
       "      <td>1</td>\n",
       "    </tr>\n",
       "    <tr>\n",
       "      <th>30</th>\n",
       "      <td>RWE</td>\n",
       "      <td>743.84</td>\n",
       "      <td>9</td>\n",
       "    </tr>\n",
       "    <tr>\n",
       "      <th>31</th>\n",
       "      <td>SAP</td>\n",
       "      <td>1167.11</td>\n",
       "      <td>15</td>\n",
       "    </tr>\n",
       "    <tr>\n",
       "      <th>32</th>\n",
       "      <td>Sartorius vz.</td>\n",
       "      <td>34.19</td>\n",
       "      <td>1</td>\n",
       "    </tr>\n",
       "    <tr>\n",
       "      <th>33</th>\n",
       "      <td>Siemens</td>\n",
       "      <td>788.80</td>\n",
       "      <td>10</td>\n",
       "    </tr>\n",
       "    <tr>\n",
       "      <th>34</th>\n",
       "      <td>Siemens Energy</td>\n",
       "      <td>792.19</td>\n",
       "      <td>10</td>\n",
       "    </tr>\n",
       "    <tr>\n",
       "      <th>35</th>\n",
       "      <td>Siemens Healthineers</td>\n",
       "      <td>1119.39</td>\n",
       "      <td>14</td>\n",
       "    </tr>\n",
       "    <tr>\n",
       "      <th>36</th>\n",
       "      <td>Symrise</td>\n",
       "      <td>139.77</td>\n",
       "      <td>2</td>\n",
       "    </tr>\n",
       "    <tr>\n",
       "      <th>37</th>\n",
       "      <td>Volkswagen (VW) vz.</td>\n",
       "      <td>206.20</td>\n",
       "      <td>3</td>\n",
       "    </tr>\n",
       "    <tr>\n",
       "      <th>38</th>\n",
       "      <td>Vonovia</td>\n",
       "      <td>795.85</td>\n",
       "      <td>10</td>\n",
       "    </tr>\n",
       "  </tbody>\n",
       "</table>\n",
       "</div>"
      ],
      "text/plain": [
       "                                     company  no_shares  shares_pP\n",
       "0                                     adidas     178.54          3\n",
       "1                                     Airbus     789.75         10\n",
       "2                                    Allianz     401.59          5\n",
       "3                                       BASF     918.48         12\n",
       "4                                      Bayer     982.42         12\n",
       "5                                 Beiersdorf     226.82          3\n",
       "6                                        BMW     586.68          8\n",
       "7                                   Brenntag     154.50          2\n",
       "8                                Commerzbank    1252.36         16\n",
       "9                                Continental     200.01          3\n",
       "10                                  Covestro     189.95          3\n",
       "11                             Daimler Truck       0.00          0\n",
       "12                             Deutsche Bank    2035.24         25\n",
       "13                            Deutsche Börse     183.74          3\n",
       "14                             Deutsche Post    1198.74         15\n",
       "15                          Deutsche Telekom    4972.70         60\n",
       "16                                      E.ON    2610.38         32\n",
       "17                                 Fresenius     557.55          7\n",
       "18                             Hannover Rück     120.57          2\n",
       "19                          HeidelbergCement     186.19          3\n",
       "20                                Henkel vz.     165.21          2\n",
       "21                                  Infineon    1302.23         16\n",
       "22          Mercedes-Benz Group (ex Daimler)    1069.44         13\n",
       "23                                     Merck     129.24          2\n",
       "24                          MTU Aero Engines      53.71          1\n",
       "25  Münchener Rückversicherungs-Gesellschaft     137.64          2\n",
       "26                                   Porsche       0.00          0\n",
       "27                     Porsche Automobil vz.     153.13          2\n",
       "28                                    QIAGEN     227.72          3\n",
       "29                               Rheinmetall      43.38          1\n",
       "30                                       RWE     743.84          9\n",
       "31                                       SAP    1167.11         15\n",
       "32                             Sartorius vz.      34.19          1\n",
       "33                                   Siemens     788.80         10\n",
       "34                            Siemens Energy     792.19         10\n",
       "35                      Siemens Healthineers    1119.39         14\n",
       "36                                   Symrise     139.77          2\n",
       "37                       Volkswagen (VW) vz.     206.20          3\n",
       "38                                   Vonovia     795.85         10"
      ]
     },
     "execution_count": 123,
     "metadata": {},
     "output_type": "execute_result"
    }
   ],
   "source": [
    "dax_df"
   ]
  },
  {
   "cell_type": "code",
   "execution_count": 125,
   "id": "7e8862ca-8ddb-43a2-91c5-6e5c6a4112d9",
   "metadata": {},
   "outputs": [],
   "source": [
    "in_posession=[3,0,5,22,12,3,8,2,5,10,2,7,25,2,15,85,32,4,0,3,5,14,13,2,1,2,0,0,3,0,7,15,1,10,9,14,0,6]"
   ]
  },
  {
   "cell_type": "code",
   "execution_count": 126,
   "id": "6ad72c66-f8a8-4ce1-b2a6-cb0ef1569c97",
   "metadata": {},
   "outputs": [
    {
     "ename": "ValueError",
     "evalue": "Length of values (38) does not match length of index (39)",
     "output_type": "error",
     "traceback": [
      "\u001b[1;31m---------------------------------------------------------------------------\u001b[0m",
      "\u001b[1;31mValueError\u001b[0m                                Traceback (most recent call last)",
      "\u001b[1;32m~\\AppData\\Local\\Temp\\ipykernel_28616\\134035835.py\u001b[0m in \u001b[0;36m<module>\u001b[1;34m\u001b[0m\n\u001b[1;32m----> 1\u001b[1;33m \u001b[0mdax_df\u001b[0m\u001b[1;33m[\u001b[0m\u001b[1;34m'in_posession'\u001b[0m\u001b[1;33m]\u001b[0m \u001b[1;33m=\u001b[0m \u001b[0min_posession\u001b[0m\u001b[1;33m\u001b[0m\u001b[1;33m\u001b[0m\u001b[0m\n\u001b[0m",
      "\u001b[1;32mC:\\ProgramData\\Anaconda3\\lib\\site-packages\\pandas\\core\\frame.py\u001b[0m in \u001b[0;36m__setitem__\u001b[1;34m(self, key, value)\u001b[0m\n\u001b[0;32m   3653\u001b[0m         \u001b[1;32melse\u001b[0m\u001b[1;33m:\u001b[0m\u001b[1;33m\u001b[0m\u001b[1;33m\u001b[0m\u001b[0m\n\u001b[0;32m   3654\u001b[0m             \u001b[1;31m# set column\u001b[0m\u001b[1;33m\u001b[0m\u001b[1;33m\u001b[0m\u001b[0m\n\u001b[1;32m-> 3655\u001b[1;33m             \u001b[0mself\u001b[0m\u001b[1;33m.\u001b[0m\u001b[0m_set_item\u001b[0m\u001b[1;33m(\u001b[0m\u001b[0mkey\u001b[0m\u001b[1;33m,\u001b[0m \u001b[0mvalue\u001b[0m\u001b[1;33m)\u001b[0m\u001b[1;33m\u001b[0m\u001b[1;33m\u001b[0m\u001b[0m\n\u001b[0m\u001b[0;32m   3656\u001b[0m \u001b[1;33m\u001b[0m\u001b[0m\n\u001b[0;32m   3657\u001b[0m     \u001b[1;32mdef\u001b[0m \u001b[0m_setitem_slice\u001b[0m\u001b[1;33m(\u001b[0m\u001b[0mself\u001b[0m\u001b[1;33m,\u001b[0m \u001b[0mkey\u001b[0m\u001b[1;33m:\u001b[0m \u001b[0mslice\u001b[0m\u001b[1;33m,\u001b[0m \u001b[0mvalue\u001b[0m\u001b[1;33m)\u001b[0m\u001b[1;33m:\u001b[0m\u001b[1;33m\u001b[0m\u001b[1;33m\u001b[0m\u001b[0m\n",
      "\u001b[1;32mC:\\ProgramData\\Anaconda3\\lib\\site-packages\\pandas\\core\\frame.py\u001b[0m in \u001b[0;36m_set_item\u001b[1;34m(self, key, value)\u001b[0m\n\u001b[0;32m   3830\u001b[0m         \u001b[0mensure\u001b[0m \u001b[0mhomogeneity\u001b[0m\u001b[1;33m.\u001b[0m\u001b[1;33m\u001b[0m\u001b[1;33m\u001b[0m\u001b[0m\n\u001b[0;32m   3831\u001b[0m         \"\"\"\n\u001b[1;32m-> 3832\u001b[1;33m         \u001b[0mvalue\u001b[0m \u001b[1;33m=\u001b[0m \u001b[0mself\u001b[0m\u001b[1;33m.\u001b[0m\u001b[0m_sanitize_column\u001b[0m\u001b[1;33m(\u001b[0m\u001b[0mvalue\u001b[0m\u001b[1;33m)\u001b[0m\u001b[1;33m\u001b[0m\u001b[1;33m\u001b[0m\u001b[0m\n\u001b[0m\u001b[0;32m   3833\u001b[0m \u001b[1;33m\u001b[0m\u001b[0m\n\u001b[0;32m   3834\u001b[0m         if (\n",
      "\u001b[1;32mC:\\ProgramData\\Anaconda3\\lib\\site-packages\\pandas\\core\\frame.py\u001b[0m in \u001b[0;36m_sanitize_column\u001b[1;34m(self, value)\u001b[0m\n\u001b[0;32m   4536\u001b[0m \u001b[1;33m\u001b[0m\u001b[0m\n\u001b[0;32m   4537\u001b[0m         \u001b[1;32mif\u001b[0m \u001b[0mis_list_like\u001b[0m\u001b[1;33m(\u001b[0m\u001b[0mvalue\u001b[0m\u001b[1;33m)\u001b[0m\u001b[1;33m:\u001b[0m\u001b[1;33m\u001b[0m\u001b[1;33m\u001b[0m\u001b[0m\n\u001b[1;32m-> 4538\u001b[1;33m             \u001b[0mcom\u001b[0m\u001b[1;33m.\u001b[0m\u001b[0mrequire_length_match\u001b[0m\u001b[1;33m(\u001b[0m\u001b[0mvalue\u001b[0m\u001b[1;33m,\u001b[0m \u001b[0mself\u001b[0m\u001b[1;33m.\u001b[0m\u001b[0mindex\u001b[0m\u001b[1;33m)\u001b[0m\u001b[1;33m\u001b[0m\u001b[1;33m\u001b[0m\u001b[0m\n\u001b[0m\u001b[0;32m   4539\u001b[0m         \u001b[1;32mreturn\u001b[0m \u001b[0msanitize_array\u001b[0m\u001b[1;33m(\u001b[0m\u001b[0mvalue\u001b[0m\u001b[1;33m,\u001b[0m \u001b[0mself\u001b[0m\u001b[1;33m.\u001b[0m\u001b[0mindex\u001b[0m\u001b[1;33m,\u001b[0m \u001b[0mcopy\u001b[0m\u001b[1;33m=\u001b[0m\u001b[1;32mTrue\u001b[0m\u001b[1;33m,\u001b[0m \u001b[0mallow_2d\u001b[0m\u001b[1;33m=\u001b[0m\u001b[1;32mTrue\u001b[0m\u001b[1;33m)\u001b[0m\u001b[1;33m\u001b[0m\u001b[1;33m\u001b[0m\u001b[0m\n\u001b[0;32m   4540\u001b[0m \u001b[1;33m\u001b[0m\u001b[0m\n",
      "\u001b[1;32mC:\\ProgramData\\Anaconda3\\lib\\site-packages\\pandas\\core\\common.py\u001b[0m in \u001b[0;36mrequire_length_match\u001b[1;34m(data, index)\u001b[0m\n\u001b[0;32m    555\u001b[0m     \"\"\"\n\u001b[0;32m    556\u001b[0m     \u001b[1;32mif\u001b[0m \u001b[0mlen\u001b[0m\u001b[1;33m(\u001b[0m\u001b[0mdata\u001b[0m\u001b[1;33m)\u001b[0m \u001b[1;33m!=\u001b[0m \u001b[0mlen\u001b[0m\u001b[1;33m(\u001b[0m\u001b[0mindex\u001b[0m\u001b[1;33m)\u001b[0m\u001b[1;33m:\u001b[0m\u001b[1;33m\u001b[0m\u001b[1;33m\u001b[0m\u001b[0m\n\u001b[1;32m--> 557\u001b[1;33m         raise ValueError(\n\u001b[0m\u001b[0;32m    558\u001b[0m             \u001b[1;34m\"Length of values \"\u001b[0m\u001b[1;33m\u001b[0m\u001b[1;33m\u001b[0m\u001b[0m\n\u001b[0;32m    559\u001b[0m             \u001b[1;34mf\"({len(data)}) \"\u001b[0m\u001b[1;33m\u001b[0m\u001b[1;33m\u001b[0m\u001b[0m\n",
      "\u001b[1;31mValueError\u001b[0m: Length of values (38) does not match length of index (39)"
     ]
    }
   ],
   "source": [
    "dax_df['in_posession'] = in_posession"
   ]
  },
  {
   "cell_type": "code",
   "execution_count": null,
   "id": "c4247068-ed3f-4f5c-8d9b-0486585d8538",
   "metadata": {},
   "outputs": [],
   "source": []
  }
 ],
 "metadata": {
  "kernelspec": {
   "display_name": "Python 3 (ipykernel)",
   "language": "python",
   "name": "python3"
  },
  "language_info": {
   "codemirror_mode": {
    "name": "ipython",
    "version": 3
   },
   "file_extension": ".py",
   "mimetype": "text/x-python",
   "name": "python",
   "nbconvert_exporter": "python",
   "pygments_lexer": "ipython3",
   "version": "3.9.13"
  }
 },
 "nbformat": 4,
 "nbformat_minor": 5
}
