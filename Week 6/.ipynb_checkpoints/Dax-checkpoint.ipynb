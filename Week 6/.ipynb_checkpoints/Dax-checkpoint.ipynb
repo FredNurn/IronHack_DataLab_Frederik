{
 "cells": [
  {
   "cell_type": "code",
   "execution_count": 29,
   "id": "88ce6673-a3a5-46b2-bb90-da9cddd7a476",
   "metadata": {},
   "outputs": [],
   "source": [
    "from bs4 import BeautifulSoup\n",
    "import requests\n",
    "import pandas as pd\n",
    "from time import sleep\n",
    "from random import randint"
   ]
  },
  {
   "cell_type": "code",
   "execution_count": 3,
   "id": "b0f409df-5720-4dc2-a1af-2fa813389980",
   "metadata": {},
   "outputs": [],
   "source": [
    "url=\"https://www.finanzen.net/index/dax\""
   ]
  },
  {
   "cell_type": "code",
   "execution_count": 4,
   "id": "b530a96b-0a1e-4f36-95e3-686067582db0",
   "metadata": {},
   "outputs": [],
   "source": [
    "response = requests.get(url)"
   ]
  },
  {
   "cell_type": "code",
   "execution_count": 5,
   "id": "1a26db20-fff7-4552-a3cd-a20a9b07f5c3",
   "metadata": {},
   "outputs": [
    {
     "data": {
      "text/plain": [
       "200"
      ]
     },
     "execution_count": 5,
     "metadata": {},
     "output_type": "execute_result"
    }
   ],
   "source": [
    "response.status_code"
   ]
  },
  {
   "cell_type": "code",
   "execution_count": 6,
   "id": "2b291d4c-f90f-438d-90fd-a35546e10b8e",
   "metadata": {},
   "outputs": [],
   "source": [
    "soup = BeautifulSoup(response.content, \"html.parser\")"
   ]
  },
  {
   "cell_type": "code",
   "execution_count": 7,
   "id": "b546bc61-bcde-42ec-9852-b4fa51d3fdaa",
   "metadata": {},
   "outputs": [],
   "source": [
    "#IndexShareListValues > table > tbody > tr:nth-child(1) > td:nth-child(1) > div:nth-child(1) > a\n",
    "#IndexShareListValues > table > tbody > tr:nth-child(2) > td:nth-child(1) > div:nth-child(1) > a"
   ]
  },
  {
   "cell_type": "code",
   "execution_count": 8,
   "id": "31b06f7c-7a39-4e51-b4c5-fba4e666ee35",
   "metadata": {},
   "outputs": [
    {
     "data": {
      "text/plain": [
       "[<a href=\"/aktien/adidas-aktie\" title=\"adidas Aktie\">adidas</a>]"
      ]
     },
     "execution_count": 8,
     "metadata": {},
     "output_type": "execute_result"
    }
   ],
   "source": [
    "soup.select(\"#IndexShareListValues > table > tbody> tr:nth-child(1) > td:nth-child(1) > div:nth-child(1) > a\")"
   ]
  },
  {
   "cell_type": "code",
   "execution_count": 9,
   "id": "6d24cb70-9725-4a15-9775-6f2bff46a23d",
   "metadata": {},
   "outputs": [],
   "source": [
    "links=[]\n",
    "for i in range(1,40):\n",
    "    links.append(soup.select(\"#IndexShareListValues > table > tbody> tr:nth-child(\"+str(i)+\") > td:nth-child(1) > div:nth-child(1) > a\"))"
   ]
  },
  {
   "cell_type": "code",
   "execution_count": 10,
   "id": "52aa2f60-4483-4e49-851b-163ffe395657",
   "metadata": {
    "collapsed": true,
    "jupyter": {
     "outputs_hidden": true
    },
    "tags": []
   },
   "outputs": [
    {
     "data": {
      "text/plain": [
       "[[<a href=\"/aktien/adidas-aktie\" title=\"adidas Aktie\">adidas</a>],\n",
       " [<a href=\"/aktien/airbus-aktie\" title=\"Airbus Aktie\">Airbus</a>],\n",
       " [<a href=\"/aktien/allianz-aktie\" title=\"Allianz Aktie\">Allianz</a>],\n",
       " [<a href=\"/aktien/basf-aktie\" title=\"BASF Aktie\">BASF</a>],\n",
       " [<a href=\"/aktien/bayer-aktie\" title=\"Bayer Aktie\">Bayer</a>],\n",
       " [<a href=\"/aktien/beiersdorf-aktie\" title=\"Beiersdorf Aktie\">Beiersdorf</a>],\n",
       " [<a href=\"/aktien/bmw-aktie\" title=\"BMW Aktie\">BMW</a>],\n",
       " [<a href=\"/aktien/brenntag-aktie\" title=\"Brenntag Aktie\">Brenntag</a>],\n",
       " [<a href=\"/aktien/commerzbank-aktie\" title=\"Commerzbank Aktie\">Commerzbank</a>],\n",
       " [<a href=\"/aktien/continental-aktie\" title=\"Continental Aktie\">Continental</a>],\n",
       " [<a href=\"/aktien/covestro-aktie\" title=\"Covestro Aktie\">Covestro</a>],\n",
       " [<a href=\"/aktien/daimler_truck-aktie\" title=\"Daimler Truck Aktie\">Daimler Truck</a>],\n",
       " [<a href=\"/aktien/deutsche_bank-aktie\" title=\"Deutsche Bank Aktie\">Deutsche Bank</a>],\n",
       " [<a href=\"/aktien/deutsche_boerse-aktie\" title=\"Deutsche Börse Aktie\">Deutsche Börse</a>],\n",
       " [<a href=\"/aktien/deutsche_post-aktie\" title=\"Deutsche Post Aktie\">Deutsche Post</a>],\n",
       " [<a href=\"/aktien/deutsche_telekom-aktie\" title=\"Deutsche Telekom Aktie\">Deutsche Telekom</a>],\n",
       " [<a href=\"/aktien/eon-aktie\" title=\"E.ON Aktie\">E.ON</a>],\n",
       " [<a href=\"/aktien/fresenius-aktie\" title=\"Fresenius Aktie\">Fresenius</a>],\n",
       " [<a href=\"/aktien/hannover_rueck-aktie\" title=\"Hannover Rück Aktie\">Hannover Rück</a>],\n",
       " [<a href=\"/aktien/heidelbergcement-aktie\" title=\"HeidelbergCement Aktie\">HeidelbergCement</a>],\n",
       " [<a href=\"/aktien/henkel_vz-aktie\" title=\"Henkel vz. Aktie\">Henkel vz.</a>],\n",
       " [<a href=\"/aktien/infineon-aktie\" title=\"Infineon Aktie\">Infineon</a>],\n",
       " [<a href=\"/aktien/mercedes-benz-aktie\" title=\"Mercedes-Benz Group (ex Daimler) Aktie\">Mercedes-Benz Group (ex Daimler)</a>],\n",
       " [<a href=\"/aktien/merck-aktie\" title=\"Merck Aktie\">Merck</a>],\n",
       " [<a href=\"/aktien/mtu-aktie\" title=\"MTU Aero Engines Aktie\">MTU Aero Engines</a>],\n",
       " [<a href=\"/aktien/munich_re-aktie\" title=\"Münchener Rückversicherungs-Gesellschaft Aktie\">Münchener Rückversicherungs-Gesellschaft</a>],\n",
       " [<a href=\"/aktien/porsche_sportwagen-aktie\" title=\"Porsche Aktie\">Porsche</a>],\n",
       " [<a href=\"/aktien/porsche-aktie\" title=\"Porsche Automobil vz. Aktie\">Porsche Automobil vz.</a>],\n",
       " [<a href=\"/aktien/qiagen-aktie\" title=\"QIAGEN Aktie\">QIAGEN</a>],\n",
       " [<a href=\"/aktien/rheinmetall-aktie\" title=\"Rheinmetall Aktie\">Rheinmetall</a>],\n",
       " [<a href=\"/aktien/rwe-aktie\" title=\"RWE Aktie\">RWE</a>],\n",
       " [<a href=\"/aktien/sap-aktie\" title=\"SAP Aktie\">SAP</a>],\n",
       " [<a href=\"/aktien/sartorius_vz-aktie\" title=\"Sartorius vz. Aktie\">Sartorius vz.</a>],\n",
       " [<a href=\"/aktien/siemens-aktie\" title=\"Siemens Aktie\">Siemens</a>],\n",
       " [<a href=\"/aktien/siemens_energy-aktie\" title=\"Siemens Energy Aktie\">Siemens Energy</a>],\n",
       " [<a href=\"/aktien/siemens_healthineers-aktie\" title=\"Siemens Healthineers Aktie\">Siemens Healthineers</a>],\n",
       " [<a href=\"/aktien/symrise-aktie\" title=\"Symrise Aktie\">Symrise</a>],\n",
       " [<a href=\"/aktien/volkswagen_vz-aktie\" title=\"Volkswagen (VW) vz. Aktie\">Volkswagen (VW) vz.</a>],\n",
       " [<a href=\"/aktien/vonovia-aktie\" title=\"Vonovia Aktie\">Vonovia</a>]]"
      ]
     },
     "execution_count": 10,
     "metadata": {},
     "output_type": "execute_result"
    }
   ],
   "source": [
    "links"
   ]
  },
  {
   "cell_type": "code",
   "execution_count": 44,
   "id": "47a158ee-8e1c-4f4d-9668-bbc837fe7d98",
   "metadata": {},
   "outputs": [
    {
     "data": {
      "text/plain": [
       "'/aktien/basf-aktie'"
      ]
     },
     "execution_count": 44,
     "metadata": {},
     "output_type": "execute_result"
    }
   ],
   "source": [
    "links[3][0]['href']"
   ]
  },
  {
   "cell_type": "code",
   "execution_count": 19,
   "id": "03cb0f51-6b6c-4077-af25-c5c3a0868ba1",
   "metadata": {},
   "outputs": [],
   "source": [
    "company=[]\n",
    "for i in range(39):\n",
    "    company.append(links[i][0]['title'].replace(' Aktie', ''))"
   ]
  },
  {
   "cell_type": "code",
   "execution_count": 22,
   "id": "e1e3a65b-da4b-4280-b283-14f5396b6e23",
   "metadata": {
    "collapsed": true,
    "jupyter": {
     "outputs_hidden": true
    },
    "tags": []
   },
   "outputs": [
    {
     "data": {
      "text/plain": [
       "['adidas',\n",
       " 'Airbus',\n",
       " 'Allianz',\n",
       " 'BASF',\n",
       " 'Bayer',\n",
       " 'Beiersdorf',\n",
       " 'BMW',\n",
       " 'Brenntag',\n",
       " 'Commerzbank',\n",
       " 'Continental',\n",
       " 'Covestro',\n",
       " 'Daimler Truck',\n",
       " 'Deutsche Bank',\n",
       " 'Deutsche Börse',\n",
       " 'Deutsche Post',\n",
       " 'Deutsche Telekom',\n",
       " 'E.ON',\n",
       " 'Fresenius',\n",
       " 'Hannover Rück',\n",
       " 'HeidelbergCement',\n",
       " 'Henkel vz.',\n",
       " 'Infineon',\n",
       " 'Mercedes-Benz Group (ex Daimler)',\n",
       " 'Merck',\n",
       " 'MTU Aero Engines',\n",
       " 'Münchener Rückversicherungs-Gesellschaft',\n",
       " 'Porsche',\n",
       " 'Porsche Automobil vz.',\n",
       " 'QIAGEN',\n",
       " 'Rheinmetall',\n",
       " 'RWE',\n",
       " 'SAP',\n",
       " 'Sartorius vz.',\n",
       " 'Siemens',\n",
       " 'Siemens Energy',\n",
       " 'Siemens Healthineers',\n",
       " 'Symrise',\n",
       " 'Volkswagen (VW) vz.',\n",
       " 'Vonovia']"
      ]
     },
     "execution_count": 22,
     "metadata": {},
     "output_type": "execute_result"
    }
   ],
   "source": [
    "company"
   ]
  },
  {
   "cell_type": "code",
   "execution_count": 36,
   "id": "29229cc8-6d59-4458-b4a7-0a32ed9c3f01",
   "metadata": {},
   "outputs": [
    {
     "data": {
      "text/plain": [
       "'https://www.finanzen.net/aktien/rwe-aktie'"
      ]
     },
     "execution_count": 36,
     "metadata": {},
     "output_type": "execute_result"
    }
   ],
   "source": [
    "url2 = \"https://www.finanzen.net\" + links[30][0][\"href\"]\n",
    "url2"
   ]
  },
  {
   "cell_type": "code",
   "execution_count": null,
   "id": "0f64af85-0fa6-4e38-af51-c5163ffd9afc",
   "metadata": {},
   "outputs": [],
   "source": [
    "#body > main > section:nth-child(8) > div > article:nth-child(2) > div.grid.grid--gap-col-150 > div:nth-child(2) > div > table > tbody > tr:nth-child(1) > td:nth-child(2)\n",
    "#body > main > section:nth-child(9) > div > article:nth-child(2) > div.grid.grid--gap-col-150 > div:nth-child(2) > div > table > tbody > tr:nth-child(1) > td:nth-child(2)"
   ]
  },
  {
   "cell_type": "code",
   "execution_count": 27,
   "id": "c07903fa-06c3-4f84-8c41-80a6083f155d",
   "metadata": {},
   "outputs": [
    {
     "data": {
      "text/plain": [
       "'789,75'"
      ]
     },
     "execution_count": 27,
     "metadata": {},
     "output_type": "execute_result"
    }
   ],
   "source": [
    "response2 = requests.get(url2)\n",
    "soup = BeautifulSoup(response2.content, \"html.parser\")\n",
    "soup.select(\"body > main > section:nth-child(8) > div > article:nth-child(2) > div.grid.grid--gap-col-150 > div:nth-child(2) > div > table > tbody > tr:nth-child(1) > td:nth-child(2)\")[0].get_text(\"/\", strip=True)\n"
   ]
  },
  {
   "cell_type": "code",
   "execution_count": 47,
   "id": "674d1440-da29-4eab-b958-44284cf7dfe6",
   "metadata": {},
   "outputs": [],
   "source": [
    "no_shares=[]\n",
    "for i in range(39):\n",
    "    url2 = \"https://www.finanzen.net\" + links[i][0][\"href\"]\n",
    "    response2 = requests.get(url2)\n",
    "    soup = BeautifulSoup(response2.content, \"html.parser\")\n",
    "    try:\n",
    "        no_shares.append(soup.select(\"body > main > section:nth-child(8) > div > article:nth-child(2) > div.grid.grid--gap-col-150 > div:nth-child(2) > div > table > tbody > tr:nth-child(1) > td:nth-child(2)\")[0].get_text(\"/\", strip=True))\n",
    "    except:\n",
    "        no_shares.append(\"n/a\")\n",
    "    wait_time = randint(1,3)\n",
    "    sleep(wait_time)"
   ]
  },
  {
   "cell_type": "code",
   "execution_count": 48,
   "id": "169a9691-d91c-41df-8bd7-a72da5bc0a9f",
   "metadata": {
    "tags": []
   },
   "outputs": [
    {
     "data": {
      "text/plain": [
       "['178,54',\n",
       " '789,75',\n",
       " '401,59',\n",
       " 'n/a',\n",
       " '982,42',\n",
       " '226,82',\n",
       " '586,68',\n",
       " '154,50',\n",
       " '1.252,36',\n",
       " 'n/a',\n",
       " '189,95',\n",
       " 'n/a',\n",
       " 'n/a',\n",
       " 'n/a',\n",
       " '1.198,74',\n",
       " '4.972,70',\n",
       " '2.610,38',\n",
       " '557,55',\n",
       " '120,57',\n",
       " '186,19',\n",
       " '165,21',\n",
       " '1.302,23',\n",
       " '1.069,84',\n",
       " '129,24',\n",
       " 'n/a',\n",
       " '137,64',\n",
       " 'n/a',\n",
       " '153,13',\n",
       " '227,72',\n",
       " '43,38',\n",
       " '743,84',\n",
       " '1.167,11',\n",
       " '34,19',\n",
       " '788,80',\n",
       " '792,19',\n",
       " '1.119,39',\n",
       " '139,77',\n",
       " '206,20',\n",
       " '795,85']"
      ]
     },
     "execution_count": 48,
     "metadata": {},
     "output_type": "execute_result"
    }
   ],
   "source": [
    "no_shares"
   ]
  },
  {
   "cell_type": "code",
   "execution_count": null,
   "id": "c182b8e7-3232-44f2-9211-c1c070e10d04",
   "metadata": {},
   "outputs": [],
   "source": []
  }
 ],
 "metadata": {
  "kernelspec": {
   "display_name": "Python 3 (ipykernel)",
   "language": "python",
   "name": "python3"
  },
  "language_info": {
   "codemirror_mode": {
    "name": "ipython",
    "version": 3
   },
   "file_extension": ".py",
   "mimetype": "text/x-python",
   "name": "python",
   "nbconvert_exporter": "python",
   "pygments_lexer": "ipython3",
   "version": "3.9.13"
  }
 },
 "nbformat": 4,
 "nbformat_minor": 5
}
