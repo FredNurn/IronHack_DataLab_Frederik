{
 "cells": [
  {
   "cell_type": "code",
   "execution_count": 57,
   "id": "d5801f2f-d34d-4db3-86d1-61f10b4e2a5e",
   "metadata": {},
   "outputs": [],
   "source": [
    "from bs4 import BeautifulSoup\n",
    "import requests\n",
    "import pandas as pd\n",
    "from fuzzywuzzy import fuzz\n",
    "from fuzzywuzzy import process\n",
    "import spotipy\n",
    "import json\n",
    "from spotipy.oauth2 import SpotifyClientCredentials\n",
    "import spotify_config\n",
    "from IPython.display import IFrame"
   ]
  },
  {
   "cell_type": "code",
   "execution_count": 58,
   "id": "07b73352-3f2e-4dbb-8305-c010d6a37923",
   "metadata": {},
   "outputs": [],
   "source": [
    "sp = spotipy.Spotify(auth_manager=SpotifyClientCredentials(client_id= spotify_config.client_id, client_secret= spotify_config.client_secret))"
   ]
  },
  {
   "cell_type": "code",
   "execution_count": 59,
   "id": "84683423-1077-4e62-b411-c0a403320358",
   "metadata": {},
   "outputs": [],
   "source": [
    "url=\"https://www.billboard.com/charts/hot-100/\""
   ]
  },
  {
   "cell_type": "code",
   "execution_count": 60,
   "id": "5d07393a-f449-46a1-883f-b062018a08d2",
   "metadata": {},
   "outputs": [],
   "source": [
    "response = requests.get(url)"
   ]
  },
  {
   "cell_type": "code",
   "execution_count": 61,
   "id": "7c3f728b-93f1-4794-a20e-17cb97a7da0a",
   "metadata": {},
   "outputs": [
    {
     "data": {
      "text/plain": [
       "200"
      ]
     },
     "execution_count": 61,
     "metadata": {},
     "output_type": "execute_result"
    }
   ],
   "source": [
    "response.status_code"
   ]
  },
  {
   "cell_type": "code",
   "execution_count": 62,
   "id": "1b08fd0a-b2aa-4dac-8e73-6e13e364f70e",
   "metadata": {},
   "outputs": [],
   "source": [
    "soup = BeautifulSoup(response.content, \"html.parser\")"
   ]
  },
  {
   "cell_type": "code",
   "execution_count": 63,
   "id": "4e259255-21fc-4cc4-8f96-8c7aa3b5de47",
   "metadata": {},
   "outputs": [],
   "source": [
    "#post-1479786 > div.pmc-paywall > div > div > div > div.chart-results-list.\\/\\/.lrv-u-padding-t-150.lrv-u-padding-t-050\\@mobile-max > div:nth-child(2) > ul > li.lrv-u-width-100p > ul > li.o-chart-results-list__item.\\/\\/.lrv-u-flex-grow-1.lrv-u-flex.lrv-u-flex-direction-column.lrv-u-justify-content-center.lrv-u-border-b-1.u-border-b-0\\@mobile-max.lrv-u-border-color-grey-light.lrv-u-padding-l-1\\@mobile-max > span"
   ]
  },
  {
   "cell_type": "code",
   "execution_count": 64,
   "id": "f5e75be9-53e2-4385-b4ba-fb2f21dc1e7b",
   "metadata": {},
   "outputs": [
    {
     "data": {
      "text/plain": [
       "[<span class=\"c-label a-no-trucate a-font-primary-s lrv-u-font-size-14@mobile-max u-line-height-normal@mobile-max u-letter-spacing-0021 lrv-u-display-block a-truncate-ellipsis-2line u-max-width-330 u-max-width-230@tablet-only u-font-size-20@tablet\">\n",
       " \t\n",
       " \tSZA\n",
       " </span>]"
      ]
     },
     "execution_count": 64,
     "metadata": {},
     "output_type": "execute_result"
    }
   ],
   "source": [
    "soup.select(\"#post-1479786 > div.pmc-paywall > div > div > div > div.chart-results-list.\\/\\/.lrv-u-padding-t-150.lrv-u-padding-t-050\\@mobile-max > div:nth-child(2) > ul > li.lrv-u-width-100p > ul > li.o-chart-results-list__item.\\/\\/.lrv-u-flex-grow-1.lrv-u-flex.lrv-u-flex-direction-column.lrv-u-justify-content-center.lrv-u-border-b-1.u-border-b-0\\@mobile-max.lrv-u-border-color-grey-light.lrv-u-padding-l-1\\@mobile-max > span\")\n"
   ]
  },
  {
   "cell_type": "code",
   "execution_count": 65,
   "id": "01095605-9d74-424c-ae89-bbfabcc06b6a",
   "metadata": {},
   "outputs": [
    {
     "data": {
      "text/plain": [
       "<h3 class=\"c-title a-no-trucate a-font-primary-bold-s u-letter-spacing-0021 lrv-u-font-size-18@tablet lrv-u-font-size-16 u-line-height-125 u-line-height-normal@mobile-max a-truncate-ellipsis u-max-width-330 u-max-width-230@tablet-only\" id=\"title-of-a-story\">\n",
       "\n",
       "\t\n",
       "\t\n",
       "\t\t\n",
       "\t\t\t\t\tFlowers\t\t\n",
       "\t\n",
       "</h3>"
      ]
     },
     "execution_count": 65,
     "metadata": {},
     "output_type": "execute_result"
    }
   ],
   "source": [
    "soup.select(\"h3#title-of-a-story.c-title\")[14]"
   ]
  },
  {
   "cell_type": "code",
   "execution_count": 66,
   "id": "eea1a9ea-4fdf-4fe6-8ae8-1708e6340e58",
   "metadata": {},
   "outputs": [],
   "source": [
    "text = str(soup.select(\"h3#title-of-a-story.c-title\")[14])"
   ]
  },
  {
   "cell_type": "code",
   "execution_count": 67,
   "id": "cd1476d6-930a-4deb-9123-7d924d94d9eb",
   "metadata": {},
   "outputs": [],
   "source": [
    "text2=text.replace('<h3 class=\"c-title a-no-trucate a-font-primary-bold-s u-letter-spacing-0021 lrv-u-font-size-18@tablet lrv-u-font-size-16 u-line-height-125 u-line-height-normal@mobile-max a-truncate-ellipsis u-max-width-330 u-max-width-230@tablet-only\" id=\"title-of-a-story\">\\n\\n\\t\\n\\t\\n\\t\\t\\n\\t\\t\\t\\t\\t',\"\")\n",
    "           "
   ]
  },
  {
   "cell_type": "code",
   "execution_count": 68,
   "id": "49c0f501-3eab-48d9-bae5-46d0a854f3b5",
   "metadata": {},
   "outputs": [],
   "source": [
    "text3=text2.replace(\"\\t\\t\\n\\t\\n</h3>\",\"\")"
   ]
  },
  {
   "cell_type": "code",
   "execution_count": 69,
   "id": "199d2131-b5bc-48c7-9a3c-0c440595d691",
   "metadata": {},
   "outputs": [
    {
     "data": {
      "text/plain": [
       "'Flowers'"
      ]
     },
     "execution_count": 69,
     "metadata": {},
     "output_type": "execute_result"
    }
   ],
   "source": [
    "text3"
   ]
  },
  {
   "cell_type": "code",
   "execution_count": 70,
   "id": "e195a337-d229-4d59-a10d-85f26bce61e9",
   "metadata": {},
   "outputs": [],
   "source": [
    "counter=6"
   ]
  },
  {
   "cell_type": "code",
   "execution_count": 71,
   "id": "ea3342f0-08f3-4da9-a577-dd0c01bba9d4",
   "metadata": {},
   "outputs": [
    {
     "data": {
      "text/plain": [
       "'<h3 class=\"c-title a-no-trucate a-font-primary-bold-s u-letter-spacing-0021 u-font-size-23@tablet lrv-u-font-size-16 u-line-height-125 u-line-height-normal@mobile-max a-truncate-ellipsis u-max-width-245 u-max-width-230@tablet-only u-letter-spacing-0028@tablet\" id=\"title-of-a-story\">\\n\\n\\t\\n\\t\\n\\t\\t\\n\\t\\t\\t\\t\\tKill Bill'"
      ]
     },
     "execution_count": 71,
     "metadata": {},
     "output_type": "execute_result"
    }
   ],
   "source": [
    "str(soup.select(\"h3#title-of-a-story.c-title\")[counter]).replace('<h3 class=\"c-title a-no-trucate a-font-primary-bold-s u-letter-spacing-0021 lrv-u-font-size-18@tablet lrv-u-font-size-16 u-line-height-125 u-line-height-normal@mobile-max a-truncate-ellipsis u-max-width-330 u-max-width-230@tablet-only\" id=\"title-of-a-story\">\\n\\n\\t\\n\\t\\n\\t\\t\\n\\t\\t\\t\\t\\t',\"\").replace(\"\\t\\t\\n\\t\\n</h3>\",\"\")\n"
   ]
  },
  {
   "cell_type": "code",
   "execution_count": 72,
   "id": "6d35796c-43fa-48dd-b5d5-345e3b19c01a",
   "metadata": {},
   "outputs": [
    {
     "data": {
      "text/plain": [
       "'<h3 class=\"c-title a-no-trucate a-font-primary-bold-s u-letter-spacing-0021 u-font-size-23@tablet lrv-u-font-size-16 u-line-height-125 u-line-height-normal@mobile-max a-truncate-ellipsis u-max-width-245 u-max-width-230@tablet-only u-letter-spacing-0028@tablet\" id=\"title-of-a-story\">\\n\\n\\t\\n\\t\\n\\t\\t\\n\\t\\t\\t\\t\\tKill Bill'"
      ]
     },
     "execution_count": 72,
     "metadata": {},
     "output_type": "execute_result"
    }
   ],
   "source": [
    "(str(soup.select(\"h3#title-of-a-story.c-title\")[counter]).replace('<h3 class=\"c-title a-no-trucate a-font-primary-bold-s u-letter-spacing-0021 lrv-u-font-size-18@tablet lrv-u-font-size-16 u-line-height-125 u-line-height-normal@mobile-max a-truncate-ellipsis u-max-width-330 u-max-width-230@tablet-only\" id=\"title-of-a-story\">\\n\\n\\t\\n\\t\\n\\t\\t\\n\\t\\t\\t\\t\\t',\"\").replace(\"\\t\\t\\n\\t\\n</h3>\",\"\"))"
   ]
  },
  {
   "cell_type": "code",
   "execution_count": 73,
   "id": "16475c00-6552-43fe-920b-80e5a4c42fe8",
   "metadata": {},
   "outputs": [
    {
     "data": {
      "text/plain": [
       "'Kill Bill'"
      ]
     },
     "execution_count": 73,
     "metadata": {},
     "output_type": "execute_result"
    }
   ],
   "source": [
    "soup.select(\"h3#title-of-a-story.c-title\")[6].get_text(\"/\", strip=True)"
   ]
  },
  {
   "cell_type": "code",
   "execution_count": 74,
   "id": "17299356-4593-489b-87f9-f76483c8eeb6",
   "metadata": {},
   "outputs": [],
   "source": [
    "title=[]"
   ]
  },
  {
   "cell_type": "code",
   "execution_count": 75,
   "id": "fe54500e-8cec-4d00-b50c-feec51678019",
   "metadata": {},
   "outputs": [],
   "source": [
    "counter=6\n",
    "while counter<406:\n",
    "    title.append(str(soup.select(\"h3#title-of-a-story.c-title\")[counter].get_text(\"/\", strip=True)))\n",
    "    counter = counter + 4"
   ]
  },
  {
   "cell_type": "code",
   "execution_count": 76,
   "id": "dfc249f5-841d-4cbc-9411-2510d9b6ba05",
   "metadata": {},
   "outputs": [
    {
     "data": {
      "text/plain": [
       "'Morgan Wallen'"
      ]
     },
     "execution_count": 76,
     "metadata": {},
     "output_type": "execute_result"
    }
   ],
   "source": [
    "soup.select(\"span.c-label.a-no-trucate\")[1].get_text(\"/\", strip=True)"
   ]
  },
  {
   "cell_type": "code",
   "execution_count": 77,
   "id": "3e984eee-f28b-448b-a39c-171de6ef74d4",
   "metadata": {},
   "outputs": [],
   "source": [
    "artist = []\n",
    "counter=0"
   ]
  },
  {
   "cell_type": "code",
   "execution_count": 78,
   "id": "4e382f98-d470-4cea-a317-5f4cc109ce0a",
   "metadata": {},
   "outputs": [],
   "source": [
    "while counter<100:\n",
    "    artist.append(str(soup.select(\"span.c-label.a-no-trucate\")[counter].get_text(\"/\", strip=True)))\n",
    "    counter = counter + 1"
   ]
  },
  {
   "cell_type": "code",
   "execution_count": 79,
   "id": "0abb1ecb-8182-4357-917c-4b58b781e6bb",
   "metadata": {},
   "outputs": [],
   "source": [
    "hot100_df=pd.DataFrame(list(zip(artist, title)),\n",
    "              columns=['artist','title'])"
   ]
  },
  {
   "cell_type": "code",
   "execution_count": 80,
   "id": "540a0f05-7f00-445d-be5f-11625dff7251",
   "metadata": {},
   "outputs": [],
   "source": [
    "def play_song(track_id):\n",
    "    return IFrame(src=\"https://open.spotify.com/embed/track/\"+track_id,\n",
    "       width=\"320\",\n",
    "       height=\"80\",\n",
    "       frameborder=\"0\",\n",
    "       allowtransparency=\"true\",\n",
    "       allow=\"encrypted-media\",\n",
    "      )"
   ]
  },
  {
   "cell_type": "code",
   "execution_count": 81,
   "id": "b736a192-930e-4eb9-83c7-61c4b1b926a7",
   "metadata": {},
   "outputs": [],
   "source": [
    "x = None"
   ]
  },
  {
   "cell_type": "code",
   "execution_count": 104,
   "id": "587bb6ba-5dd5-4c45-9dd4-4290938e47e1",
   "metadata": {},
   "outputs": [
    {
     "name": "stdin",
     "output_type": "stream",
     "text": [
      "Name a song in the current Billboard Hot 100: camisa negra\n"
     ]
    },
    {
     "name": "stdout",
     "output_type": "stream",
     "text": [
      "Sorry, your input is not in the Top 100! Did you mean: AMG by Gabito Ballesteros, Peso Pluma & Natanael Cano ?\n"
     ]
    },
    {
     "name": "stdin",
     "output_type": "stream",
     "text": [
      "Input yes or no: no\n"
     ]
    },
    {
     "name": "stdout",
     "output_type": "stream",
     "text": [
      "Did you mean: La Camisa Negra by Juanes\n"
     ]
    }
   ],
   "source": [
    "x = input(\"Name a song in the current Billboard Hot 100:\")\n",
    "y = hot100_df['title'].sample().iloc[0]\n",
    "artist = hot100_df.loc[hot100_df['title'] == y,'artist'].iloc[0]\n",
    "closest_match = process.extractOne(x, hot100_df['title'])\n",
    "result=sp.search(q=y+artist,limit=1,market=\"GB\")\n",
    "\n",
    "if x in list(hot100_df[\"title\"]):\n",
    "        if y!=x:\n",
    "            print(\"Great taste! You might also like:\", y ,\"by\", hot100_df.loc[hot100_df['title'] == y,'artist'].iloc[0])\n",
    "        else:\n",
    "            c = hot100_df['title'].sample().iloc[0]\n",
    "            print(\"Great taste! You might also like:\", c ,\"by\", hot100_df.loc[hot100_df['title'] == c,'artist'].iloc[0])\n",
    "else:\n",
    "        print('Sorry, your input is not in the Top 100! Did you mean:',closest_match[0],\"by\", hot100_df.loc[hot100_df['title'] == closest_match[0],'artist'].iloc[0],\"?\")\n",
    "        a = input(\"Input yes or no:\")\n",
    "        if a==\"yes\":\n",
    "            play_song(result[\"tracks\"][\"items\"][0][\"id\"])\n",
    "            print(\"Great taste! You might also like:\", y ,\"by\", artist)         \n",
    "        else:\n",
    "            result2=sp.search(q=x,limit=1,market=\"GB\")\n",
    "            song_id = result2[\"tracks\"][\"items\"][0][\"id\"]\n",
    "            print(\"Did you mean:\",result2[\"tracks\"][\"items\"][0][\"name\"],\"by\",result2[\"tracks\"][\"items\"][0][\"artists\"][0][\"name\"])"
   ]
  },
  {
   "cell_type": "code",
   "execution_count": null,
   "id": "ebd89ff1-ded2-4615-9b52-e1b4fc08be2b",
   "metadata": {},
   "outputs": [],
   "source": []
  },
  {
   "cell_type": "markdown",
   "id": "acc37cfe-26ca-4330-9396-99e62f616732",
   "metadata": {},
   "source": []
  },
  {
   "cell_type": "code",
   "execution_count": 93,
   "id": "38171df1-edd7-4295-9875-5579e5181577",
   "metadata": {},
   "outputs": [
    {
     "data": {
      "text/html": [
       "\n",
       "        <iframe\n",
       "            width=\"320\"\n",
       "            height=\"80\"\n",
       "            src=\"https://open.spotify.com/embed/track/1odExI7RdWc4BT515LTAwj?frameborder=0&allowtransparency=true&allow=encrypted-media\"\n",
       "            frameborder=\"0\"\n",
       "            allowfullscreen\n",
       "            \n",
       "        ></iframe>\n",
       "        "
      ],
      "text/plain": [
       "<IPython.lib.display.IFrame at 0x2334efaa100>"
      ]
     },
     "execution_count": 93,
     "metadata": {},
     "output_type": "execute_result"
    }
   ],
   "source": [
    " play_song(result[\"tracks\"][\"items\"][0][\"id\"])"
   ]
  },
  {
   "cell_type": "code",
   "execution_count": 91,
   "id": "b21e7598-5ac6-4486-be61-f6c943495fbd",
   "metadata": {},
   "outputs": [
    {
     "data": {
      "text/html": [
       "\n",
       "        <iframe\n",
       "            width=\"320\"\n",
       "            height=\"80\"\n",
       "            src=\"https://open.spotify.com/embed/track/4iy69rTUn8cAY8Q8q9vfOw?frameborder=0&allowtransparency=true&allow=encrypted-media\"\n",
       "            frameborder=\"0\"\n",
       "            allowfullscreen\n",
       "            \n",
       "        ></iframe>\n",
       "        "
      ],
      "text/plain": [
       "<IPython.lib.display.IFrame at 0x2334ef82dc0>"
      ]
     },
     "execution_count": 91,
     "metadata": {},
     "output_type": "execute_result"
    }
   ],
   "source": [
    "play_song(result[\"tracks\"][\"items\"][0][\"id\"])"
   ]
  },
  {
   "cell_type": "code",
   "execution_count": 88,
   "id": "a9fa6000-7753-4b05-aba1-0ca5624bd5e1",
   "metadata": {},
   "outputs": [
    {
     "data": {
      "text/plain": [
       "'17js0w8GTkTUFGFM6PYvBd'"
      ]
     },
     "execution_count": 88,
     "metadata": {},
     "output_type": "execute_result"
    }
   ],
   "source": [
    "result[\"tracks\"][\"items\"][0][\"id\"]"
   ]
  },
  {
   "cell_type": "code",
   "execution_count": 87,
   "id": "23289c6e-0ad4-4453-8183-7f3eeed7bc2f",
   "metadata": {},
   "outputs": [
    {
     "data": {
      "text/html": [
       "\n",
       "        <iframe\n",
       "            width=\"320\"\n",
       "            height=\"80\"\n",
       "            src=\"https://open.spotify.com/embed/track/17js0w8GTkTUFGFM6PYvBd?frameborder=0&allowtransparency=true&allow=encrypted-media\"\n",
       "            frameborder=\"0\"\n",
       "            allowfullscreen\n",
       "            \n",
       "        ></iframe>\n",
       "        "
      ],
      "text/plain": [
       "<IPython.lib.display.IFrame at 0x2334ef90520>"
      ]
     },
     "execution_count": 87,
     "metadata": {},
     "output_type": "execute_result"
    }
   ],
   "source": [
    "play_song(\"17js0w8GTkTUFGFM6PYvBd\")"
   ]
  },
  {
   "cell_type": "code",
   "execution_count": 51,
   "id": "f5861d06-19bc-4b6e-9822-3c494062d427",
   "metadata": {},
   "outputs": [
    {
     "data": {
      "text/html": [
       "\n",
       "        <iframe\n",
       "            width=\"320\"\n",
       "            height=\"80\"\n",
       "            src=\"https://open.spotify.com/embed/track/5f7VJjfbwm532GiveGC0ZK?frameborder=0&allowtransparency=true&allow=encrypted-media\"\n",
       "            frameborder=\"0\"\n",
       "            allowfullscreen\n",
       "            \n",
       "        ></iframe>\n",
       "        "
      ],
      "text/plain": [
       "<IPython.lib.display.IFrame at 0x2334d729cd0>"
      ]
     },
     "execution_count": 51,
     "metadata": {},
     "output_type": "execute_result"
    }
   ],
   "source": [
    "play_song(result[\"tracks\"][\"items\"][0]['album']['artists'][0][\"id\"])"
   ]
  },
  {
   "cell_type": "code",
   "execution_count": 42,
   "id": "2770d036-a449-4a75-9f05-a43c8b5f5cad",
   "metadata": {},
   "outputs": [
    {
     "ename": "TypeError",
     "evalue": "decoding str is not supported",
     "output_type": "error",
     "traceback": [
      "\u001b[1;31m---------------------------------------------------------------------------\u001b[0m",
      "\u001b[1;31mTypeError\u001b[0m                                 Traceback (most recent call last)",
      "Cell \u001b[1;32mIn[42], line 1\u001b[0m\n\u001b[1;32m----> 1\u001b[0m \u001b[38;5;28;43mstr\u001b[39;49m\u001b[43m(\u001b[49m\u001b[43my\u001b[49m\u001b[43m,\u001b[49m\u001b[43martist\u001b[49m\u001b[43m)\u001b[49m\n",
      "\u001b[1;31mTypeError\u001b[0m: decoding str is not supported"
     ]
    }
   ],
   "source": [
    "str(y,artist)"
   ]
  },
  {
   "cell_type": "code",
   "execution_count": 43,
   "id": "2128282e-8d08-41c8-a68f-0343df3e8736",
   "metadata": {},
   "outputs": [
    {
     "data": {
      "text/plain": [
       "'Chanel'"
      ]
     },
     "execution_count": 43,
     "metadata": {},
     "output_type": "execute_result"
    }
   ],
   "source": [
    "y"
   ]
  },
  {
   "cell_type": "code",
   "execution_count": 44,
   "id": "73fe1a38-34e2-4ce2-8583-bd4d4eec9667",
   "metadata": {},
   "outputs": [
    {
     "data": {
      "text/plain": [
       "'Becky G & Peso Pluma'"
      ]
     },
     "execution_count": 44,
     "metadata": {},
     "output_type": "execute_result"
    }
   ],
   "source": [
    "artist"
   ]
  },
  {
   "cell_type": "code",
   "execution_count": null,
   "id": "a9bbedcc-5047-489b-bddf-cc3f4701968c",
   "metadata": {},
   "outputs": [],
   "source": []
  }
 ],
 "metadata": {
  "kernelspec": {
   "display_name": "Python 3 (ipykernel)",
   "language": "python",
   "name": "python3"
  },
  "language_info": {
   "codemirror_mode": {
    "name": "ipython",
    "version": 3
   },
   "file_extension": ".py",
   "mimetype": "text/x-python",
   "name": "python",
   "nbconvert_exporter": "python",
   "pygments_lexer": "ipython3",
   "version": "3.9.16"
  }
 },
 "nbformat": 4,
 "nbformat_minor": 5
}
