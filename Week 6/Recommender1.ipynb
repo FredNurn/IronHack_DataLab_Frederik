{
 "cells": [
  {
   "cell_type": "code",
   "execution_count": 102,
   "id": "d5801f2f-d34d-4db3-86d1-61f10b4e2a5e",
   "metadata": {},
   "outputs": [],
   "source": [
    "from bs4 import BeautifulSoup\n",
    "import requests\n",
    "import pandas as pd"
   ]
  },
  {
   "cell_type": "code",
   "execution_count": 103,
   "id": "84683423-1077-4e62-b411-c0a403320358",
   "metadata": {},
   "outputs": [],
   "source": [
    "url=\"https://www.billboard.com/charts/hot-100/\""
   ]
  },
  {
   "cell_type": "code",
   "execution_count": 104,
   "id": "5d07393a-f449-46a1-883f-b062018a08d2",
   "metadata": {},
   "outputs": [],
   "source": [
    "response = requests.get(url)"
   ]
  },
  {
   "cell_type": "code",
   "execution_count": 105,
   "id": "7c3f728b-93f1-4794-a20e-17cb97a7da0a",
   "metadata": {},
   "outputs": [
    {
     "data": {
      "text/plain": [
       "200"
      ]
     },
     "execution_count": 105,
     "metadata": {},
     "output_type": "execute_result"
    }
   ],
   "source": [
    "response.status_code"
   ]
  },
  {
   "cell_type": "code",
   "execution_count": 106,
   "id": "1b08fd0a-b2aa-4dac-8e73-6e13e364f70e",
   "metadata": {},
   "outputs": [],
   "source": [
    "soup = BeautifulSoup(response.content, \"html.parser\")"
   ]
  },
  {
   "cell_type": "code",
   "execution_count": 107,
   "id": "4e259255-21fc-4cc4-8f96-8c7aa3b5de47",
   "metadata": {},
   "outputs": [],
   "source": [
    "#post-1479786 > div.pmc-paywall > div > div > div > div.chart-results-list.\\/\\/.lrv-u-padding-t-150.lrv-u-padding-t-050\\@mobile-max > div:nth-child(2) > ul > li.lrv-u-width-100p > ul > li.o-chart-results-list__item.\\/\\/.lrv-u-flex-grow-1.lrv-u-flex.lrv-u-flex-direction-column.lrv-u-justify-content-center.lrv-u-border-b-1.u-border-b-0\\@mobile-max.lrv-u-border-color-grey-light.lrv-u-padding-l-1\\@mobile-max > span"
   ]
  },
  {
   "cell_type": "code",
   "execution_count": 108,
   "id": "f5e75be9-53e2-4385-b4ba-fb2f21dc1e7b",
   "metadata": {},
   "outputs": [
    {
     "data": {
      "text/plain": [
       "[<span class=\"c-label a-no-trucate a-font-primary-s lrv-u-font-size-14@mobile-max u-line-height-normal@mobile-max u-letter-spacing-0021 lrv-u-display-block a-truncate-ellipsis-2line u-max-width-330 u-max-width-230@tablet-only u-font-size-20@tablet\">\n",
       " \t\n",
       " \tMorgan Wallen\n",
       " </span>]"
      ]
     },
     "execution_count": 108,
     "metadata": {},
     "output_type": "execute_result"
    }
   ],
   "source": [
    "soup.select(\"#post-1479786 > div.pmc-paywall > div > div > div > div.chart-results-list.\\/\\/.lrv-u-padding-t-150.lrv-u-padding-t-050\\@mobile-max > div:nth-child(2) > ul > li.lrv-u-width-100p > ul > li.o-chart-results-list__item.\\/\\/.lrv-u-flex-grow-1.lrv-u-flex.lrv-u-flex-direction-column.lrv-u-justify-content-center.lrv-u-border-b-1.u-border-b-0\\@mobile-max.lrv-u-border-color-grey-light.lrv-u-padding-l-1\\@mobile-max > span\")\n"
   ]
  },
  {
   "cell_type": "code",
   "execution_count": 109,
   "id": "01095605-9d74-424c-ae89-bbfabcc06b6a",
   "metadata": {},
   "outputs": [
    {
     "data": {
      "text/plain": [
       "<h3 class=\"c-title a-no-trucate a-font-primary-bold-s u-letter-spacing-0021 lrv-u-font-size-18@tablet lrv-u-font-size-16 u-line-height-125 u-line-height-normal@mobile-max a-truncate-ellipsis u-max-width-330 u-max-width-230@tablet-only\" id=\"title-of-a-story\">\n",
       "\n",
       "\t\n",
       "\t\n",
       "\t\t\n",
       "\t\t\t\t\tFlowers\t\t\n",
       "\t\n",
       "</h3>"
      ]
     },
     "execution_count": 109,
     "metadata": {},
     "output_type": "execute_result"
    }
   ],
   "source": [
    "soup.select(\"h3#title-of-a-story.c-title\")[14]"
   ]
  },
  {
   "cell_type": "code",
   "execution_count": 110,
   "id": "eea1a9ea-4fdf-4fe6-8ae8-1708e6340e58",
   "metadata": {},
   "outputs": [],
   "source": [
    "text = str(soup.select(\"h3#title-of-a-story.c-title\")[14])"
   ]
  },
  {
   "cell_type": "code",
   "execution_count": 111,
   "id": "cd1476d6-930a-4deb-9123-7d924d94d9eb",
   "metadata": {},
   "outputs": [],
   "source": [
    "text2=text.replace('<h3 class=\"c-title a-no-trucate a-font-primary-bold-s u-letter-spacing-0021 lrv-u-font-size-18@tablet lrv-u-font-size-16 u-line-height-125 u-line-height-normal@mobile-max a-truncate-ellipsis u-max-width-330 u-max-width-230@tablet-only\" id=\"title-of-a-story\">\\n\\n\\t\\n\\t\\n\\t\\t\\n\\t\\t\\t\\t\\t',\"\")\n",
    "           "
   ]
  },
  {
   "cell_type": "code",
   "execution_count": 112,
   "id": "49c0f501-3eab-48d9-bae5-46d0a854f3b5",
   "metadata": {},
   "outputs": [],
   "source": [
    "text3=text2.replace(\"\\t\\t\\n\\t\\n</h3>\",\"\")"
   ]
  },
  {
   "cell_type": "code",
   "execution_count": 113,
   "id": "199d2131-b5bc-48c7-9a3c-0c440595d691",
   "metadata": {},
   "outputs": [
    {
     "data": {
      "text/plain": [
       "'Flowers'"
      ]
     },
     "execution_count": 113,
     "metadata": {},
     "output_type": "execute_result"
    }
   ],
   "source": [
    "text3"
   ]
  },
  {
   "cell_type": "code",
   "execution_count": 114,
   "id": "e195a337-d229-4d59-a10d-85f26bce61e9",
   "metadata": {},
   "outputs": [],
   "source": [
    "counter=6"
   ]
  },
  {
   "cell_type": "code",
   "execution_count": 115,
   "id": "ea3342f0-08f3-4da9-a577-dd0c01bba9d4",
   "metadata": {},
   "outputs": [
    {
     "data": {
      "text/plain": [
       "'<h3 class=\"c-title a-no-trucate a-font-primary-bold-s u-letter-spacing-0021 u-font-size-23@tablet lrv-u-font-size-16 u-line-height-125 u-line-height-normal@mobile-max a-truncate-ellipsis u-max-width-245 u-max-width-230@tablet-only u-letter-spacing-0028@tablet\" id=\"title-of-a-story\">\\n\\n\\t\\n\\t\\n\\t\\t\\n\\t\\t\\t\\t\\tLast Night'"
      ]
     },
     "execution_count": 115,
     "metadata": {},
     "output_type": "execute_result"
    }
   ],
   "source": [
    "str(soup.select(\"h3#title-of-a-story.c-title\")[counter]).replace('<h3 class=\"c-title a-no-trucate a-font-primary-bold-s u-letter-spacing-0021 lrv-u-font-size-18@tablet lrv-u-font-size-16 u-line-height-125 u-line-height-normal@mobile-max a-truncate-ellipsis u-max-width-330 u-max-width-230@tablet-only\" id=\"title-of-a-story\">\\n\\n\\t\\n\\t\\n\\t\\t\\n\\t\\t\\t\\t\\t',\"\").replace(\"\\t\\t\\n\\t\\n</h3>\",\"\")\n"
   ]
  },
  {
   "cell_type": "code",
   "execution_count": 116,
   "id": "63144df5-06f2-45d8-88c2-3f9be472f685",
   "metadata": {},
   "outputs": [],
   "source": [
    "title=[]"
   ]
  },
  {
   "cell_type": "code",
   "execution_count": 117,
   "id": "5f873fcc-5a63-48e9-913d-52c5e5e84545",
   "metadata": {},
   "outputs": [],
   "source": [
    "while counter<106:\n",
    "    title.append(str(soup.select(\"h3#title-of-a-story.c-title\")[counter]).replace('<h3 class=\"c-title a-no-trucate a-font-primary-bold-s u-letter-spacing-0021 lrv-u-font-size-18@tablet lrv-u-font-size-16 u-line-height-125 u-line-height-normal@mobile-max a-truncate-ellipsis u-max-width-330 u-max-width-230@tablet-only\" id=\"title-of-a-story\">\\n\\n\\t\\n\\t\\n\\t\\t\\n\\t\\t\\t\\t\\t',\"\").replace(\"\\t\\t\\n\\t\\n</h3>\",\"\"))\n",
    "    counter = counter + 4\n",
    "\n",
    "    "
   ]
  },
  {
   "cell_type": "code",
   "execution_count": 118,
   "id": "5804c7f9-7874-4e44-8928-bcc84a8a4034",
   "metadata": {},
   "outputs": [
    {
     "data": {
      "text/plain": [
       "['<h3 class=\"c-title a-no-trucate a-font-primary-bold-s u-letter-spacing-0021 u-font-size-23@tablet lrv-u-font-size-16 u-line-height-125 u-line-height-normal@mobile-max a-truncate-ellipsis u-max-width-245 u-max-width-230@tablet-only u-letter-spacing-0028@tablet\" id=\"title-of-a-story\">\\n\\n\\t\\n\\t\\n\\t\\t\\n\\t\\t\\t\\t\\tLast Night',\n",
       " 'Search &amp; Rescue',\n",
       " 'Flowers',\n",
       " 'Kill Bill',\n",
       " \"Creepin'\",\n",
       " 'Calm Down',\n",
       " 'Die For You',\n",
       " \"Boy's A Liar, Pt. 2\",\n",
       " 'Anti-Hero',\n",
       " 'Ella Baila Sola',\n",
       " 'Rock And A Hard Place',\n",
       " 'Players',\n",
       " 'You Proof',\n",
       " 'Favorite Song',\n",
       " 'Sure Thing',\n",
       " 'Lavender Haze',\n",
       " 'La Bebe',\n",
       " 'As It Was',\n",
       " 'Thought You Should Know',\n",
       " \"Thinkin' Bout Me\",\n",
       " \"I'm Good (Blue)\",\n",
       " 'One Thing At A Time',\n",
       " 'Fast Car',\n",
       " 'Under The Influence',\n",
       " 'Something In The Orange']"
      ]
     },
     "execution_count": 118,
     "metadata": {},
     "output_type": "execute_result"
    }
   ],
   "source": [
    "title"
   ]
  },
  {
   "cell_type": "code",
   "execution_count": 101,
   "id": "6d35796c-43fa-48dd-b5d5-345e3b19c01a",
   "metadata": {},
   "outputs": [
    {
     "data": {
      "text/plain": [
       "'<h3 class=\"c-title a-font-primary-medium-s u-letter-spacing-0021\" id=\"title-of-a-story\">\\n\\n\\t\\n\\t\\n\\t\\t\\n\\t\\t\\t\\t\\tProducer(s):'"
      ]
     },
     "execution_count": 101,
     "metadata": {},
     "output_type": "execute_result"
    }
   ],
   "source": [
    "(str(soup.select(\"h3#title-of-a-story.c-title\")[counter]).replace('<h3 class=\"c-title a-no-trucate a-font-primary-bold-s u-letter-spacing-0021 lrv-u-font-size-18@tablet lrv-u-font-size-16 u-line-height-125 u-line-height-normal@mobile-max a-truncate-ellipsis u-max-width-330 u-max-width-230@tablet-only\" id=\"title-of-a-story\">\\n\\n\\t\\n\\t\\n\\t\\t\\n\\t\\t\\t\\t\\t',\"\").replace(\"\\t\\t\\n\\t\\n</h3>\",\"\"))"
   ]
  },
  {
   "cell_type": "code",
   "execution_count": 120,
   "id": "16475c00-6552-43fe-920b-80e5a4c42fe8",
   "metadata": {},
   "outputs": [
    {
     "data": {
      "text/plain": [
       "'Last Night'"
      ]
     },
     "execution_count": 120,
     "metadata": {},
     "output_type": "execute_result"
    }
   ],
   "source": [
    "soup.select(\"h3#title-of-a-story.c-title\")[6].get_text(\"/\", strip=True)"
   ]
  },
  {
   "cell_type": "code",
   "execution_count": 122,
   "id": "17299356-4593-489b-87f9-f76483c8eeb6",
   "metadata": {},
   "outputs": [],
   "source": [
    "title=[]"
   ]
  },
  {
   "cell_type": "code",
   "execution_count": 123,
   "id": "fe54500e-8cec-4d00-b50c-feec51678019",
   "metadata": {},
   "outputs": [],
   "source": [
    "counter=6\n",
    "while counter<406:\n",
    "    title.append(str(soup.select(\"h3#title-of-a-story.c-title\")[counter].get_text(\"/\", strip=True)))\n",
    "    counter = counter + 4"
   ]
  },
  {
   "cell_type": "code",
   "execution_count": 124,
   "id": "17f010f5-0508-4a56-905a-6f3af59ccde9",
   "metadata": {},
   "outputs": [
    {
     "data": {
      "text/plain": [
       "['Last Night',\n",
       " 'Search & Rescue',\n",
       " 'Flowers',\n",
       " 'Kill Bill',\n",
       " \"Creepin'\",\n",
       " 'Calm Down',\n",
       " 'Die For You',\n",
       " \"Boy's A Liar, Pt. 2\",\n",
       " 'Anti-Hero',\n",
       " 'Ella Baila Sola',\n",
       " 'Rock And A Hard Place',\n",
       " 'Players',\n",
       " 'You Proof',\n",
       " 'Favorite Song',\n",
       " 'Sure Thing',\n",
       " 'Lavender Haze',\n",
       " 'La Bebe',\n",
       " 'As It Was',\n",
       " 'Thought You Should Know',\n",
       " \"Thinkin' Bout Me\",\n",
       " \"I'm Good (Blue)\",\n",
       " 'One Thing At A Time',\n",
       " 'Fast Car',\n",
       " 'Under The Influence',\n",
       " 'Something In The Orange',\n",
       " 'Escapism',\n",
       " 'Thank God',\n",
       " 'Slut Me Out',\n",
       " 'Unholy',\n",
       " 'Just Wanna Rock',\n",
       " 'Handle On You',\n",
       " 'Wait In The Truck',\n",
       " 'TQG',\n",
       " 'Snooze',\n",
       " 'Rich Flex',\n",
       " 'Heart Like A Truck',\n",
       " \"Dancin' In The Country\",\n",
       " 'Superhero (Heroes & Villains)',\n",
       " 'Spin Bout U',\n",
       " 'Love You Anyway',\n",
       " 'Fight The Feeling',\n",
       " 'Eyes Closed',\n",
       " 'Until I Found You',\n",
       " 'Cuff It',\n",
       " 'Going, Going, Gone',\n",
       " 'Bloody Mary',\n",
       " 'Golden Hour',\n",
       " 'Next Thing You Know',\n",
       " 'PRC',\n",
       " 'Wild As Her',\n",
       " 'Por Las Noches',\n",
       " 'Like Crazy',\n",
       " 'AMG',\n",
       " 'Happy',\n",
       " 'Tennessee Orange',\n",
       " \"Ain't That Some\",\n",
       " 'Everything I Love',\n",
       " 'Low Down',\n",
       " '5 Leaf Clover',\n",
       " 'Cupid',\n",
       " 'Red Ruby Da Sleeze',\n",
       " 'Bebe Dame',\n",
       " 'I Wrote The Book',\n",
       " 'All Of The Girls You Loved Before',\n",
       " 'Cowgirls',\n",
       " 'Beso',\n",
       " 'Man Made A Bar',\n",
       " 'Nonsense',\n",
       " 'Dogtooth',\n",
       " 'Ch y La Pizza',\n",
       " 'Strike (Holster)',\n",
       " 'Yandel 150',\n",
       " 'Need A Favor',\n",
       " 'Special',\n",
       " 'ICU',\n",
       " 'In Ha Mood',\n",
       " 'Painting Pictures',\n",
       " 'Ceilings',\n",
       " 'Bzrp Music Sessions, Vol. 53',\n",
       " 'Trance',\n",
       " 'Nasty',\n",
       " 'Sorry Not Sorry',\n",
       " 'Peaches',\n",
       " 'Forever',\n",
       " 'Careful',\n",
       " 'Gold',\n",
       " 'El Azul',\n",
       " 'Love Again',\n",
       " 'Human',\n",
       " 'I Know',\n",
       " 'Dawns',\n",
       " 'El Gordo Trae El Mando',\n",
       " 'Sunrise',\n",
       " 'Never Felt So Alone',\n",
       " \"Don't Play With It\",\n",
       " 'Memory Lane',\n",
       " \"What He Didn't Do\",\n",
       " 'Que Vuelvas',\n",
       " 'WTF',\n",
       " \"'98 Braves\"]"
      ]
     },
     "execution_count": 124,
     "metadata": {},
     "output_type": "execute_result"
    }
   ],
   "source": [
    "title"
   ]
  },
  {
   "cell_type": "code",
   "execution_count": 172,
   "id": "dfc249f5-841d-4cbc-9411-2510d9b6ba05",
   "metadata": {},
   "outputs": [
    {
     "data": {
      "text/plain": [
       "'Drake'"
      ]
     },
     "execution_count": 172,
     "metadata": {},
     "output_type": "execute_result"
    }
   ],
   "source": [
    "soup.select(\"span.c-label.a-no-trucate\")[1].get_text(\"/\", strip=True)"
   ]
  },
  {
   "cell_type": "code",
   "execution_count": 177,
   "id": "3e984eee-f28b-448b-a39c-171de6ef74d4",
   "metadata": {},
   "outputs": [],
   "source": [
    "artist = []\n",
    "counter=0"
   ]
  },
  {
   "cell_type": "code",
   "execution_count": 178,
   "id": "4e382f98-d470-4cea-a317-5f4cc109ce0a",
   "metadata": {},
   "outputs": [],
   "source": [
    "while counter<100:\n",
    "    artist.append(str(soup.select(\"span.c-label.a-no-trucate\")[counter].get_text(\"/\", strip=True)))\n",
    "    counter = counter + 1"
   ]
  },
  {
   "cell_type": "code",
   "execution_count": 179,
   "id": "fcc53c4f-546d-4ce3-906d-42256feaf956",
   "metadata": {},
   "outputs": [
    {
     "data": {
      "text/plain": [
       "['Morgan Wallen',\n",
       " 'Drake',\n",
       " 'Miley Cyrus',\n",
       " 'SZA',\n",
       " 'Metro Boomin, The Weeknd & 21 Savage',\n",
       " 'Rema & Selena Gomez',\n",
       " 'The Weeknd & Ariana Grande',\n",
       " 'PinkPantheress & Ice Spice',\n",
       " 'Taylor Swift',\n",
       " 'Eslabon Armado X Peso Pluma',\n",
       " 'Bailey Zimmerman',\n",
       " 'Coi Leray',\n",
       " 'Morgan Wallen',\n",
       " 'Toosii',\n",
       " 'Miguel',\n",
       " 'Taylor Swift',\n",
       " 'Yng Lvcas x Peso Pluma',\n",
       " 'Harry Styles',\n",
       " 'Morgan Wallen',\n",
       " 'Morgan Wallen',\n",
       " 'David Guetta & Bebe Rexha',\n",
       " 'Morgan Wallen',\n",
       " 'Luke Combs',\n",
       " 'Chris Brown',\n",
       " 'Zach Bryan',\n",
       " 'RAYE Featuring 070 Shake',\n",
       " 'Kane Brown With Katelyn Brown',\n",
       " 'NLE Choppa',\n",
       " 'Sam Smith & Kim Petras',\n",
       " 'Lil Uzi Vert',\n",
       " 'Parker McCollum',\n",
       " 'HARDY Featuring Lainey Wilson',\n",
       " 'Karol G x Shakira',\n",
       " 'SZA',\n",
       " 'Drake & 21 Savage',\n",
       " 'Lainey Wilson',\n",
       " 'Tyler Hubbard',\n",
       " 'Metro Boomin, Future & Chris Brown',\n",
       " 'Drake & 21 Savage',\n",
       " 'Luke Combs',\n",
       " 'Rod Wave',\n",
       " 'Ed Sheeran',\n",
       " 'Stephen Sanchez',\n",
       " 'Beyonce',\n",
       " 'Luke Combs',\n",
       " 'Lady Gaga',\n",
       " 'JVKE',\n",
       " 'Jordan Davis',\n",
       " 'Peso Pluma X Natanael Cano',\n",
       " 'Corey Kent',\n",
       " 'Peso Pluma',\n",
       " 'Jimin',\n",
       " 'Gabito Ballesteros, Peso Pluma & Natanael Cano',\n",
       " 'NF',\n",
       " 'Megan Moroney',\n",
       " 'Morgan Wallen',\n",
       " 'Morgan Wallen',\n",
       " 'Lil Baby',\n",
       " 'Luke Combs',\n",
       " 'Fifty Fifty',\n",
       " 'Nicki Minaj',\n",
       " 'Fuerza Regida X Grupo Frontera',\n",
       " 'Morgan Wallen',\n",
       " 'Taylor Swift',\n",
       " 'Morgan Wallen Featuring ERNEST',\n",
       " 'Rosalia & Rauw Alejandro',\n",
       " 'Morgan Wallen Featuring Eric Church',\n",
       " 'Sabrina Carpenter',\n",
       " 'Tyler, The Creator',\n",
       " 'Fuerza Regida X Natanael Cano',\n",
       " 'Lil Yachty',\n",
       " 'Yandel & Feid',\n",
       " 'Jelly Roll',\n",
       " 'Lizzo Featuring SZA',\n",
       " 'Coco Jones',\n",
       " 'Ice Spice',\n",
       " 'Superstar Pride',\n",
       " 'Lizzy McAlpine',\n",
       " 'Bizarrap & Shakira',\n",
       " 'Metro Boomin, Travis Scott & Young Thug',\n",
       " 'Russ',\n",
       " 'Tyler, The Creator',\n",
       " 'Jack Black',\n",
       " 'Lil Baby Featuring Fridayy',\n",
       " 'NF & Cordae',\n",
       " 'Dierks Bentley',\n",
       " 'Junior H x Peso Pluma',\n",
       " 'The Kid LAROI',\n",
       " 'Cody Johnson',\n",
       " 'Kanii',\n",
       " 'Zach Bryan Featuring Maggie Rogers',\n",
       " 'Chino Pacas',\n",
       " 'Morgan Wallen',\n",
       " 'Labrinth',\n",
       " 'Lola Brooke X Latto X Yung Miami Or Featuring Billy B',\n",
       " 'Old Dominion',\n",
       " 'Carly Pearce',\n",
       " 'Carin Leon X Grupo Frontera',\n",
       " 'YoungBoy Never Broke Again Featuring Nicki Minaj',\n",
       " 'Morgan Wallen']"
      ]
     },
     "execution_count": 179,
     "metadata": {},
     "output_type": "execute_result"
    }
   ],
   "source": [
    "artist"
   ]
  },
  {
   "cell_type": "code",
   "execution_count": 182,
   "id": "0abb1ecb-8182-4357-917c-4b58b781e6bb",
   "metadata": {},
   "outputs": [],
   "source": [
    "hot100_df=pd.DataFrame(list(zip(artist, title)),\n",
    "              columns=['artist','title'])"
   ]
  },
  {
   "cell_type": "code",
   "execution_count": 181,
   "id": "b736a192-930e-4eb9-83c7-61c4b1b926a7",
   "metadata": {},
   "outputs": [],
   "source": [
    "x = None"
   ]
  },
  {
   "cell_type": "code",
   "execution_count": 203,
   "id": "587bb6ba-5dd5-4c45-9dd4-4290938e47e1",
   "metadata": {},
   "outputs": [
    {
     "name": "stdin",
     "output_type": "stream",
     "text": [
      "Name a song in the current Billboard Hot 100 Last Night\n"
     ]
    },
    {
     "name": "stdout",
     "output_type": "stream",
     "text": [
      "Right! You might also like: Fast Car\n"
     ]
    }
   ],
   "source": [
    "x = input(\"Name a song in the current Billboard Hot 100\")\n",
    "if x in list(hot100_df[\"title\"]):\n",
    "        print(\"Right! You might also like:\",hot100_df['title'].sample().iloc[0])\n",
    "else:\n",
    "        print(\"Tough luck, you are not up to speed!\")"
   ]
  },
  {
   "cell_type": "code",
   "execution_count": 198,
   "id": "d27f8ed1-1e4f-4d58-a219-18f6b505c79d",
   "metadata": {},
   "outputs": [
    {
     "name": "stdout",
     "output_type": "stream",
     "text": [
      "Sure Thing\n"
     ]
    }
   ],
   "source": [
    "print(hot100_df['title'].sample().iloc[0])"
   ]
  }
 ],
 "metadata": {
  "kernelspec": {
   "display_name": "Python 3 (ipykernel)",
   "language": "python",
   "name": "python3"
  },
  "language_info": {
   "codemirror_mode": {
    "name": "ipython",
    "version": 3
   },
   "file_extension": ".py",
   "mimetype": "text/x-python",
   "name": "python",
   "nbconvert_exporter": "python",
   "pygments_lexer": "ipython3",
   "version": "3.9.13"
  }
 },
 "nbformat": 4,
 "nbformat_minor": 5
}
