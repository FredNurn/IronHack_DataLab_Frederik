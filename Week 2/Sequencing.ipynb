{
 "cells": [
  {
   "cell_type": "code",
   "execution_count": 116,
   "id": "554d3550-8faa-4e2e-915c-a46c7868eb93",
   "metadata": {},
   "outputs": [],
   "source": [
    "import pandas as pd\n",
    "list_pre=[]\n",
    "list_check=[]\n",
    "list_post=[]\n",
    "sequence=[\"Llanfairpwllgwyngyllgogerychwyrndrobwllllantysiliogogogoch\", \"1234567ngyll8902678490302wyrnd7465718394027554273\"]\n",
    "sequence2=\"Llanfairpwllgwyngyllgogerychwyrndrobwllllantysiliogogogoch\"\n",
    "start=\"ngyll\"\n",
    "end=\"wyrnd\"\n",
    "n=1"
   ]
  },
  {
   "cell_type": "code",
   "execution_count": 118,
   "id": "cf12ce2e-f8f4-4017-8778-5198d5578ce6",
   "metadata": {},
   "outputs": [],
   "source": [
    "for i in sequence:   \n",
    "    first=i.split(start)\n",
    "    second=first[1].split(end)\n",
    "    list_pre.append(first[n-1]+start)\n",
    "    list_check.append(second[n-1])\n",
    "    list_post.append(end+second[n])"
   ]
  },
  {
   "cell_type": "code",
   "execution_count": 119,
   "id": "3ababb63-88f3-4261-9fc9-98368b2335b8",
   "metadata": {},
   "outputs": [
    {
     "data": {
      "text/plain": [
       "['Llanfairpwllgwyngyll', '1234567ngyll']"
      ]
     },
     "execution_count": 119,
     "metadata": {},
     "output_type": "execute_result"
    }
   ],
   "source": [
    "list_pre"
   ]
  },
  {
   "cell_type": "code",
   "execution_count": 120,
   "id": "becc5149-5cfa-46ff-a4af-ea1f01223f36",
   "metadata": {},
   "outputs": [
    {
     "data": {
      "text/plain": [
       "['gogerych', '8902678490302']"
      ]
     },
     "execution_count": 120,
     "metadata": {},
     "output_type": "execute_result"
    }
   ],
   "source": [
    "list_check"
   ]
  },
  {
   "cell_type": "code",
   "execution_count": 121,
   "id": "76e07b3f-17f2-4db2-9ec7-b6bd190f5f7a",
   "metadata": {},
   "outputs": [
    {
     "data": {
      "text/plain": [
       "['wyrndrobwllllantysiliogogogoch', 'wyrnd7465718394027554273']"
      ]
     },
     "execution_count": 121,
     "metadata": {},
     "output_type": "execute_result"
    }
   ],
   "source": [
    "list_post"
   ]
  },
  {
   "cell_type": "code",
   "execution_count": null,
   "id": "9b0b1d83-28fb-4ff2-a248-4b9b4677c75f",
   "metadata": {},
   "outputs": [],
   "source": []
  }
 ],
 "metadata": {
  "kernelspec": {
   "display_name": "Python 3 (ipykernel)",
   "language": "python",
   "name": "python3"
  },
  "language_info": {
   "codemirror_mode": {
    "name": "ipython",
    "version": 3
   },
   "file_extension": ".py",
   "mimetype": "text/x-python",
   "name": "python",
   "nbconvert_exporter": "python",
   "pygments_lexer": "ipython3",
   "version": "3.9.13"
  }
 },
 "nbformat": 4,
 "nbformat_minor": 5
}
