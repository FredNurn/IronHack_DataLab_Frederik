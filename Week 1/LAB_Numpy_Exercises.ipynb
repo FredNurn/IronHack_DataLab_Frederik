{
 "cells": [
  {
   "cell_type": "markdown",
   "id": "5eb65c32-1326-4f69-9d27-f06abc77c9c7",
   "metadata": {},
   "source": [
    "1. Import the numpy package under the name `np`"
   ]
  },
  {
   "cell_type": "code",
   "execution_count": 2,
   "id": "d8f7b89b-5c79-4152-8b65-ce8cdec9efc8",
   "metadata": {},
   "outputs": [],
   "source": [
    "import numpy as np"
   ]
  },
  {
   "cell_type": "markdown",
   "id": "5c3ffc6f-3d99-4584-a7c7-d1d9b2250f65",
   "metadata": {},
   "source": [
    "2. Create a null vector of size 10"
   ]
  },
  {
   "cell_type": "code",
   "execution_count": 5,
   "id": "2fa9b5b6-d6cb-44ea-b84b-ae3114c2cc2a",
   "metadata": {},
   "outputs": [
    {
     "data": {
      "text/plain": [
       "array([0, 0, 0, 0, 0, 0, 0, 0, 0, 0])"
      ]
     },
     "execution_count": 5,
     "metadata": {},
     "output_type": "execute_result"
    }
   ],
   "source": [
    "np.zeros((10), dtype=int)"
   ]
  },
  {
   "cell_type": "markdown",
   "id": "8d85f0be-e890-409d-869e-030d88b5365c",
   "metadata": {},
   "source": [
    "3. Create a null vector of size 10 but the fifth value which is 1"
   ]
  },
  {
   "cell_type": "code",
   "execution_count": 13,
   "id": "74e88325-e1f5-4ae6-a3e4-62308afbca10",
   "metadata": {},
   "outputs": [
    {
     "data": {
      "text/plain": [
       "array([0, 0, 0, 0, 1, 0, 0, 0, 0, 0])"
      ]
     },
     "execution_count": 13,
     "metadata": {},
     "output_type": "execute_result"
    }
   ],
   "source": [
    "a=np.zeros((10), dtype=int)\n",
    "a[4]=True\n",
    "a"
   ]
  },
  {
   "cell_type": "markdown",
   "id": "2575f043-da17-4687-82a9-f622bc7b90c9",
   "metadata": {},
   "source": [
    "4. Create a vector with values ranging from 10 to 49"
   ]
  },
  {
   "cell_type": "code",
   "execution_count": 14,
   "id": "aa367618-7d31-47f1-8c69-d401fbe107fa",
   "metadata": {},
   "outputs": [
    {
     "data": {
      "text/plain": [
       "array([10, 11, 12, 13, 14, 15, 16, 17, 18, 19, 20, 21, 22, 23, 24, 25, 26,\n",
       "       27, 28, 29, 30, 31, 32, 33, 34, 35, 36, 37, 38, 39, 40, 41, 42, 43,\n",
       "       44, 45, 46, 47, 48, 49])"
      ]
     },
     "execution_count": 14,
     "metadata": {},
     "output_type": "execute_result"
    }
   ],
   "source": [
    "np.arange(10,50, dtype=int)"
   ]
  },
  {
   "cell_type": "markdown",
   "id": "40bef15c-83cc-44e7-b456-102c0caa5510",
   "metadata": {},
   "source": [
    "5. Create a 3x3 matrix with values ranging from 0 to 8 "
   ]
  },
  {
   "cell_type": "code",
   "execution_count": 21,
   "id": "31473473-f49d-4329-8669-fea4333256ae",
   "metadata": {},
   "outputs": [
    {
     "data": {
      "text/plain": [
       "array([[0, 1, 2],\n",
       "       [3, 4, 5],\n",
       "       [6, 7, 8]])"
      ]
     },
     "execution_count": 21,
     "metadata": {},
     "output_type": "execute_result"
    }
   ],
   "source": [
    "np.arange(0,9).reshape(3,3)"
   ]
  },
  {
   "cell_type": "markdown",
   "id": "b123a64b-7c01-4865-ac39-52099340b6dc",
   "metadata": {},
   "source": [
    "6. Find indices of non-zero elements from [1,2,0,0,4,0]"
   ]
  },
  {
   "cell_type": "code",
   "execution_count": 27,
   "id": "f826dd23-e089-43c3-a61e-bbd490822136",
   "metadata": {},
   "outputs": [
    {
     "data": {
      "text/plain": [
       "array([1, 2, 4])"
      ]
     },
     "execution_count": 27,
     "metadata": {},
     "output_type": "execute_result"
    }
   ],
   "source": [
    "b=np.array([1,2,0,0,4,0])\n",
    "b[np.nonzero(b)]"
   ]
  },
  {
   "cell_type": "code",
   "execution_count": 28,
   "id": "2a56c561-683e-45b5-bb58-af21d23a15a9",
   "metadata": {},
   "outputs": [
    {
     "data": {
      "text/plain": [
       "array([1, 2, 4])"
      ]
     },
     "execution_count": 28,
     "metadata": {},
     "output_type": "execute_result"
    }
   ],
   "source": [
    "c=np.array([1,2,0,0,4,0])\n",
    "c[c != 0]"
   ]
  },
  {
   "cell_type": "code",
   "execution_count": 3,
   "id": "ff05d14d-8520-494f-8edb-d4c0a35e1c9d",
   "metadata": {},
   "outputs": [
    {
     "data": {
      "text/plain": [
       "(array([0, 1, 4], dtype=int64),)"
      ]
     },
     "execution_count": 3,
     "metadata": {},
     "output_type": "execute_result"
    }
   ],
   "source": [
    "c=np.array([1,2,0,0,4,0])\n",
    "np.nonzero(c)"
   ]
  },
  {
   "cell_type": "markdown",
   "id": "dfa6b7bb-41dd-4481-87f6-10fa555bc1f3",
   "metadata": {},
   "source": [
    "7. Create a 3x3 identity matrix"
   ]
  },
  {
   "cell_type": "code",
   "execution_count": 30,
   "id": "e707ca1e-a809-4a92-b687-854f082dbee0",
   "metadata": {},
   "outputs": [
    {
     "data": {
      "text/plain": [
       "array([[1., 0., 0.],\n",
       "       [0., 1., 0.],\n",
       "       [0., 0., 1.]])"
      ]
     },
     "execution_count": 30,
     "metadata": {},
     "output_type": "execute_result"
    }
   ],
   "source": [
    "np.eye(3,3)"
   ]
  },
  {
   "cell_type": "markdown",
   "id": "6eacd8a6-f4d4-47ca-987a-10ac2b3dabec",
   "metadata": {},
   "source": [
    "8. Create a 3x3x3 array with random values"
   ]
  },
  {
   "cell_type": "code",
   "execution_count": 58,
   "id": "c88fbdfc-029a-4e44-bcbb-316b050b39ae",
   "metadata": {},
   "outputs": [
    {
     "data": {
      "text/plain": [
       "array([[[0.69367953, 0.06171699, 0.6666116 ],\n",
       "        [0.55920894, 0.08511062, 0.39241906],\n",
       "        [0.49707753, 0.33214907, 0.34233845]],\n",
       "\n",
       "       [[0.36563683, 0.85062578, 0.44849744],\n",
       "        [0.31647204, 0.36173317, 0.45072243],\n",
       "        [0.91526806, 0.45995858, 0.27367946]],\n",
       "\n",
       "       [[0.91749612, 0.45953222, 0.54459121],\n",
       "        [0.69069037, 0.83083808, 0.63590931],\n",
       "        [0.64981717, 0.95375833, 0.56995437]]])"
      ]
     },
     "execution_count": 58,
     "metadata": {},
     "output_type": "execute_result"
    }
   ],
   "source": [
    "np.random.seed(seed=500)\n",
    "np.random.random((3,3,3))"
   ]
  },
  {
   "cell_type": "markdown",
   "id": "d8ff192e-3a73-49ed-8b51-e3cd879e9d17",
   "metadata": {},
   "source": [
    "9. Create a 10x10 array with random values and find the minimum and maximum values"
   ]
  },
  {
   "cell_type": "code",
   "execution_count": 75,
   "id": "2bc371d7-a1d4-4032-b6b4-ba87cbde11f8",
   "metadata": {
    "tags": []
   },
   "outputs": [
    {
     "name": "stdout",
     "output_type": "stream",
     "text": [
      "[[69.  6. 67. 56.  9. 39. 50. 33. 34. 37.]\n",
      " [85. 45. 32. 36. 45. 92. 46. 27. 92. 46.]\n",
      " [54. 69. 83. 64. 65. 95. 57. 64.  4. 75.]\n",
      " [86. 49. 23. 50. 14. 17. 10. 24. 66. 60.]\n",
      " [66. 92. 96. 82. 13. 77. 57. 75. 27. 89.]\n",
      " [28. 25. 44. 73. 11.  6. 90. 63. 93. 91.]\n",
      " [10. 74. 75. 34. 99. 59. 21. 78. 82. 69.]\n",
      " [67. 80. 98. 34. 99. 35. 99. 58. 74. 72.]\n",
      " [84. 51. 76. 24. 62. 96. 29.  3. 26. 94.]\n",
      " [87. 54. 11. 91. 92. 78. 69. 23. 36. 73.]]\n"
     ]
    }
   ],
   "source": [
    "np.random.seed(seed=500)\n",
    "d=np.random.random((10,10))\n",
    "d=d*100\n",
    "print(np.round(d))"
   ]
  },
  {
   "cell_type": "code",
   "execution_count": 78,
   "id": "d2a13558-2a5c-423e-a4a0-fc4c0614fde5",
   "metadata": {},
   "outputs": [
    {
     "name": "stdout",
     "output_type": "stream",
     "text": [
      "3.0\n"
     ]
    }
   ],
   "source": [
    "print(np.min(np.round(d)))"
   ]
  },
  {
   "cell_type": "code",
   "execution_count": 80,
   "id": "15e7d347-30bf-41e0-b001-9f64d89a881f",
   "metadata": {},
   "outputs": [
    {
     "name": "stdout",
     "output_type": "stream",
     "text": [
      "99.0\n"
     ]
    }
   ],
   "source": [
    "print(np.max(np.round(d)))"
   ]
  },
  {
   "cell_type": "markdown",
   "id": "f2b9b3e7-3f84-4bdd-8ad4-b571328e708d",
   "metadata": {},
   "source": [
    "10. Create a random vector of size 30 and find the mean value"
   ]
  },
  {
   "cell_type": "code",
   "execution_count": 85,
   "id": "88ac2b04-f641-43e8-9106-21f93e89caf6",
   "metadata": {},
   "outputs": [
    {
     "name": "stdout",
     "output_type": "stream",
     "text": [
      "[0.69367953 0.06171699 0.6666116  0.55920894 0.08511062 0.39241906\n",
      " 0.49707753 0.33214907 0.34233845 0.36563683 0.85062578 0.44849744\n",
      " 0.31647204 0.36173317 0.45072243 0.91526806 0.45995858 0.27367946\n",
      " 0.91749612 0.45953222 0.54459121 0.69069037 0.83083808 0.63590931\n",
      " 0.64981717 0.95375833 0.56995437 0.6352015  0.03646224 0.74912676]\n"
     ]
    },
    {
     "data": {
      "text/plain": [
       "0.5248761085226363"
      ]
     },
     "execution_count": 85,
     "metadata": {},
     "output_type": "execute_result"
    }
   ],
   "source": [
    "np.random.seed(seed=500)\n",
    "e=np.random.random((30))\n",
    "print(e)\n",
    "np.mean(e)"
   ]
  },
  {
   "cell_type": "markdown",
   "id": "91452468-aa46-4b7e-9f28-71d1af0a2a0c",
   "metadata": {},
   "source": [
    "11. Create a 5x5 matrix with values 1,2,3,4 just below the diagonal "
   ]
  },
  {
   "cell_type": "code",
   "execution_count": 93,
   "id": "67331691-c5b2-49ae-aba1-1f751642fbcc",
   "metadata": {},
   "outputs": [
    {
     "name": "stdout",
     "output_type": "stream",
     "text": [
      "[[0 0 0 0 0]\n",
      " [1 0 0 0 0]\n",
      " [0 2 0 0 0]\n",
      " [0 0 3 0 0]\n",
      " [0 0 0 4 0]]\n"
     ]
    }
   ],
   "source": [
    "f=np.diag([1,2,3,4],k=-1)\n",
    "print(f)"
   ]
  },
  {
   "cell_type": "markdown",
   "id": "2de79790-69e5-4d9b-ac23-de47650e3931",
   "metadata": {},
   "source": [
    "12. Normalize a 5x5 random matrix"
   ]
  },
  {
   "cell_type": "code",
   "execution_count": 109,
   "id": "9e467d05-50de-452c-83ef-bac89b3ad479",
   "metadata": {},
   "outputs": [
    {
     "name": "stdout",
     "output_type": "stream",
     "text": [
      "[[ 0.80173298 -1.98814577  0.68223817  0.20809551 -1.88487162]\n",
      " [-0.52821957 -0.06619148 -0.79428905 -0.74930675 -0.6464531 ]\n",
      " [ 1.49459213 -0.28065442 -0.86349732 -0.66368631 -0.27083194]\n",
      " [ 1.77996368 -0.23005778 -1.05241059  1.7897997  -0.23193999]\n",
      " [ 0.1435637   0.78853698  1.40723679  0.54669904  0.60809703]]\n"
     ]
    }
   ],
   "source": [
    "np.random.seed(seed=500)\n",
    "g=np.random.random((5,5))\n",
    "g=((g-np.mean(g))/np.std(g))\n",
    "print(g)"
   ]
  },
  {
   "cell_type": "markdown",
   "id": "cd1388fe-53af-42ff-9ec6-347c5dce2ef3",
   "metadata": {},
   "source": [
    "13. How to find common values between two arrays?"
   ]
  },
  {
   "cell_type": "code",
   "execution_count": 17,
   "id": "58cdb70b-e58f-4def-b427-e8a233dc93fe",
   "metadata": {},
   "outputs": [
    {
     "name": "stdout",
     "output_type": "stream",
     "text": [
      "[8 2 2 9 8]\n",
      "[2 2 6 3 3]\n",
      "[2]\n"
     ]
    }
   ],
   "source": [
    "np.random.seed(seed=500)\n",
    "k1=np.random.randint(1,10, size=5)\n",
    "k2=np.random.randint(1,10, size=5)\n",
    "print(k1)\n",
    "print(k2)\n",
    "print(np.intersect1d(k1, k2))"
   ]
  },
  {
   "cell_type": "markdown",
   "id": "9e703482-0a28-4606-a6ad-3ecc5c1d3f29",
   "metadata": {},
   "source": [
    "14. Create a random vector of size 10 and sort it "
   ]
  },
  {
   "cell_type": "code",
   "execution_count": 112,
   "id": "8496bdf7-78e0-43fb-a6aa-70302aae236d",
   "metadata": {},
   "outputs": [
    {
     "data": {
      "text/plain": [
       "array([0.06171699, 0.08511062, 0.33214907, 0.34233845, 0.36563683,\n",
       "       0.39241906, 0.49707753, 0.55920894, 0.6666116 , 0.69367953])"
      ]
     },
     "execution_count": 112,
     "metadata": {},
     "output_type": "execute_result"
    }
   ],
   "source": [
    "np.random.seed(seed=500)\n",
    "g=np.random.random((10))\n",
    "np.sort(g)"
   ]
  },
  {
   "cell_type": "markdown",
   "id": "bf862daf-0ca6-441b-aadc-d7b6d38599ff",
   "metadata": {},
   "source": [
    "15. Create random vector of size 10 and replace the maximum value by 0"
   ]
  },
  {
   "cell_type": "code",
   "execution_count": 125,
   "id": "faff14d6-0f7f-452e-a820-f482909da0ff",
   "metadata": {},
   "outputs": [
    {
     "name": "stdout",
     "output_type": "stream",
     "text": [
      "[69.  6. 67. 56.  9. 39. 50. 33. 34. 37.]\n",
      "[ 0.  6. 67. 56.  9. 39. 50. 33. 34. 37.]\n"
     ]
    }
   ],
   "source": [
    "np.random.seed(seed=500)\n",
    "h=np.random.random((10))\n",
    "h=np.round(h*100)\n",
    "print(h)\n",
    "h[h == np.max(h)] = 0\n",
    "print(h)"
   ]
  },
  {
   "cell_type": "code",
   "execution_count": 20,
   "id": "1ed806e7-5f35-40c1-b160-1571066eba11",
   "metadata": {},
   "outputs": [
    {
     "name": "stdout",
     "output_type": "stream",
     "text": [
      "[69.  6. 67. 56.  9. 39. 50. 33. 34. 37.]\n",
      "[ 0.  6. 67. 56.  9. 39. 50. 33. 34. 37.]\n"
     ]
    }
   ],
   "source": [
    "np.random.seed(seed=500)\n",
    "h=np.random.random((10))\n",
    "h=np.round(h*100)\n",
    "print(h)\n",
    "h[np.argmax(h)] = 0\n",
    "print(h)"
   ]
  },
  {
   "cell_type": "markdown",
   "id": "8bfd25de-47e1-467d-b2f5-dfd122b6b808",
   "metadata": {},
   "source": [
    "16. Subtract the mean of each row of a matrix"
   ]
  },
  {
   "cell_type": "code",
   "execution_count": 155,
   "id": "41103552-d527-44b9-8a52-8f547ac6fb4d",
   "metadata": {},
   "outputs": [
    {
     "name": "stdout",
     "output_type": "stream",
     "text": [
      "[[69.  6. 67.]\n",
      " [56.  9. 39.]\n",
      " [50. 33. 34.]]\n",
      "[[ 21.96768214 -28.38625462  27.60899125]\n",
      " [  8.52062312 -26.04689159   0.18973719]\n",
      " [  2.30748218  -1.34304642  -4.81832324]]\n"
     ]
    }
   ],
   "source": [
    "np.random.seed(seed=500)\n",
    "i=np.random.random((3,3))\n",
    "i=i*100\n",
    "print(np.round(i))\n",
    "i2=i-np.mean(i, axis=1)\n",
    "print(i2)"
   ]
  },
  {
   "cell_type": "markdown",
   "id": "4f8bfed0-e683-4564-971f-21d7a7051a64",
   "metadata": {},
   "source": [
    "17. How to get the n largest values of an array (n=5)"
   ]
  },
  {
   "cell_type": "code",
   "execution_count": 36,
   "id": "77c98e10-c1fd-40f9-b150-8e3efeb72844",
   "metadata": {
    "scrolled": true,
    "tags": []
   },
   "outputs": [
    {
     "data": {
      "text/plain": [
       "array([9995, 9996, 9997, 9998, 9999])"
      ]
     },
     "execution_count": 36,
     "metadata": {},
     "output_type": "execute_result"
    }
   ],
   "source": [
    "z = np.arange(10000)\n",
    "np.random.shuffle(z)\n",
    "n = 5\n",
    "z[np.argsort(z)[-n:]]\n",
    "np.partition(z,-n)[-n:]"
   ]
  },
  {
   "cell_type": "code",
   "execution_count": 27,
   "id": "82086c0b-42b7-4981-830d-f62765b7437a",
   "metadata": {},
   "outputs": [
    {
     "name": "stdout",
     "output_type": "stream",
     "text": [
      "[   0    1    2 ... 9997 9998 9999]\n",
      "[9999 9998 9997 9996 9995]\n"
     ]
    }
   ],
   "source": [
    "z = np.arange(10000)\n",
    "np.random.shuffle(z)\n",
    "n = 5\n",
    "print(z[np.argsort(z)])\n",
    "print(z[np.argpartition(-z,n)[:n]])"
   ]
  },
  {
   "cell_type": "markdown",
   "id": "031d238b-2567-42dd-8396-0bf30e89eacb",
   "metadata": {},
   "source": [
    "18. Create a random 5*3 matrix and replace items that are larger than 4 by their squares ( Example:  6 --> 36) "
   ]
  },
  {
   "cell_type": "code",
   "execution_count": 43,
   "id": "20510ad5-1c1e-4f0e-8b82-589b69ef7d0c",
   "metadata": {},
   "outputs": [
    {
     "name": "stdout",
     "output_type": "stream",
     "text": [
      "[[7 1 1]\n",
      " [8 7 1]\n",
      " [1 5 9]\n",
      " [2 2 3]\n",
      " [6 8 7]]\n",
      "[[49  1  1]\n",
      " [64 49  1]\n",
      " [ 1 25 81]\n",
      " [ 2  2  3]\n",
      " [36 64 49]]\n"
     ]
    }
   ],
   "source": [
    "np.random.seed(seed=500)\n",
    "j=np.random.randint(10, size=(5,3))\n",
    "\n",
    "k=np.where(j>4, j**2, j)\n",
    "print(j)\n",
    "print(k)"
   ]
  },
  {
   "cell_type": "code",
   "execution_count": null,
   "id": "d38ad257-3986-40eb-b139-0748c6e52a38",
   "metadata": {},
   "outputs": [],
   "source": []
  }
 ],
 "metadata": {
  "kernelspec": {
   "display_name": "Python 3 (ipykernel)",
   "language": "python",
   "name": "python3"
  },
  "language_info": {
   "codemirror_mode": {
    "name": "ipython",
    "version": 3
   },
   "file_extension": ".py",
   "mimetype": "text/x-python",
   "name": "python",
   "nbconvert_exporter": "python",
   "pygments_lexer": "ipython3",
   "version": "3.9.13"
  }
 },
 "nbformat": 4,
 "nbformat_minor": 5
}
