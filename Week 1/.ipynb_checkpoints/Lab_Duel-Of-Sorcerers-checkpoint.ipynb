{
 "cells": [
  {
   "cell_type": "markdown",
   "metadata": {},
   "source": [
    "<img src=\"https://bit.ly/2VnXWr2\" width=\"100\" align=\"left\">"
   ]
  },
  {
   "cell_type": "markdown",
   "metadata": {},
   "source": [
    "# Duel of Sorcerers\n",
    "You are witnessing an epic battle between two powerful sorcerers: Gandalf and Saruman. Each sorcerer has 10 spells of variable power in their mind and they are going to throw them one after the other. The winner of the duel will be the one who wins more of those clashes between spells. Spells are represented as a list of 10 integers whose value equals the power of the spell.\n",
    "```\n",
    "gandalf = [10, 11, 13, 30, 22, 11, 10, 33, 22, 22]\n",
    "saruman = [23, 66, 12, 43, 12, 10, 44, 23, 12, 17]\n",
    "```\n",
    "For example:\n",
    "- The first clash is won by Saruman: 10 against 23.\n",
    "- The second clash is won by Saruman: 11 against 66.\n",
    "- ...\n",
    "\n",
    "You will create two variables, one for each sorcerer, where the sum of clashes won will be stored. Depending on which variable is greater at the end of the duel, you will show one of the following three results on the screen:\n",
    "* Gandalf wins\n",
    "* Saruman wins\n",
    "* Tie\n",
    "\n",
    "<img src=\"Images/content_lightning_bolt_big.jpeg\" width=\"400\">"
   ]
  },
  {
   "cell_type": "markdown",
   "metadata": {},
   "source": [
    "## Tools\n",
    "You don't necessarily need to use all the tools. Maybe you opt to use some of them or completely different ones, they are given to help you shape the exercise. Programming exercises can be solved in many different ways.\n",
    "\n",
    "1. Data structures: **lists, dictionaries**\n",
    "2. Loop: **for loop**\n",
    "3. Conditional statements: **if-elif-else**\n",
    "4. Functions: **range(), len(), print()**\n",
    "\n",
    "## Tasks\n",
    "\n",
    "<b>Hint: You dont need necessarily to follow the instructions in this notebook to solve the tasks. simply just get the job done effeciently ;) \n",
    "\n",
    "#### 1. Create two variables called `gandalf` and `saruman` and assign them the spell power lists. Create a variable called `spells` to store the number of spells that the sorcerers cast. "
   ]
  },
  {
   "cell_type": "code",
   "execution_count": 1,
   "metadata": {},
   "outputs": [],
   "source": []
  },
  {
   "cell_type": "markdown",
   "metadata": {},
   "source": [
    "#### 2. Create two variables called `gandalf_wins` and `saruman_wins`. Set both of them to 0. \n",
    "You will use these variables to count the number of clashes each sorcerer wins. "
   ]
  },
  {
   "cell_type": "code",
   "execution_count": null,
   "metadata": {},
   "outputs": [],
   "source": []
  },
  {
   "cell_type": "markdown",
   "metadata": {},
   "source": [
    "#### 3. Using the lists of spells of both sorcerers, update variables `gandalf_wins` and `saruman_wins` to count the number of times each sorcerer wins a clash. "
   ]
  },
  {
   "cell_type": "code",
   "execution_count": null,
   "metadata": {},
   "outputs": [],
   "source": []
  },
  {
   "cell_type": "markdown",
   "metadata": {},
   "source": [
    "#### 4. Who won the battle?\n",
    "Print `Gandalf wins`, `Saruman wins` or `Tie` depending on the result. "
   ]
  },
  {
   "cell_type": "code",
   "execution_count": 5,
   "metadata": {},
   "outputs": [
    {
     "name": "stdout",
     "output_type": "stream",
     "text": [
      "Gandalf wins the duel!\n"
     ]
    }
   ],
   "source": [
    "gandalf = [10, 11, 13, 30, 22, 11, 10, 33, 22, 22]\n",
    "saruman = [23, 66, 12, 43, 12, 10, 44, 23, 12, 17]\n",
    "x = \"Gandalf wins the clash!\"\n",
    "y = \"Saruman wins the clash\"\n",
    "z = \"Clash is a tie!\"\n",
    "\n",
    "# counter is set at -1 as it will be used for indexing after adding 1 in the for loop\n",
    "counter = -1\n",
    "# scoreboard will keep track of who wins each clash.\n",
    "scoreboard  = []\n",
    "\n",
    "for i in gandalf:\n",
    "    counter=counter+1\n",
    "    if gandalf[counter]>saruman[counter]:\n",
    "        scoreboard.append(x)\n",
    "    elif gandalf[counter]<saruman[counter]:\n",
    "        scoreboard.append(y)\n",
    "    else:\n",
    "        scoreboard.append(z)          \n",
    "        # could be also left out in this case as we are only interested in wins.\n",
    "\n",
    "count_gandalf = scoreboard.count(x)\n",
    "count_saruman = scoreboard.count(y)\n",
    "# count variables determine how often each sorcerer has won a clash. \n",
    "\n",
    "if count_gandalf > count_saruman:\n",
    "    print(\"Gandalf wins the duel!\")\n",
    "elif count_gandalf < count_saruman:\n",
    "    print(\"Saruman wins the duel!\")\n",
    "else:\n",
    "    print(\"It's a tie!\")"
   ]
  },
  {
   "cell_type": "markdown",
   "metadata": {},
   "source": [
    "## Bonus\n",
    "\n",
    "In this bonus challenge, you'll need to check the winner of the battle but this time, a sorcerer wins if he succeeds in winning 3 spell clashes in a row.\n",
    "\n",
    "Also, the spells now have a name and there is a dictionary that associates that name to a power.\n",
    "\n",
    "```\n",
    "POWER = {\n",
    "    'Fireball': 50, \n",
    "    'Lightning bolt': 40, \n",
    "    'Magic arrow': 10, \n",
    "    'Black Tentacles': 25, \n",
    "    'Contagion': 45\n",
    "}\n",
    "\n",
    "gandalf = ['Fireball', 'Lightning bolt', 'Lightning bolt', 'Magic arrow', 'Fireball', \n",
    "           'Magic arrow', 'Lightning bolt', 'Fireball', 'Fireball', 'Fireball']\n",
    "saruman = ['Contagion', 'Contagion', 'Black Tentacles', 'Fireball', 'Black Tentacles', \n",
    "           'Lightning bolt', 'Magic arrow', 'Contagion', 'Magic arrow', 'Magic arrow']\n",
    "```\n",
    "\n",
    "#### 1. Create variables `POWER`, `gandalf` and `saruman` as seen above. Create a variable called `spells` to store the number of spells that the sorcerers cast. "
   ]
  },
  {
   "cell_type": "code",
   "execution_count": null,
   "metadata": {},
   "outputs": [],
   "source": []
  },
  {
   "cell_type": "markdown",
   "metadata": {},
   "source": [
    "#### 2. Create two variables called `gandalf_wins` and `saruman_wins`. Set both of them to 0. "
   ]
  },
  {
   "cell_type": "code",
   "execution_count": null,
   "metadata": {},
   "outputs": [],
   "source": []
  },
  {
   "cell_type": "markdown",
   "metadata": {},
   "source": [
    "#### 3. Create two variables called `gandalf_power` and `saruman_power` to store the list of spell powers of each sorcerer."
   ]
  },
  {
   "cell_type": "code",
   "execution_count": null,
   "metadata": {},
   "outputs": [],
   "source": []
  },
  {
   "cell_type": "markdown",
   "metadata": {},
   "source": [
    "#### 4. The battle starts! Using the variables you've created above, code the execution of spell clashes. Remember that a sorcerer wins if he succeeds in winning 3 spell clashes in a row. \n",
    "If a clash ends up in a tie, the counter of wins in a row is not restarted to 0. Remember to print who is the winner of the battle. "
   ]
  },
  {
   "cell_type": "code",
   "execution_count": 14,
   "metadata": {},
   "outputs": [
    {
     "name": "stdout",
     "output_type": "stream",
     "text": [
      "Gandalf wins!\n"
     ]
    }
   ],
   "source": [
    "def battle():\n",
    "    power = {'Fireball': 50,'Lightning bolt': 40,'Magic arrow': 10,'Black Tentacles': 25,'Contagion': 45}\n",
    "    gandalf = ['Fireball', 'Lightning bolt', 'Lightning bolt', 'Magic arrow', 'Fireball', 'Magic arrow', 'Lightning bolt', 'Fireball', 'Fireball', 'Fireball']\n",
    "    saruman = ['Contagion', 'Contagion', 'Black Tentacles', 'Fireball', 'Black Tentacles', 'Lightning bolt', 'Magic arrow', 'Contagion', 'Magic arrow', 'Magic arrow']\n",
    "\n",
    "    x = \"Gandalf wins!\"\n",
    "    y = \"Saruman wins!\"\n",
    "    z = \"Tie\"\n",
    "    counter=-1\n",
    "    scoreboard=[]\n",
    "    consecutive_wins=0  # will keep track if consecutive clashes are won by the same sorcerer.\n",
    "                        #If the counter is at 1, two clashes are won, if it is at 2, three consecutive clashes are won\n",
    "\n",
    "    while(consecutive_wins<2):\n",
    "        counter=counter+1\n",
    "        if power[gandalf[counter]]>power[saruman[counter]]:\n",
    "           # looks up the Value in dictionary power, corresponding to the List-item with the index counting up, starting at -1+1=0\n",
    "             scoreboard.append(x)\n",
    "        elif power[gandalf[counter]]<power[saruman[counter]]:\n",
    "             scoreboard.append(y)\n",
    "        else:\n",
    "             scoreboard.append(z)\n",
    "\n",
    "        if len(scoreboard)<2:\n",
    "             consecutive_wins==0\n",
    "             # there can be no consecutive wins, when there are less than two duels.\n",
    "        elif scoreboard[len(scoreboard)-1] == scoreboard[len(scoreboard)-2]:\n",
    "             consecutive_wins+=1\n",
    "        else:\n",
    "            consecutive_wins==0\n",
    "\n",
    "    return(scoreboard[len(scoreboard)-1]) #The loop ends with three consecutive wins, so the winner must be the last entry in the list.\n",
    "\n",
    "print(battle())"
   ]
  },
  {
   "cell_type": "markdown",
   "metadata": {},
   "source": [
    "#### 5. Find the average spell power of Gandalf and Saruman. "
   ]
  },
  {
   "cell_type": "code",
   "execution_count": 27,
   "metadata": {},
   "outputs": [
    {
     "name": "stdout",
     "output_type": "stream",
     "text": [
      "[50, 40, 40, 10, 50, 10, 40, 50, 50, 50]\n"
     ]
    }
   ],
   "source": [
    "spellpower_gandalf=[]\n",
    "for i in gandalf:\n",
    "    spellpower_gandalf.append(power[i])\n",
    "\n",
    "print(spellpower_gandalf)"
   ]
  },
  {
   "cell_type": "code",
   "execution_count": 31,
   "metadata": {},
   "outputs": [
    {
     "name": "stdout",
     "output_type": "stream",
     "text": [
      "39\n"
     ]
    }
   ],
   "source": [
    "def avg_spells_gandalf():\n",
    "    average=sum(spellpower_gandalf)/len(spellpower_gandalf)\n",
    "    x= round(average)\n",
    "    return x\n",
    "print(avg_spells_gandalf())"
   ]
  },
  {
   "cell_type": "code",
   "execution_count": 33,
   "metadata": {},
   "outputs": [
    {
     "name": "stdout",
     "output_type": "stream",
     "text": [
      "[45, 45, 25, 50, 25, 40, 10, 45, 10, 10]\n",
      "30\n"
     ]
    }
   ],
   "source": [
    "spellpower_saruman=[]\n",
    "for i in saruman:\n",
    "    spellpower_saruman.append(power[i])\n",
    "\n",
    "print(spellpower_saruman)\n",
    "\n",
    "def avg_spells_saruman():\n",
    "    average=sum(spellpower_saruman)/len(spellpower_saruman)\n",
    "    x= round(average)\n",
    "    return x\n",
    "print(avg_spells_saruman())"
   ]
  },
  {
   "cell_type": "markdown",
   "metadata": {},
   "source": [
    "#### 6. Find the standard deviation of the spell power of Gandalf and Saruman. "
   ]
  },
  {
   "cell_type": "code",
   "execution_count": 39,
   "metadata": {},
   "outputs": [
    {
     "name": "stdout",
     "output_type": "stream",
     "text": [
      "16.3\n",
      "15.9\n"
     ]
    }
   ],
   "source": [
    "import statistics\n",
    "b=round(statistics.stdev(spellpower_gandalf),1)\n",
    "print(b)\n",
    "\n",
    "import numpy as np\n",
    "b2=round(np.std(spellpower_gandalf),1)\n",
    "print(b2)"
   ]
  },
  {
   "cell_type": "code",
   "execution_count": 40,
   "metadata": {},
   "outputs": [
    {
     "name": "stdout",
     "output_type": "stream",
     "text": [
      "16.4\n",
      "15.9\n"
     ]
    }
   ],
   "source": [
    "c=round(statistics.stdev(spellpower_saruman),1)\n",
    "print(c)\n",
    "\n",
    "c2=round(np.std(spellpower_saruman),1)\n",
    "print(b2)"
   ]
  }
 ],
 "metadata": {
  "kernelspec": {
   "display_name": "Python 3 (ipykernel)",
   "language": "python",
   "name": "python3"
  },
  "language_info": {
   "codemirror_mode": {
    "name": "ipython",
    "version": 3
   },
   "file_extension": ".py",
   "mimetype": "text/x-python",
   "name": "python",
   "nbconvert_exporter": "python",
   "pygments_lexer": "ipython3",
   "version": "3.9.13"
  },
  "toc": {
   "base_numbering": 1,
   "nav_menu": {},
   "number_sections": true,
   "sideBar": true,
   "skip_h1_title": false,
   "title_cell": "Table of Contents",
   "title_sidebar": "Contents",
   "toc_cell": false,
   "toc_position": {},
   "toc_section_display": true,
   "toc_window_display": false
  }
 },
 "nbformat": 4,
 "nbformat_minor": 4
}
