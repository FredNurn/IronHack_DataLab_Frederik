{
 "cells": [
  {
   "cell_type": "markdown",
   "id": "70e0dd1f",
   "metadata": {
    "slideshow": {
     "slide_type": "slide"
    }
   },
   "source": [
    "# The perfect Holiday"
   ]
  },
  {
   "cell_type": "markdown",
   "id": "57af657c",
   "metadata": {
    "slideshow": {
     "slide_type": "slide"
    }
   },
   "source": [
    "- [About Stefan](#About-Stefan)\n",
    "- [Holiday Destination](#Holiday-Destination:-Caribbean-Island)\n",
    "- [Things to do](#Things-to-do)\n",
    "- [Sunset](#Goodbye-and-enjoy-the-sunset)"
   ]
  },
  {
   "cell_type": "markdown",
   "id": "a7d420df",
   "metadata": {
    "slideshow": {
     "slide_type": "slide"
    }
   },
   "source": [
    "## About Stefan\n",
    "This workbook will paint Stefan's perfect holiday."
   ]
  },
  {
   "cell_type": "code",
   "execution_count": 1,
   "id": "ec38029c",
   "metadata": {
    "slideshow": {
     "slide_type": "skip"
    }
   },
   "outputs": [
    {
     "name": "stdout",
     "output_type": "stream",
     "text": [
      "Please enter the Name here:\n",
      "Stefan\n",
      "Stefan is having the time of his life when on holiday!\n"
     ]
    }
   ],
   "source": [
    "print(\"Please enter the Name here:\")\n",
    "x=input()\n",
    "print(x+' is having the time of his life when on holiday!')\n",
    "\n",
    "#input function takes the users' input and in this case will use it as output"
   ]
  },
  {
   "cell_type": "markdown",
   "id": "d9a84c12",
   "metadata": {
    "scrolled": true,
    "slideshow": {
     "slide_type": "slide"
    }
   },
   "source": [
    "![title](https://upload.wikimedia.org/wikipedia/commons/thumb/5/5e/Neal_McDonough_by_Gage_Skidmore.jpg/330px-Neal_McDonough_by_Gage_Skidmore.jpg)"
   ]
  },
  {
   "cell_type": "markdown",
   "id": "0ee5cabe",
   "metadata": {
    "slideshow": {
     "slide_type": "slide"
    }
   },
   "source": [
    "## Holiday-Destination: Caribbean Island\n",
    "![title](https://media.istockphoto.com/id/955765580/photo/palm-tree-in-beach-in-tropical-island-caribbean-guadalupe.jpg?s=612x612&w=0&k=20&c=IAh5qJ5T6JZUUebYwtAjt_ySYFQZ7otp70up_9MIE_o=)"
   ]
  },
  {
   "cell_type": "markdown",
   "id": "568ed7c6",
   "metadata": {
    "slideshow": {
     "slide_type": "slide"
    }
   },
   "source": [
    "## Things to do\n",
    "\n",
    "- *diving*\n",
    "- *sailing*\n",
    "- ***sippin' cocktails***"
   ]
  },
  {
   "cell_type": "markdown",
   "id": "b049a62f",
   "metadata": {
    "slideshow": {
     "slide_type": "slide"
    }
   },
   "source": [
    "## Goodbye and enjoy the sunset"
   ]
  },
  {
   "cell_type": "code",
   "execution_count": 3,
   "id": "7d11b39a",
   "metadata": {
    "slideshow": {
     "slide_type": "fragment"
    }
   },
   "outputs": [
    {
     "data": {
      "text/html": [
       "<iframe width=\"640\" height=\"360\" src=\"https://www.youtube.com/embed/l0wJ07tHobs\" title=\"Perfect Caribbean Sunset Relaxation\" frameborder=\"0\"</iframe>"
      ],
      "text/plain": [
       "<IPython.core.display.HTML object>"
      ]
     },
     "execution_count": 3,
     "metadata": {},
     "output_type": "execute_result"
    }
   ],
   "source": [
    "from IPython.display import HTML\n",
    "HTML('<iframe width=\"640\" height=\"360\" src=\"https://www.youtube.com/embed/l0wJ07tHobs\" title=\"Perfect Caribbean Sunset Relaxation\" frameborder=\"0\"</iframe>')\n",
    "\n",
    "#using the Ipython command shell, an html iframe link is imported."
   ]
  }
 ],
 "metadata": {
  "celltoolbar": "Slideshow",
  "kernelspec": {
   "display_name": "Python 3 (ipykernel)",
   "language": "python",
   "name": "python3"
  },
  "language_info": {
   "codemirror_mode": {
    "name": "ipython",
    "version": 3
   },
   "file_extension": ".py",
   "mimetype": "text/x-python",
   "name": "python",
   "nbconvert_exporter": "python",
   "pygments_lexer": "ipython3",
   "version": "3.9.13"
  }
 },
 "nbformat": 4,
 "nbformat_minor": 5
}
