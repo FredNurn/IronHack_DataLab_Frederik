{
 "cells": [
  {
   "cell_type": "code",
   "execution_count": 91,
   "id": "5a6230eb-4cd5-48c6-9176-fdc8310d8e43",
   "metadata": {},
   "outputs": [
    {
     "name": "stdin",
     "output_type": "stream",
     "text": [
      "How many Rounds do you want to play? Please choose an odd number. 2\n"
     ]
    },
    {
     "name": "stdout",
     "output_type": "stream",
     "text": [
      "You chose an even number, please try again\n"
     ]
    },
    {
     "name": "stdin",
     "output_type": "stream",
     "text": [
      "How many Rounds do you want to play? Please choose an odd number. 3\n"
     ]
    },
    {
     "name": "stdout",
     "output_type": "stream",
     "text": [
      "You will play 3 rounds against CPU.\n"
     ]
    },
    {
     "name": "stdin",
     "output_type": "stream",
     "text": [
      "Please input either 'Rock', 'Paper' os 'Scisors' ds\n"
     ]
    },
    {
     "name": "stdout",
     "output_type": "stream",
     "text": [
      "Invalid input, try again\n"
     ]
    },
    {
     "name": "stdin",
     "output_type": "stream",
     "text": [
      "Please input either 'Rock', 'Paper' os 'Scisors' Rock\n"
     ]
    },
    {
     "name": "stdout",
     "output_type": "stream",
     "text": [
      "Player chose Rock\n",
      "CPU chose Rock\n",
      "It's a tie!\n"
     ]
    }
   ],
   "source": [
    "import random\n",
    "'''\n",
    "Call for user input how many rounds should be played, rounds need to be odd (1,3,5...).\n",
    "The player will chose either rock, paper, scissors.\n",
    "The CPU will draw a random from rock, paper, scissors.\n",
    "Check if the round is tie, cpu won or player won.\n",
    "Show who chose what and who won.\n",
    "Record the results of each round.\n",
    "'''\n",
    "\n",
    "x = None\n",
    "\n",
    "while True:\n",
    "    x = input(\"How many Rounds do you want to play? Please choose an odd number.\")\n",
    "    x=int(x)\n",
    "    if x % 2 == 1:\n",
    "        print(\"You will play \" + str(x) + \" rounds against CPU.\")\n",
    "        break\n",
    "    else:\n",
    "        print(\"You chose an even number, please try again\")\n",
    "\n",
    "\n",
    "y = None\n",
    "\n",
    "while True:\n",
    "    y = input(\"Please input either 'Rock', 'Paper' os 'Scisors'\")\n",
    "    if y == \"Rock\":\n",
    "        print(\"Player chose Rock\")\n",
    "        break\n",
    "    elif y == (\"Paper\"):\n",
    "        print('Player chose Paper')\n",
    "        break\n",
    "    elif y == \"Scisors\":\n",
    "        print(\"Player chose Scisors\")\n",
    "        break\n",
    "    else:\n",
    "        print(\"Invalid input, try again\")\n",
    "\n",
    "gestures = [\"Rock\",\"Paper\",\"Scisors\"]\n",
    "z=(random.choice(gestures))\n",
    "print(\"CPU chose \" + z)\n",
    "\n",
    "if y==z:\n",
    "    print(\"It's a tie!\")\n",
    "elif y==\"Rock\" and z==\"Paper\":\n",
    "    print(\"CPU wins!\")\n",
    "elif y==\"Rock\" and z==\"Scisors\":\n",
    "    print(\"Player wins!\")\n",
    "elif y==\"Paper\"and z==\"Rock\":\n",
    "    print(\"Player wins!\")\n",
    "elif y==\"Paper\"and z==\"Scisors\":\n",
    "    print(\"CPU wins!\")  \n",
    "elif y==\"Scisors\" and z==\"Rock\":\n",
    "    print(\"CPU wins!\")    \n",
    "elif y==\"Scisors\" and z==\"Paper\":\n",
    "    print(\"Player wins!\")   "
   ]
  },
  {
   "cell_type": "code",
   "execution_count": 87,
   "id": "83f4b0d7-b4ff-4171-8069-3cd2d5305932",
   "metadata": {},
   "outputs": [
    {
     "name": "stdout",
     "output_type": "stream",
     "text": [
      "CPU chose Paper\n"
     ]
    }
   ],
   "source": [
    "gestures = [\"Rock\",\"Paper\",\"Scisors\"]\n",
    "z=(random.choice(gestures))\n",
    "print(\"CPU chose \" + z)"
   ]
  },
  {
   "cell_type": "code",
   "execution_count": 90,
   "id": "9e732d09-7b03-462d-82cf-c6f18a1b5956",
   "metadata": {},
   "outputs": [
    {
     "name": "stdout",
     "output_type": "stream",
     "text": [
      "CPU wins!\n"
     ]
    }
   ],
   "source": [
    "if y==z:\n",
    "    print(\"It's a tie!\")\n",
    "elif y==\"Rock\" and z==\"Paper\":\n",
    "    print(\"CPU wins!\")\n",
    "elif y==\"Rock\" and z==\"Scisors\":\n",
    "    print(\"Player wins!\")\n",
    "elif y==\"Paper\"and z==\"Rock\":\n",
    "    print(\"Player wins!\")\n",
    "elif y==\"Paper\"and z==\"Scisors\":\n",
    "    print(\"CPU wins!\")  \n",
    "elif y==\"Scisors\" and z==\"Rock\":\n",
    "    print(\"CPU wins!\")    \n",
    "elif y==\"Scisors\" and z==\"Paper\":\n",
    "    print(\"Player wins!\")        "
   ]
  }
 ],
 "metadata": {
  "kernelspec": {
   "display_name": "Python 3 (ipykernel)",
   "language": "python",
   "name": "python3"
  },
  "language_info": {
   "codemirror_mode": {
    "name": "ipython",
    "version": 3
   },
   "file_extension": ".py",
   "mimetype": "text/x-python",
   "name": "python",
   "nbconvert_exporter": "python",
   "pygments_lexer": "ipython3",
   "version": "3.9.13"
  }
 },
 "nbformat": 4,
 "nbformat_minor": 5
}
