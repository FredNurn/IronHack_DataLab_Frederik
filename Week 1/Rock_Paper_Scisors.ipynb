{
 "cells": [
  {
   "cell_type": "code",
   "execution_count": 65,
   "id": "5a6230eb-4cd5-48c6-9176-fdc8310d8e43",
   "metadata": {},
   "outputs": [
    {
     "name": "stdin",
     "output_type": "stream",
     "text": [
      "How many Rounds do you want to play? Please choose an odd number. 2\n"
     ]
    },
    {
     "name": "stdout",
     "output_type": "stream",
     "text": [
      "You chose an even number, please try again\n"
     ]
    },
    {
     "name": "stdin",
     "output_type": "stream",
     "text": [
      "How many Rounds do you want to play? Please choose an odd number. 3\n"
     ]
    },
    {
     "name": "stdout",
     "output_type": "stream",
     "text": [
      "You will play 3 rounds against CPU.\n"
     ]
    },
    {
     "name": "stdin",
     "output_type": "stream",
     "text": [
      "Please input either 'Rock', 'Paper' os 'Scisors' lala\n"
     ]
    },
    {
     "name": "stdout",
     "output_type": "stream",
     "text": [
      "Invalid input, try again\n"
     ]
    },
    {
     "name": "stdin",
     "output_type": "stream",
     "text": [
      "Please input either 'Rock', 'Paper' os 'Scisors' Rock\n"
     ]
    },
    {
     "name": "stdout",
     "output_type": "stream",
     "text": [
      "Player chose Rock\n",
      "CPU chose Rock\n",
      "It's a tie!\n"
     ]
    },
    {
     "ename": "NameError",
     "evalue": "name 'soreboard' is not defined",
     "output_type": "error",
     "traceback": [
      "\u001b[1;31m---------------------------------------------------------------------------\u001b[0m",
      "\u001b[1;31mNameError\u001b[0m                                 Traceback (most recent call last)",
      "\u001b[1;32m~\\AppData\\Local\\Temp\\ipykernel_11996\\2507907953.py\u001b[0m in \u001b[0;36m<module>\u001b[1;34m\u001b[0m\n\u001b[0;32m     44\u001b[0m \u001b[1;32mif\u001b[0m \u001b[0my\u001b[0m\u001b[1;33m==\u001b[0m\u001b[0mz\u001b[0m\u001b[1;33m:\u001b[0m\u001b[1;33m\u001b[0m\u001b[1;33m\u001b[0m\u001b[0m\n\u001b[0;32m     45\u001b[0m     \u001b[0mprint\u001b[0m\u001b[1;33m(\u001b[0m\u001b[1;34m\"It's a tie!\"\u001b[0m\u001b[1;33m)\u001b[0m\u001b[1;33m\u001b[0m\u001b[1;33m\u001b[0m\u001b[0m\n\u001b[1;32m---> 46\u001b[1;33m     \u001b[0msoreboard\u001b[0m\u001b[1;33m.\u001b[0m\u001b[0mappend\u001b[0m\u001b[1;33m(\u001b[0m\u001b[1;34m\"t\"\u001b[0m\u001b[1;33m)\u001b[0m\u001b[1;33m\u001b[0m\u001b[1;33m\u001b[0m\u001b[0m\n\u001b[0m\u001b[0;32m     47\u001b[0m \u001b[1;32melif\u001b[0m \u001b[0my\u001b[0m\u001b[1;33m==\u001b[0m\u001b[1;34m\"Rock\"\u001b[0m \u001b[1;32mand\u001b[0m \u001b[0mz\u001b[0m\u001b[1;33m==\u001b[0m\u001b[1;34m\"Paper\"\u001b[0m\u001b[1;33m:\u001b[0m\u001b[1;33m\u001b[0m\u001b[1;33m\u001b[0m\u001b[0m\n\u001b[0;32m     48\u001b[0m     \u001b[0mprint\u001b[0m\u001b[1;33m(\u001b[0m\u001b[1;34m\"CPU wins!\"\u001b[0m\u001b[1;33m)\u001b[0m\u001b[1;33m\u001b[0m\u001b[1;33m\u001b[0m\u001b[0m\n",
      "\u001b[1;31mNameError\u001b[0m: name 'soreboard' is not defined"
     ]
    }
   ],
   "source": [
    "import random\n",
    "'''\n",
    "Call for user input how many rounds should be played, rounds need to be odd (1,3,5...).\n",
    "The player will chose either rock, paper, scissors.\n",
    "The CPU will draw a random from rock, paper, scissors.\n",
    "Check if the round is tie, cpu won or player won.\n",
    "Show who chose what and who won.\n",
    "Record the results of each round.\n",
    "'''\n",
    "\n",
    "x = None\n",
    "\n",
    "while True:\n",
    "    x = input(\"How many Rounds do you want to play? Please choose an odd number.\")\n",
    "    x=int(x)\n",
    "    if x % 2 == 1:\n",
    "        print(\"You will play \" + str(x) + \" rounds against CPU.\")\n",
    "        break\n",
    "    else:\n",
    "        print(\"You chose an even number, please try again\")\n",
    "\n",
    "Scoreboard=[]\n",
    "    \n",
    "y = None\n",
    "\n",
    "while True:\n",
    "    y = input(\"Please input either 'Rock', 'Paper' os 'Scisors'\")\n",
    "    if y == \"Rock\":\n",
    "        print(\"Player chose Rock\")\n",
    "        break\n",
    "    elif y == (\"Paper\"):\n",
    "        print('Player chose Paper')\n",
    "        break\n",
    "    elif y == \"Scisors\":\n",
    "        print(\"Player chose Scisors\")\n",
    "        break\n",
    "    else:\n",
    "        print(\"Invalid input, try again\")\n",
    "\n",
    "gestures = [\"Rock\",\"Paper\",\"Scisors\"]\n",
    "z=(random.choice(gestures))\n",
    "print(\"CPU chose \" + z)\n",
    "\n",
    "if y==z:\n",
    "    print(\"It's a tie!\")\n",
    "    soreboard.append(\"t\")\n",
    "elif y==\"Rock\" and z==\"Paper\":\n",
    "    print(\"CPU wins!\")\n",
    "elif y==\"Rock\" and z==\"Scisors\":\n",
    "    print(\"Player wins!\")\n",
    "elif y==\"Paper\"and z==\"Rock\":\n",
    "    print(\"Player wins!\")\n",
    "elif y==\"Paper\"and z==\"Scisors\":\n",
    "    print(\"CPU wins!\")  \n",
    "elif y==\"Scisors\" and z==\"Rock\":\n",
    "    print(\"CPU wins!\")    \n",
    "elif y==\"Scisors\" and z==\"Paper\":\n",
    "    print(\"Player wins!\")"
   ]
  },
  {
   "cell_type": "code",
   "execution_count": 87,
   "id": "83f4b0d7-b4ff-4171-8069-3cd2d5305932",
   "metadata": {},
   "outputs": [
    {
     "name": "stdout",
     "output_type": "stream",
     "text": [
      "CPU chose Paper\n"
     ]
    }
   ],
   "source": [
    "gestures = [\"Rock\",\"Paper\",\"Scisors\"]\n",
    "z=(random.choice(gestures))\n",
    "print(\"CPU chose \" + z)"
   ]
  },
  {
   "cell_type": "code",
   "execution_count": 90,
   "id": "9e732d09-7b03-462d-82cf-c6f18a1b5956",
   "metadata": {},
   "outputs": [
    {
     "name": "stdout",
     "output_type": "stream",
     "text": [
      "CPU wins!\n"
     ]
    }
   ],
   "source": [
    "if y==z:\n",
    "    print(\"It's a tie!\")\n",
    "elif y==\"Rock\" and z==\"Paper\":\n",
    "    print(\"CPU wins!\")\n",
    "elif y==\"Rock\" and z==\"Scisors\":\n",
    "    print(\"Player wins!\")\n",
    "elif y==\"Paper\"and z==\"Rock\":\n",
    "    print(\"Player wins!\")\n",
    "elif y==\"Paper\"and z==\"Scisors\":\n",
    "    print(\"CPU wins!\")  \n",
    "elif y==\"Scisors\" and z==\"Rock\":\n",
    "    print(\"CPU wins!\")    \n",
    "elif y==\"Scisors\" and z==\"Paper\":\n",
    "    print(\"Player wins!\")        "
   ]
  },
  {
   "cell_type": "code",
   "execution_count": 45,
   "id": "3dc5bc7f-7cbf-4cc0-848d-8edbb7afae7b",
   "metadata": {},
   "outputs": [
    {
     "name": "stdin",
     "output_type": "stream",
     "text": [
      "How many Rounds do you want to play? Please choose an odd number. 3\n"
     ]
    },
    {
     "name": "stdout",
     "output_type": "stream",
     "text": [
      "You will play 3 rounds against CPU.\n"
     ]
    }
   ],
   "source": [
    "n=None # n = rounds to play\n",
    "\n",
    "while True:  \n",
    "    n = input(\"How many Rounds do you want to play? Please choose an odd number.\")\n",
    "    n=int(n)\n",
    "    if n % 2 == 1:\n",
    "        print(\"You will play \" + str(n) + \" rounds against CPU.\")\n",
    "        break\n",
    "    else:\n",
    "        print(\"You chose an even number, please try again\")\n",
    "        \n"
   ]
  },
  {
   "cell_type": "code",
   "execution_count": 57,
   "id": "7590953b-9c67-4f6f-b5d8-2e07920a8948",
   "metadata": {},
   "outputs": [],
   "source": [
    "def cpu_choice():\n",
    "    global z\n",
    "    gestures = [\"Rock\",\"Paper\",\"Scisors\"]\n",
    "    z=(random.choice(gestures))\n",
    "    return(\"CPU chose \" + z)"
   ]
  },
  {
   "cell_type": "code",
   "execution_count": 62,
   "id": "46c92c77-cd7a-47bb-8305-6bc94cd3a9bd",
   "metadata": {},
   "outputs": [
    {
     "name": "stdout",
     "output_type": "stream",
     "text": [
      "Rock\n"
     ]
    }
   ],
   "source": [
    "cpu_choice()\n",
    "print(z)"
   ]
  },
  {
   "cell_type": "code",
   "execution_count": null,
   "id": "1829ed4d-f19e-47c2-bff3-47b74760c733",
   "metadata": {},
   "outputs": [],
   "source": []
  }
 ],
 "metadata": {
  "kernelspec": {
   "display_name": "Python 3 (ipykernel)",
   "language": "python",
   "name": "python3"
  },
  "language_info": {
   "codemirror_mode": {
    "name": "ipython",
    "version": 3
   },
   "file_extension": ".py",
   "mimetype": "text/x-python",
   "name": "python",
   "nbconvert_exporter": "python",
   "pygments_lexer": "ipython3",
   "version": "3.9.13"
  }
 },
 "nbformat": 4,
 "nbformat_minor": 5
}
