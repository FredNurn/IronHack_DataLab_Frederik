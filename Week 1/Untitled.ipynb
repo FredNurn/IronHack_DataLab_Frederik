{
 "cells": [
  {
   "cell_type": "code",
   "execution_count": 2,
   "id": "7ec44481-ad47-48b0-b53c-8990836e88dc",
   "metadata": {},
   "outputs": [],
   "source": [
    "import numpy as np"
   ]
  },
  {
   "cell_type": "code",
   "execution_count": 4,
   "id": "15975953-8efd-487b-9415-80025f1e36e7",
   "metadata": {},
   "outputs": [],
   "source": [
    "a=np.random.random((10,4))"
   ]
  },
  {
   "cell_type": "code",
   "execution_count": 7,
   "id": "582c6acd-7737-4e32-8903-8fca58e28664",
   "metadata": {},
   "outputs": [
    {
     "name": "stdout",
     "output_type": "stream",
     "text": [
      "[[0.42566525 0.08771976 0.99387308 0.80472974]\n",
      " [0.07703801 0.65999428 0.32401327 0.05943412]\n",
      " [0.08556904 0.50811409 0.79122183 0.51633098]\n",
      " [0.53208892 0.63085918 0.10130617 0.97499653]\n",
      " [0.92813223 0.59577146 0.30940802 0.30140551]\n",
      " [0.93941529 0.60066452 0.68614712 0.60319014]\n",
      " [0.25725647 0.67217232 0.38692018 0.59698706]\n",
      " [0.678138   0.3460487  0.58548469 0.76797489]\n",
      " [0.29709628 0.8275101  0.27933587 0.93463585]\n",
      " [0.76155388 0.39244117 0.67652189 0.00566951]]\n"
     ]
    }
   ],
   "source": [
    "print(a)"
   ]
  },
  {
   "cell_type": "code",
   "execution_count": 8,
   "id": "2d106e3d-c713-41a3-b189-9aaae964feb3",
   "metadata": {},
   "outputs": [
    {
     "ename": "NameError",
     "evalue": "name 'shape' is not defined",
     "output_type": "error",
     "traceback": [
      "\u001b[1;31m---------------------------------------------------------------------------\u001b[0m",
      "\u001b[1;31mNameError\u001b[0m                                 Traceback (most recent call last)",
      "\u001b[1;32m~\\AppData\\Local\\Temp\\ipykernel_26144\\267334965.py\u001b[0m in \u001b[0;36m<module>\u001b[1;34m\u001b[0m\n\u001b[1;32m----> 1\u001b[1;33m \u001b[0mshape\u001b[0m\u001b[1;33m(\u001b[0m\u001b[0ma\u001b[0m\u001b[1;33m)\u001b[0m\u001b[1;33m\u001b[0m\u001b[1;33m\u001b[0m\u001b[0m\n\u001b[0m",
      "\u001b[1;31mNameError\u001b[0m: name 'shape' is not defined"
     ]
    }
   ],
   "source": []
  }
 ],
 "metadata": {
  "kernelspec": {
   "display_name": "Python 3 (ipykernel)",
   "language": "python",
   "name": "python3"
  },
  "language_info": {
   "codemirror_mode": {
    "name": "ipython",
    "version": 3
   },
   "file_extension": ".py",
   "mimetype": "text/x-python",
   "name": "python",
   "nbconvert_exporter": "python",
   "pygments_lexer": "ipython3",
   "version": "3.9.13"
  }
 },
 "nbformat": 4,
 "nbformat_minor": 5
}
