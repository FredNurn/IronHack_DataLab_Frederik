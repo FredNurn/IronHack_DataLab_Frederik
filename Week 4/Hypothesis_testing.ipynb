{
 "cells": [
  {
   "cell_type": "code",
   "execution_count": 17,
   "id": "f1591dda-29dc-4bd1-aebd-7571e3ebc869",
   "metadata": {},
   "outputs": [],
   "source": [
    "import numpy as np\n",
    "import pandas as pd\n",
    "import scipy.stats as stats\n",
    "import seaborn as sns\n",
    "import matplotlib.pyplot as plt\n",
    "import math\n",
    "%matplotlib inline"
   ]
  },
  {
   "cell_type": "markdown",
   "id": "7edac86e-405e-4b42-ae72-d8e94567c339",
   "metadata": {},
   "source": [
    "HO: μ = 120 mm Hg <br>\n",
    "H1: μ > 120 mm Hg<br>\n",
    "SD = 21.21 mm Hg<br>\n",
    "\n",
    "The standard deviation of the population is unknown -> we are using Student-t.<br>\n",
    "We want to test a directional hypothesis -> one-tailed Test."
   ]
  },
  {
   "cell_type": "markdown",
   "id": "fbfc207c-4044-4307-b3b9-05169719f33e",
   "metadata": {},
   "source": [
    "We calculate the critical value:"
   ]
  },
  {
   "cell_type": "code",
   "execution_count": 15,
   "id": "0be8c193-bb3e-4625-90bc-b2c63c1e5242",
   "metadata": {},
   "outputs": [
    {
     "name": "stdout",
     "output_type": "stream",
     "text": [
      "The critical value is 1.6604\n"
     ]
    }
   ],
   "source": [
    "print(\"The critical value is\", round(stats.t.ppf(0.95, df=99),4))"
   ]
  },
  {
   "cell_type": "code",
   "execution_count": 25,
   "id": "305fe2d9-e10e-4cc7-95cb-b21d519e3148",
   "metadata": {},
   "outputs": [
    {
     "name": "stdout",
     "output_type": "stream",
     "text": [
      "4.7619\n"
     ]
    }
   ],
   "source": [
    "t = (130.1-120)/(21.21/math.sqrt(100))\n",
    "print(round(t,4))"
   ]
  },
  {
   "cell_type": "markdown",
   "id": "9802315a-c108-4d09-a163-024582efc303",
   "metadata": {},
   "source": [
    "4.7619 > 1.6604 -> We can reject H0."
   ]
  },
  {
   "cell_type": "markdown",
   "id": "44da588b-e575-4b04-9b04-bf18478cdff6",
   "metadata": {},
   "source": [
    "<br>\n",
    "optional\n",
    "<br>"
   ]
  },
  {
   "cell_type": "code",
   "execution_count": 27,
   "id": "8b5a7f26-4dfa-449b-ac98-26e88b7001e0",
   "metadata": {},
   "outputs": [],
   "source": [
    "machine_df = pd.read_excel(\"Machine.xlsx\")"
   ]
  },
  {
   "cell_type": "code",
   "execution_count": 28,
   "id": "431aeee9-db3b-42f8-a9bd-cd22a201cdf8",
   "metadata": {},
   "outputs": [
    {
     "data": {
      "text/html": [
       "<div>\n",
       "<style scoped>\n",
       "    .dataframe tbody tr th:only-of-type {\n",
       "        vertical-align: middle;\n",
       "    }\n",
       "\n",
       "    .dataframe tbody tr th {\n",
       "        vertical-align: top;\n",
       "    }\n",
       "\n",
       "    .dataframe thead th {\n",
       "        text-align: right;\n",
       "    }\n",
       "</style>\n",
       "<table border=\"1\" class=\"dataframe\">\n",
       "  <thead>\n",
       "    <tr style=\"text-align: right;\">\n",
       "      <th></th>\n",
       "      <th>New Machine</th>\n",
       "      <th>Old Machine</th>\n",
       "    </tr>\n",
       "  </thead>\n",
       "  <tbody>\n",
       "    <tr>\n",
       "      <th>0</th>\n",
       "      <td>42.1</td>\n",
       "      <td>42.7</td>\n",
       "    </tr>\n",
       "    <tr>\n",
       "      <th>1</th>\n",
       "      <td>41.0</td>\n",
       "      <td>43.6</td>\n",
       "    </tr>\n",
       "    <tr>\n",
       "      <th>2</th>\n",
       "      <td>41.3</td>\n",
       "      <td>43.8</td>\n",
       "    </tr>\n",
       "    <tr>\n",
       "      <th>3</th>\n",
       "      <td>41.8</td>\n",
       "      <td>43.3</td>\n",
       "    </tr>\n",
       "    <tr>\n",
       "      <th>4</th>\n",
       "      <td>42.4</td>\n",
       "      <td>42.5</td>\n",
       "    </tr>\n",
       "    <tr>\n",
       "      <th>5</th>\n",
       "      <td>42.8</td>\n",
       "      <td>43.5</td>\n",
       "    </tr>\n",
       "    <tr>\n",
       "      <th>6</th>\n",
       "      <td>43.2</td>\n",
       "      <td>43.1</td>\n",
       "    </tr>\n",
       "    <tr>\n",
       "      <th>7</th>\n",
       "      <td>42.3</td>\n",
       "      <td>41.7</td>\n",
       "    </tr>\n",
       "    <tr>\n",
       "      <th>8</th>\n",
       "      <td>41.8</td>\n",
       "      <td>44.0</td>\n",
       "    </tr>\n",
       "    <tr>\n",
       "      <th>9</th>\n",
       "      <td>42.7</td>\n",
       "      <td>44.1</td>\n",
       "    </tr>\n",
       "  </tbody>\n",
       "</table>\n",
       "</div>"
      ],
      "text/plain": [
       "   New Machine  Old Machine\n",
       "0         42.1         42.7\n",
       "1         41.0         43.6\n",
       "2         41.3         43.8\n",
       "3         41.8         43.3\n",
       "4         42.4         42.5\n",
       "5         42.8         43.5\n",
       "6         43.2         43.1\n",
       "7         42.3         41.7\n",
       "8         41.8         44.0\n",
       "9         42.7         44.1"
      ]
     },
     "execution_count": 28,
     "metadata": {},
     "output_type": "execute_result"
    }
   ],
   "source": [
    "machine_df"
   ]
  },
  {
   "cell_type": "code",
   "execution_count": null,
   "id": "3fcc40ee-ffc7-45a6-8c98-981d8257c70a",
   "metadata": {},
   "outputs": [],
   "source": []
  }
 ],
 "metadata": {
  "kernelspec": {
   "display_name": "Python 3 (ipykernel)",
   "language": "python",
   "name": "python3"
  },
  "language_info": {
   "codemirror_mode": {
    "name": "ipython",
    "version": 3
   },
   "file_extension": ".py",
   "mimetype": "text/x-python",
   "name": "python",
   "nbconvert_exporter": "python",
   "pygments_lexer": "ipython3",
   "version": "3.9.13"
  }
 },
 "nbformat": 4,
 "nbformat_minor": 5
}
